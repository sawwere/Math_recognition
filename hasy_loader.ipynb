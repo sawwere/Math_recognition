{
 "cells": [
  {
   "cell_type": "code",
   "execution_count": 7,
   "id": "513e8658",
   "metadata": {},
   "outputs": [],
   "source": [
    "import warnings\n",
    "import torch\n",
    "import torch.utils.data\n",
    "import torchvision\n",
    "import matplotlib.pyplot as plt\n",
    "import numpy as np\n",
    "import pandas as pd\n",
    "import torch.nn as nn\n",
    "\n",
    "\n",
    "from torchvision import transforms\n",
    "from sklearn.model_selection import train_test_split\n",
    "from torch.utils.data import Subset\n",
    "from tqdm import tqdm\n",
    "\n",
    "from pathlib import Path\n",
    "\n",
    "from PIL import Image, ImageOps"
   ]
  },
  {
   "cell_type": "code",
   "execution_count": null,
   "id": "12431402",
   "metadata": {},
   "outputs": [],
   "source": []
  },
  {
   "cell_type": "code",
   "execution_count": 10,
   "id": "7316ad85",
   "metadata": {},
   "outputs": [],
   "source": [
    "df = pd.read_csv(\"HASYv2/hasy-data-labels.csv\")"
   ]
  },
  {
   "cell_type": "code",
   "execution_count": 11,
   "id": "bde8136f",
   "metadata": {},
   "outputs": [
    {
     "name": "stderr",
     "output_type": "stream",
     "text": [
      "C:\\Users\\sawer\\AppData\\Local\\Temp\\ipykernel_5792\\2562536832.py:3: FutureWarning: iteritems is deprecated and will be removed in a future version. Use .items instead.\n",
      "  for items in tqdm(df['path'].iteritems(), total=df[\"path\"].shape[0]):\n",
      "100%|█████████████████████████████████████████████████████████████████████████| 168233/168233 [06:51<00:00, 409.30it/s]\n"
     ]
    },
    {
     "data": {
      "text/plain": [
       "(168233, 32, 32, 3)"
      ]
     },
     "execution_count": 11,
     "metadata": {},
     "output_type": "execute_result"
    }
   ],
   "source": [
    "base = \"HASYv2/\"\n",
    "listOfB = []\n",
    "for items in tqdm(df['path'].iteritems(), total=df[\"path\"].shape[0]): \n",
    "    pil_im = Image.open(base +items[1], 'r')\n",
    "    array1 = np.asarray(pil_im)/255.\n",
    "    listOfB.append(array1)\n",
    "B = np.array(listOfB) \n",
    "B.reshape(df.shape[0], 32, 32, 3)\n",
    "B.shape"
   ]
  },
  {
   "cell_type": "code",
   "execution_count": 19,
   "id": "6a5ba272",
   "metadata": {},
   "outputs": [
    {
     "data": {
      "text/plain": [
       "'A'"
      ]
     },
     "execution_count": 19,
     "metadata": {},
     "output_type": "execute_result"
    },
    {
     "data": {
      "image/png": "[encoded data removed]",
      "text/plain": [
       "<Figure size 640x480 with 1 Axes>"
      ]
     },
     "metadata": {},
     "output_type": "display_data"
    }
   ],
   "source": [
    "df.latex.nunique()\n",
    "plt.imshow(B[0], interpolation='nearest')\n",
    "df.latex[0]"
   ]
  },
  {
   "cell_type": "code",
   "execution_count": null,
   "id": "f47956a5",
   "metadata": {},
   "outputs": [],
   "source": [
    "df.iloc[]"
   ]
  },
  {
   "cell_type": "code",
   "execution_count": 34,
   "id": "b3dd359c",
   "metadata": {},
   "outputs": [
    {
     "name": "stderr",
     "output_type": "stream",
     "text": [
      "C:\\Users\\sawer\\AppData\\Local\\Temp\\ipykernel_5792\\2764614524.py:6: FutureWarning: iteritems is deprecated and will be removed in a future version. Use .items instead.\n",
      "  for items in tqdm(df['path'].iteritems(), total=df[\"path\"].shape[0]):\n",
      "100%|█████████████████████████████████████████████████████████████████████████| 168233/168233 [10:06<00:00, 277.28it/s]\n"
     ]
    }
   ],
   "source": [
    "base = \"HASYv2/\"\n",
    "\n",
    "\n",
    "\n",
    "counter = 0\n",
    "for items in tqdm(df['path'].iteritems(), total=df[\"path\"].shape[0]): \n",
    "    Path('dataset/'+ str(df.symbol_id[counter])).mkdir(parents=True, exist_ok=True)\n",
    "    im = Image.open(base +items[1], 'r')\n",
    "    rsz = transforms.Resize((28,28))\n",
    "    resized = rsz(im)\n",
    "    #inverted_image = ImageOps.invert(im)\n",
    "    #rotated = transforms.functional.vflip(inverted_image)\n",
    "    resized.save('dataset/'+ str(df.symbol_id[counter])+'/'+str(counter)+'.jpg')\n",
    "    counter+=1"
   ]
  },
  {
   "cell_type": "code",
   "execution_count": null,
   "id": "66c285b6",
   "metadata": {},
   "outputs": [],
   "source": []
  }
 ],
 "metadata": {
  "kernelspec": {
   "display_name": "Python 3 (ipykernel)",
   "language": "python",
   "name": "python3"
  },
  "language_info": {
   "codemirror_mode": {
    "name": "ipython",
    "version": 3
   },
   "file_extension": ".py",
   "mimetype": "text/x-python",
   "name": "python",
   "nbconvert_exporter": "python",
   "pygments_lexer": "ipython3",
   "version": "3.10.10"
  }
 },
 "nbformat": 4,
 "nbformat_minor": 5
}
