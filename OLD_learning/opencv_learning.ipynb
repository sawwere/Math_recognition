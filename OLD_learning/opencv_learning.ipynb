{
 "cells": [
  {
   "cell_type": "markdown",
   "id": "a7e5f33d",
   "metadata": {},
   "source": [
    "https://habr.com/ru/post/688316/"
   ]
  },
  {
   "cell_type": "code",
   "execution_count": 1,
   "id": "9d072b87",
   "metadata": {},
   "outputs": [],
   "source": [
    "import cv2\n",
    "import numpy as np"
   ]
  },
  {
   "cell_type": "code",
   "execution_count": 19,
   "id": "3edf8879",
   "metadata": {},
   "outputs": [],
   "source": [
    "IMAGE_NAME = 'test.jpeg'\n",
    "IMAGE_NAME2 = \"3test.jpg\""
   ]
  },
  {
   "cell_type": "code",
   "execution_count": 20,
   "id": "04e1d165",
   "metadata": {},
   "outputs": [],
   "source": [
    "\n",
    "my_photo = cv2.imread(IMAGE_NAME)\n",
    "cv2.imshow('MyPhoto', my_photo)\n",
    "cv2.waitKey(0)\n",
    "cv2.destroyAllWindows()"
   ]
  },
  {
   "cell_type": "code",
   "execution_count": 21,
   "id": "6d198035",
   "metadata": {},
   "outputs": [],
   "source": [
    "def resize_image(image, dst):\n",
    "    #Подготовим новые размеры\n",
    "    r = float(dst) / image.shape[1]\n",
    "    dim = (dst, int(image.shape[0] * r))\n",
    "    # уменьшаем изображение до подготовленных размеров\n",
    "    return cv2.resize(image, (dst, dst), interpolation = cv2.INTER_AREA)"
   ]
  },
  {
   "cell_type": "code",
   "execution_count": 22,
   "id": "49387984",
   "metadata": {},
   "outputs": [],
   "source": [
    "def apply_filter(image, filter):\n",
    "    return cv2.filter2D(image, -1, filter)"
   ]
  },
  {
   "cell_type": "code",
   "execution_count": 23,
   "id": "350fe3fb",
   "metadata": {},
   "outputs": [],
   "source": [
    "#Считывание изображения в черно-белом формате\n",
    "img = cv2.imread('IMAGE_NAME', cv2.IMREAD_GRAYSCALE)\n",
    "#преобразование изображения в черно белое\n",
    "gray = cv2.cvtColor(my_photo, cv2.COLOR_BGR2GRAY) \n",
    "cv2.imshow('MyPhoto', gray)\n",
    "cv2.waitKey(0)\n",
    "\n",
    "cv2.destroyAllWindows()"
   ]
  },
  {
   "cell_type": "code",
   "execution_count": 24,
   "id": "79b141f7",
   "metadata": {},
   "outputs": [],
   "source": [
    "#Размытие\n",
    "my_photo = cv2.imread(IMAGE_NAME)\n",
    "average_image = cv2.blur(my_photo,(7,7))\n",
    "cv2.imshow('BLUR', average_image)\n",
    "cv2.waitKey(0)\n",
    "cv2.destroyAllWindows()"
   ]
  },
  {
   "cell_type": "code",
   "execution_count": 25,
   "id": "3d5c69a2",
   "metadata": {},
   "outputs": [],
   "source": [
    "#Фильтр Гаусса\n",
    "my_photo = cv2.imread(IMAGE_NAME)\n",
    "gaussian_image  = cv2.GaussianBlur(my_photo,(7,7),0)\n",
    "cv2.imshow('GAUSSian', gaussian_image )\n",
    "cv2.waitKey(0)\n",
    "cv2.destroyAllWindows()"
   ]
  },
  {
   "cell_type": "code",
   "execution_count": 27,
   "id": "59fcb1e8",
   "metadata": {},
   "outputs": [],
   "source": [
    "#Применения фильтра\n",
    "my_photo = cv2.imread(IMAGE_NAME)\n",
    "kernel = np.array([[-1,-1,-1], \n",
    "                   [-1, 9,-1], \n",
    "                   [-1,-1,-1]])\n",
    "im = cv2.filter2D(my_photo, -1, kernel)\n",
    "cv2.imshow('MyPhoto', im )\n",
    "cv2.waitKey(0)\n",
    "cv2.destroyAllWindows()"
   ]
  },
  {
   "cell_type": "code",
   "execution_count": 10,
   "id": "a1b1e5ff",
   "metadata": {},
   "outputs": [],
   "source": [
    "#фильтр Собеля\n",
    "my_photo = cv2.imread(IMAGE_NAME,cv2.IMREAD_GRAYSCALE)\n",
    "kernel = np.array([[-1,0,1], \n",
    "                   [-2,0,2], \n",
    "                   [-1,0,1]])\n",
    "im = cv2.filter2D(my_photo, -1, kernel)\n",
    "cv2.imshow('MyPhoto', im )\n",
    "cv2.waitKey(0)\n",
    "cv2.destroyAllWindows()\n",
    "kernel = np.array([[-1,0,1], \n",
    "                   [-2,0,2], \n",
    "                   [-1,0,1]])\n",
    "im = cv2.filter2D(im, -1, kernel)\n",
    "cv2.imshow('MyPhoto', im )\n",
    "cv2.waitKey(0)\n",
    "cv2.destroyAllWindows()"
   ]
  },
  {
   "cell_type": "code",
   "execution_count": 11,
   "id": "04539370",
   "metadata": {},
   "outputs": [],
   "source": [
    "#фильтр Лапласа - выделение контуров\n",
    "my_photo = cv2.imread(IMAGE_NAME,cv2.IMREAD_GRAYSCALE)\n",
    "kernel = np.array([[0, 1, 0], \n",
    "                   [1,-4, 1], \n",
    "                   [0, 1, 0]])\n",
    "cv2.imshow('MyPhoto', apply_filter(my_photo, kernel) )\n",
    "cv2.waitKey(0)\n",
    "cv2.destroyAllWindows()"
   ]
  },
  {
   "cell_type": "code",
   "execution_count": 12,
   "id": "fdccaaaa",
   "metadata": {},
   "outputs": [],
   "source": [
    "my_photo = cv2.imread(IMAGE_NAME)\n",
    "img_grey = cv2.cvtColor(my_photo,cv2.COLOR_BGR2GRAY)\n",
    "\n",
    "#зададим порог\n",
    "thresh = 100\n",
    "\n",
    "#получим картинку, обрезанную порогом\n",
    "ret,thresh_img = cv2.threshold(img_grey, thresh, 255, cv2.THRESH_BINARY)\n",
    "\n",
    "#надем контуры\n",
    "contours, hierarchy = cv2.findContours(thresh_img, cv2.RETR_TREE, cv2.CHAIN_APPROX_SIMPLE)\n",
    "\n",
    "#создадим пустую картинку\n",
    "img_contours = np.zeros(my_photo.shape)\n",
    "\n",
    "#отобразим контуры\n",
    "cv2.drawContours(img_contours, contours, -1, (255,255,255), 1)\n",
    "\n",
    "cv2.imshow('contours', img_contours) # выводим итоговое изображение в окно\n",
    "\n",
    "cv2.waitKey()\n",
    "cv2.destroyAllWindows()"
   ]
  },
  {
   "cell_type": "code",
   "execution_count": 13,
   "id": "1c2e144b",
   "metadata": {},
   "outputs": [],
   "source": [
    "image = cv2.imread(IMAGE_NAME)\n",
    "#image = resize_image(image, 256)\n",
    "image = cv2.medianBlur(image,5)\n",
    "img_grey = cv2.cvtColor(image,cv2.COLOR_BGR2GRAY)\n",
    "\n",
    "#set a thresh\n",
    "thresh = 180\n",
    "\n",
    "#get threshold image\n",
    "ret,thresh_img = cv2.threshold(img_grey, thresh, 255, cv2.THRESH_BINARY)\n",
    "\n",
    "#find contours\n",
    "contours, hierarchy = cv2.findContours(thresh_img, cv2.RETR_TREE, cv2.CHAIN_APPROX_SIMPLE)\n",
    "\n",
    "#create an empty image for contours\n",
    "img_contours = np.zeros(image.shape)\n",
    "\n",
    "# draw the contours on the empty image\n",
    "cv2.drawContours(img_contours, contours, -1, (255,255,255), 1)\n",
    "\n",
    "cv2.imshow('contours', img_contours) # выводим итоговое изображение в окно\n",
    "\n",
    "cv2.waitKey()\n",
    "cv2.destroyAllWindows()"
   ]
  },
  {
   "cell_type": "code",
   "execution_count": 14,
   "id": "65ebcbf1",
   "metadata": {},
   "outputs": [],
   "source": [
    "IMAGE_NAME = 'real.jpg'\n",
    "image = cv2.imread(IMAGE_NAME)\n",
    "# cv2.imshow('contours', image)\n",
    "# cv2.waitKey()\n",
    "# cv2.destroyAllWindows()\n",
    "# image = resize_image(image, 256)\n",
    "\n",
    "img_grey = cv2.cvtColor(image,cv2.COLOR_BGR2GRAY)\n",
    "\n",
    "#set a thresh\n",
    "thresh = 90\n",
    "\n",
    "#get threshold image\n",
    "ret,thresh_img = cv2.threshold(img_grey, thresh, 255, cv2.THRESH_BINARY)\n",
    "\n",
    "#find contours\n",
    "contours, hierarchy = cv2.findContours(thresh_img, cv2.RETR_TREE, cv2.CHAIN_APPROX_SIMPLE)\n",
    "# cv2.imshow('contours', thresh_img)\n",
    "# cv2.waitKey()\n",
    "# cv2.destroyAllWindows()\n",
    "\n",
    "\n",
    "img_contours = np.uint8(np.zeros((image.shape[0],image.shape[1])))\n",
    "cv2.drawContours(img_contours, contours, -1, (255,255,255), 1)\n",
    "\n",
    "cv2.imshow('contours', img_contours) # выводим итоговое изображение в окно\n",
    "\n",
    "cv2.waitKey()\n",
    "cv2.destroyAllWindows()"
   ]
  },
  {
   "cell_type": "code",
   "execution_count": 15,
   "id": "eb840d36",
   "metadata": {},
   "outputs": [],
   "source": [
    "sel_countours=[]\n",
    "sel_countours.append(contours[0])\n",
    "#sel_countours.append(contours[0])\n",
    "#sel_countours.append(contours[0])\n",
    "cv2.drawContours(img_contours, sel_countours, -1, (255,255,255), 1)\n",
    "cv2.imshow('contours', img_contours)\n",
    "cv2.waitKey()\n",
    "cv2.destroyAllWindows()\n"
   ]
  },
  {
   "cell_type": "code",
   "execution_count": 16,
   "id": "13df3984",
   "metadata": {},
   "outputs": [],
   "source": [
    "# Контур наибольшего размера\n",
    "img_contours = np.uint8(np.zeros((image.shape[0],image.shape[1])))\n",
    "max=0\n",
    "sel_countour=None\n",
    "for countour in contours:\n",
    "    if countour.shape[0]>max:\n",
    "        sel_countour=countour\n",
    "        max=countour.shape[0]\n",
    "\n",
    "cv2.drawContours(img_contours, [sel_countour], -1, (255,255,255), 1)\n",
    "cv2.imshow('contours', img_contours)\n",
    "cv2.waitKey()\n",
    "cv2.destroyAllWindows()"
   ]
  },
  {
   "cell_type": "code",
   "execution_count": 17,
   "id": "ccb51a65",
   "metadata": {},
   "outputs": [
    {
     "name": "stdout",
     "output_type": "stream",
     "text": [
      "(86, 155)\n",
      "(131, 150)\n",
      "(621, 144)\n",
      "(116, 144)\n",
      "(153, 138)\n",
      "(464, 78)\n",
      "(0, 48)\n",
      "(790, 692)\n",
      "(16, 658)\n",
      "(802, 620)\n",
      "(801, 578)\n",
      "(407, 548)\n",
      "(359, 524)\n",
      "(284, 521)\n",
      "(417, 517)\n",
      "(407, 517)\n",
      "(560, 504)\n",
      "(823, 496)\n",
      "(223, 488)\n",
      "(360, 487)\n",
      "(490, 482)\n",
      "(510, 477)\n",
      "(370, 427)\n",
      "(5, 402)\n",
      "(293, 396)\n",
      "(375, 387)\n",
      "(210, 385)\n",
      "(772, 384)\n",
      "(41, 372)\n",
      "(771, 341)\n",
      "(245, 300)\n",
      "(440, 280)\n",
      "(191, 268)\n",
      "(669, 266)\n",
      "(347, 259)\n",
      "(350, 297)\n",
      "(585, 249)\n",
      "(535, 242)\n",
      "(547, 253)\n",
      "(682, 215)\n",
      "(86, 197)\n",
      "(656, 183)\n",
      "(262, 119)\n",
      "(287, 113)\n",
      "(348, 82)\n",
      "(401, 68)\n"
     ]
    }
   ],
   "source": [
    "# Прямоугольники контуров\n",
    "\n",
    "image = cv2.imread(IMAGE_NAME)\n",
    "imgray = cv2.cvtColor(image, cv2.COLOR_BGR2GRAY)\n",
    "ret, thresh = cv2.threshold(imgray, 127, 255, 0)\n",
    "contours, hierarchy = cv2.findContours(thresh, cv2.RETR_TREE, cv2.CHAIN_APPROX_SIMPLE)\n",
    "hierarchy.shape\n",
    "for c in contours:\n",
    "        if cv2.contourArea(c) <= 50 :\n",
    "            continue    \n",
    "        x,y,w,h = cv2.boundingRect(c)\n",
    "        rect = cv2.rectangle(image, (x, y), (x + w, y + h), (0, 255,0), 2)\n",
    "        center = (x,y)\n",
    "        print (center)\n",
    "        cv2.imwrite('b.jpg', rect)\n",
    "\n",
    "        crop_img = image[y:y+h, x:x+w]\n",
    "        crop_img = resize_image(crop_img, 256)\n",
    "        #cv2.imshow(\"cropped\", crop_img)\n",
    "        #cv2.waitKey(0)\n",
    "\n",
    "        if cv2.waitKey(20) & 0xFF == 27:\n",
    "            break\n",
    "cv2.destroyAllWindows()"
   ]
  },
  {
   "cell_type": "code",
   "execution_count": null,
   "id": "a0d14ec6",
   "metadata": {},
   "outputs": [],
   "source": []
  }
 ],
 "metadata": {
  "kernelspec": {
   "display_name": "Python 3 (ipykernel)",
   "language": "python",
   "name": "python3"
  },
  "language_info": {
   "codemirror_mode": {
    "name": "ipython",
    "version": 3
   },
   "file_extension": ".py",
   "mimetype": "text/x-python",
   "name": "python",
   "nbconvert_exporter": "python",
   "pygments_lexer": "ipython3",
   "version": "3.10.10"
  }
 },
 "nbformat": 4,
 "nbformat_minor": 5
}
