{
 "cells": [
  {
   "cell_type": "code",
   "execution_count": 1,
   "id": "5778766f",
   "metadata": {},
   "outputs": [],
   "source": [
    "import torch\n",
    "import torch.utils.data\n",
    "import torchvision\n",
    "import matplotlib.pyplot as plt\n",
    "import numpy as np\n",
    "\n",
    "from torchvision import transforms\n",
    "from sklearn.model_selection import train_test_split\n",
    "from torch.utils.data import Subset\n",
    "from tqdm import tqdm\n",
    "from PIL import Image, ImageOps\n",
    "\n",
    "import torch.nn as nn\n",
    "\n",
    "import models.MathNet as mnt\n",
    "import models.MathNet20 as mnt20\n",
    "import models.MathNet56 as mnt56"
   ]
  },
  {
   "cell_type": "code",
   "execution_count": 2,
   "id": "85dd812d",
   "metadata": {},
   "outputs": [],
   "source": [
    "BATCH_SIZE = 128\n",
    "EPOCHS = 31\n",
    "IMAGE_SIZE = 224"
   ]
  },
  {
   "cell_type": "code",
   "execution_count": 3,
   "id": "855cae2b",
   "metadata": {},
   "outputs": [],
   "source": [
    "# the training transforms\n",
    "train_transform = transforms.Compose([\n",
    "    transforms.Grayscale(1),\n",
    "    transforms.ToTensor()\n",
    "    #transforms.Normalize(std=0.5, mean=0.2)\n",
    "    \n",
    "])\n",
    "# the validation transforms\n",
    "valid_transform = transforms.Compose([\n",
    "    transforms.Grayscale(1),\n",
    "    transforms.ToTensor()\n",
    "])"
   ]
  },
  {
   "cell_type": "code",
   "execution_count": 42,
   "id": "c8bc27a5",
   "metadata": {},
   "outputs": [
    {
     "name": "stdout",
     "output_type": "stream",
     "text": [
      "123953\n"
     ]
    }
   ],
   "source": [
    "dataset = torchvision.datasets.ImageFolder(r'G:\\TRAIN\\dataset_balance', transform=train_transform)\n",
    "print(len(dataset))"
   ]
  },
  {
   "cell_type": "code",
   "execution_count": 43,
   "id": "59c245a7",
   "metadata": {},
   "outputs": [
    {
     "data": {
      "text/plain": [
       "['(',\n",
       " ')',\n",
       " '+',\n",
       " ',',\n",
       " '-',\n",
       " '0',\n",
       " '1',\n",
       " '2',\n",
       " '3',\n",
       " '4',\n",
       " '5',\n",
       " '6',\n",
       " '7',\n",
       " '8',\n",
       " '9',\n",
       " 'A',\n",
       " 'F',\n",
       " 'alpha',\n",
       " 'and',\n",
       " 'beta',\n",
       " 'delta',\n",
       " 'exists',\n",
       " 'forall',\n",
       " 'gamma',\n",
       " 'lambda',\n",
       " 'mu',\n",
       " 'not',\n",
       " 'omega',\n",
       " 'or',\n",
       " 'phi',\n",
       " 'pi',\n",
       " 'psi',\n",
       " 'rightarrow',\n",
       " 'sigma',\n",
       " 'tau',\n",
       " 'theta',\n",
       " 'upsilon',\n",
       " 'x',\n",
       " 'y',\n",
       " 'z']"
      ]
     },
     "execution_count": 43,
     "metadata": {},
     "output_type": "execute_result"
    }
   ],
   "source": [
    "classes_dict = dataset.class_to_idx\n",
    "classes = []\n",
    "for key in classes_dict.keys():\n",
    "    classes.append(str(key))\n",
    "classes.sort()\n",
    "classes"
   ]
  },
  {
   "cell_type": "code",
   "execution_count": 44,
   "id": "57fb51bd",
   "metadata": {},
   "outputs": [
    {
     "data": {
      "text/plain": [
       "40"
      ]
     },
     "execution_count": 44,
     "metadata": {},
     "output_type": "execute_result"
    }
   ],
   "source": [
    "# classes = ['(', ')', ',', '-', \n",
    "#                    '0', '1', '2', '3', '4', '5', '6', '7', '8', '9', \n",
    "#                    'A', '[', 'α', 'and', 'β', '∃', 'F', '∀', \n",
    "#                    'γ', 'λ', 'μ', 'ω', 'or', 'φ', '→', \n",
    "#                    'σ', 'sqrt', 'θ', 'v', 'x', 'y', 'z']\n",
    "\n",
    "NUM_CLASSES = len(classes)\n",
    "\n",
    "def map_pred(ind):\n",
    "    if ind < NUM_CLASSES:\n",
    "        return classes[ind]\n",
    "    return 'ERROR MAPPIMG'\n",
    "\n",
    "NUM_CLASSES"
   ]
  },
  {
   "cell_type": "code",
   "execution_count": 45,
   "id": "0f9e5b8e",
   "metadata": {},
   "outputs": [
    {
     "data": {
      "text/plain": [
       "device(type='cuda', index=0)"
      ]
     },
     "execution_count": 45,
     "metadata": {},
     "output_type": "execute_result"
    }
   ],
   "source": [
    "device = torch.device('cuda:0' if torch.cuda.is_available() else 'cpu')\n",
    "#device = 'cpu'\n",
    "device"
   ]
  },
  {
   "cell_type": "code",
   "execution_count": 46,
   "id": "e998c95a",
   "metadata": {},
   "outputs": [],
   "source": [
    "def add_contrast(x, factor):\n",
    "    return transforms.functional.adjust_contrast(x, factor)"
   ]
  },
  {
   "cell_type": "code",
   "execution_count": 47,
   "id": "20e6de95",
   "metadata": {},
   "outputs": [
    {
     "name": "stdout",
     "output_type": "stream",
     "text": [
      "tensor(0.7992) tensor(0.3780)\n"
     ]
    }
   ],
   "source": [
    "mean, std = dataset[0][0].mean(), dataset[0][0].std()\n",
    "print(mean, std)"
   ]
  },
  {
   "cell_type": "code",
   "execution_count": null,
   "id": "2ca48cdf",
   "metadata": {},
   "outputs": [],
   "source": []
  },
  {
   "cell_type": "code",
   "execution_count": 48,
   "id": "df59ecba",
   "metadata": {},
   "outputs": [],
   "source": [
    "def train_val_dataset(dataset, val_split=0.2):\n",
    "    train_idx, val_idx = train_test_split(list(range(len(dataset))), test_size=val_split)\n",
    "    datasets = {}\n",
    "    datasets['train'] = Subset(dataset, train_idx)\n",
    "    datasets['val'] = Subset(dataset, val_idx)\n",
    "    return datasets"
   ]
  },
  {
   "cell_type": "code",
   "execution_count": 51,
   "id": "cff00530",
   "metadata": {},
   "outputs": [
    {
     "name": "stdout",
     "output_type": "stream",
     "text": [
      "<class 'torch.utils.data.dataset.Subset'>\n",
      "24791\n"
     ]
    }
   ],
   "source": [
    "datasets = train_val_dataset(dataset)\n",
    "print(type(datasets['train']))\n",
    "print(len(datasets['val']))\n",
    "# The original dataset is avail\n"
   ]
  },
  {
   "cell_type": "code",
   "execution_count": 53,
   "id": "3ba81579",
   "metadata": {},
   "outputs": [
    {
     "name": "stdout",
     "output_type": "stream",
     "text": [
      "Dataset ImageFolder\n",
      "    Number of datapoints: 123953\n",
      "    Root location: G:\\TRAIN\\dataset_balance\n",
      "    StandardTransform\n",
      "Transform: Compose(\n",
      "               Grayscale(num_output_channels=1)\n",
      "               ToTensor()\n",
      "           )\n"
     ]
    }
   ],
   "source": [
    "print(dataset)"
   ]
  },
  {
   "cell_type": "code",
   "execution_count": null,
   "id": "65ff2203",
   "metadata": {},
   "outputs": [],
   "source": []
  },
  {
   "cell_type": "code",
   "execution_count": 54,
   "id": "e1f99cb4",
   "metadata": {},
   "outputs": [
    {
     "name": "stdout",
     "output_type": "stream",
     "text": [
      "24791\n",
      "10\n"
     ]
    },
    {
     "data": {
      "image/jpeg": "[encoded data removed]",
      "image/png": "[encoded data removed]",
      "text/plain": [
       "<PIL.Image.Image image mode=L size=224x224>"
      ]
     },
     "metadata": {},
     "output_type": "display_data"
    }
   ],
   "source": [
    "# training dataset\n",
    "train_dataset = datasets['train']\n",
    "# validation dataset\n",
    "valid_dataset = (datasets['val'])\n",
    "# training data loaders\n",
    "train_loader = torch.utils.data.DataLoader(\n",
    "    train_dataset, batch_size=BATCH_SIZE, shuffle=True,\n",
    "    num_workers=6, pin_memory=True\n",
    ")\n",
    "# validation data loaders\n",
    "valid_loader = torch.utils.data.DataLoader(\n",
    "    valid_dataset, batch_size=BATCH_SIZE, shuffle=False,\n",
    "    num_workers=6, pin_memory=True\n",
    ")\n",
    "# training data loaders\n",
    "\n",
    "train_dataset\n",
    "print(len(valid_dataset))\n",
    "print(valid_dataset[15551][1])\n",
    "#print(valid_dataset.dataset.targets)\n",
    "aaa = transforms.ToPILImage()\n",
    "display(aaa(valid_dataset[15551][0]))"
   ]
  },
  {
   "cell_type": "code",
   "execution_count": 55,
   "id": "554ce12d",
   "metadata": {},
   "outputs": [
    {
     "name": "stdout",
     "output_type": "stream",
     "text": [
      "Counter({30: 4650, 4: 4569, 27: 3613, 35: 3418, 32: 3272, 39: 3164, 10: 3122, 22: 3115, 18: 3076, 29: 3055, 38: 2956, 15: 2919, 7: 2802, 6: 2792, 36: 2738, 9: 2680, 37: 2623, 17: 2608, 14: 2543, 26: 2541, 0: 2497, 13: 2489, 28: 2444, 5: 2437, 1: 2405, 12: 2378, 23: 2315, 21: 2304, 11: 2268, 8: 2164, 2: 2083, 19: 2070, 16: 1750, 3: 1519, 25: 1288, 33: 1221, 20: 1017, 31: 888, 24: 880, 34: 489})\n",
      "Counter({30: 1125, 4: 1064, 27: 947, 35: 902, 32: 868, 22: 827, 18: 794, 36: 768, 10: 754, 29: 751, 39: 730, 7: 714, 37: 710, 15: 693, 38: 692, 6: 688, 17: 662, 9: 656, 13: 649, 14: 637, 0: 605, 5: 602, 26: 597, 1: 594, 11: 588, 28: 580, 12: 568, 21: 564, 8: 554, 23: 546, 2: 538, 19: 516, 16: 482, 3: 387, 25: 335, 33: 304, 20: 229, 31: 227, 24: 225, 34: 119})\n"
     ]
    }
   ],
   "source": [
    "from collections import Counter\n",
    "#train_classes = [label for _, label in valid_dataset]\n",
    "#Counter(train_classes)\n",
    "train_classes = [dataset.targets[i] for i in train_dataset.indices]\n",
    "valid_classes = [dataset.targets[i] for i in valid_dataset.indices]\n",
    "print(Counter(train_classes))\n",
    "print(Counter(valid_classes))\n"
   ]
  },
  {
   "cell_type": "code",
   "execution_count": 56,
   "id": "249dbfe8",
   "metadata": {},
   "outputs": [
    {
     "name": "stdout",
     "output_type": "stream",
     "text": [
      "{0: 3102, 1: 2999, 2: 2621, 3: 1906, 4: 5633, 5: 3039, 6: 3480, 7: 3516, 8: 2718, 9: 3336, 10: 3876, 11: 2856, 12: 2946, 13: 3138, 14: 3180, 15: 3612, 16: 2232, 17: 3270, 18: 3870, 19: 2586, 20: 1246, 21: 2868, 22: 3942, 23: 2861, 24: 1105, 25: 1623, 26: 3138, 27: 4560, 28: 3024, 29: 3806, 30: 5775, 31: 1115, 32: 4140, 33: 1525, 34: 608, 35: 4320, 36: 3506, 37: 3333, 38: 3648, 39: 3894}\n"
     ]
    }
   ],
   "source": [
    "d = dict(Counter(valid_dataset.dataset.targets))\n",
    "print(d)"
   ]
  },
  {
   "cell_type": "code",
   "execution_count": 57,
   "id": "8304083c",
   "metadata": {},
   "outputs": [
    {
     "data": {
      "text/plain": [
       "<Axes: ylabel='Сharactrs'>"
      ]
     },
     "execution_count": 57,
     "metadata": {},
     "output_type": "execute_result"
    },
    {
     "data": {
      "image/png": "[encoded data removed]",
      "text/plain": [
       "<Figure size 1000x1000 with 1 Axes>"
      ]
     },
     "metadata": {},
     "output_type": "display_data"
    }
   ],
   "source": [
    "import pandas as pd\n",
    "df = pd.Series(data=d,name='Сharactrs')    \n",
    "df.plot(labels=classes,kind='pie',figsize=(10,10))"
   ]
  },
  {
   "cell_type": "code",
   "execution_count": null,
   "id": "f1950497",
   "metadata": {},
   "outputs": [],
   "source": []
  },
  {
   "cell_type": "code",
   "execution_count": 58,
   "id": "b8e71525",
   "metadata": {},
   "outputs": [],
   "source": [
    "# training\n",
    "def train(model, trainloader, optimizer, loss_function):\n",
    "    model.train()\n",
    "    print('Training')\n",
    "    train_running_loss = 0.0\n",
    "    train_running_correct = 0\n",
    "    counter = 0\n",
    "    for i, data in tqdm(enumerate(trainloader), total=int(len(trainloader))):\n",
    "        counter += 1\n",
    "        optimizer.zero_grad()\n",
    "        x, y = data\n",
    "        x = x.to(device)      \n",
    "        y = y.to(device)       \n",
    "        outputs = model.forward(x)\n",
    "        loss = loss_function(outputs, y)\n",
    "        train_running_loss += loss.item()\n",
    "        _, preds = torch.max(outputs.data, 1)\n",
    "        train_running_correct += (preds == y).sum().item()\n",
    "        loss.backward()\n",
    "        optimizer.step()\n",
    "    \n",
    "    # loss and accuracy for the complete epoch\n",
    "    epoch_loss = train_running_loss / counter\n",
    "    epoch_acc = 100. * (train_running_correct / len(trainloader.dataset))\n",
    "    return epoch_loss, epoch_acc"
   ]
  },
  {
   "cell_type": "code",
   "execution_count": 59,
   "id": "58c52970",
   "metadata": {},
   "outputs": [],
   "source": [
    "def validate(model, testloader, loss_function):\n",
    "    model.eval()\n",
    "    print('Validation')\n",
    "    valid_running_loss = 0.0\n",
    "    valid_running_correct = 0\n",
    "    counter = 0\n",
    "    with torch.no_grad():\n",
    "        for i, data in tqdm(enumerate(testloader), total=int(len(testloader))):\n",
    "            counter += 1\n",
    "            x, y = data\n",
    "            x = x.to(device)      \n",
    "            y = y.to(device)\n",
    "            # forward pass\n",
    "            outputs = model(x)\n",
    "            # calculate the loss\n",
    "            loss = loss_function(outputs, y)\n",
    "            valid_running_loss += loss.item()\n",
    "            # calculate the accuracy\n",
    "            _, preds = torch.max(outputs.data, 1)\n",
    "            valid_running_correct += (preds == y).sum().item()\n",
    "        \n",
    "    # loss and accuracy for the complete epoch\n",
    "    epoch_loss = valid_running_loss / counter\n",
    "    epoch_acc = 100. * (valid_running_correct / len(testloader.dataset))\n",
    "    return epoch_loss, epoch_acc"
   ]
  },
  {
   "cell_type": "code",
   "execution_count": 60,
   "id": "301b7f12",
   "metadata": {},
   "outputs": [
    {
     "data": {
      "text/plain": [
       "models.MathNet.MathNet"
      ]
     },
     "execution_count": 60,
     "metadata": {},
     "output_type": "execute_result"
    }
   ],
   "source": [
    "if (IMAGE_SIZE == 56):\n",
    "    model = mnt56.MathNet56()\n",
    "elif (IMAGE_SIZE == 224):\n",
    "    model = mnt.MathNet()\n",
    "\n",
    "model = mnt.MathNet()\n",
    "\n",
    "torch.cuda.empty_cache()\n",
    "\n",
    "device = torch.device('cuda:0' if torch.cuda.is_available() else 'cpu')\n",
    "#device = 'cpu'\n",
    "model = model.to(device)\n",
    "device\n",
    "type(model)"
   ]
  },
  {
   "cell_type": "code",
   "execution_count": 61,
   "id": "49023093",
   "metadata": {},
   "outputs": [],
   "source": [
    "loss = torch.nn.CrossEntropyLoss()\n",
    "optimizer = torch.optim.Adam(model.parameters(), lr=1.0e-4)"
   ]
  },
  {
   "cell_type": "code",
   "execution_count": 62,
   "id": "a65daf13",
   "metadata": {},
   "outputs": [],
   "source": [
    "def save_plots(train_acc, valid_acc, train_loss, valid_loss, label=''):\n",
    "    \"\"\"\n",
    "    Function to save the loss and accuracy plots to disk.\n",
    "    \"\"\"\n",
    "    # accuracy plots\n",
    "    plt.figure(figsize=(10, 7))\n",
    "    plt.plot(\n",
    "        train_acc, color='green', linestyle='-', \n",
    "        label='train accuracy'\n",
    "    )\n",
    "    plt.plot(\n",
    "        valid_acc, color='blue', linestyle='-', \n",
    "        label='validataion accuracy'\n",
    "    )\n",
    "    plt.xlabel('Epochs')\n",
    "    plt.ylabel('Accuracy')\n",
    "    plt.legend()\n",
    "    plt.savefig('outputs/mathnet'+str(IMAGE_SIZE)+'_accuracy'+label+'.png')\n",
    "    \n",
    "    # loss plots\n",
    "    plt.figure(figsize=(10, 7))\n",
    "    plt.plot(\n",
    "        train_loss, color='orange', linestyle='-', \n",
    "        label='train loss'\n",
    "    )\n",
    "    plt.plot(\n",
    "        valid_loss, color='red', linestyle='-', \n",
    "        label='validataion loss'\n",
    "    )\n",
    "    plt.xlabel('Epochs')\n",
    "    plt.ylabel('Loss')\n",
    "    plt.legend()\n",
    "    plt.savefig('outputs/mathnet'+str(IMAGE_SIZE)+'_loss'+label+'.png')"
   ]
  },
  {
   "cell_type": "code",
   "execution_count": 63,
   "id": "3888f251",
   "metadata": {
    "scrolled": true
   },
   "outputs": [
    {
     "name": "stdout",
     "output_type": "stream",
     "text": [
      "[INFO]: Epoch 1 of 31\n",
      "Training\n"
     ]
    },
    {
     "name": "stderr",
     "output_type": "stream",
     "text": [
      "100%|██████████| 775/775 [02:05<00:00,  6.16it/s]\n"
     ]
    },
    {
     "name": "stdout",
     "output_type": "stream",
     "text": [
      "Validation\n"
     ]
    },
    {
     "name": "stderr",
     "output_type": "stream",
     "text": [
      "100%|██████████| 194/194 [00:23<00:00,  8.24it/s]\n"
     ]
    },
    {
     "name": "stdout",
     "output_type": "stream",
     "text": [
      "Training loss: 0.415, training acc: 90.172\n",
      "Validation loss: 0.174, validation acc: 95.458\n",
      "--------------------------------------------------\n",
      "[INFO]: Epoch 2 of 31\n",
      "Training\n"
     ]
    },
    {
     "name": "stderr",
     "output_type": "stream",
     "text": [
      "100%|██████████| 775/775 [02:04<00:00,  6.24it/s]\n"
     ]
    },
    {
     "name": "stdout",
     "output_type": "stream",
     "text": [
      "Validation\n"
     ]
    },
    {
     "name": "stderr",
     "output_type": "stream",
     "text": [
      "100%|██████████| 194/194 [00:10<00:00, 17.90it/s]\n"
     ]
    },
    {
     "name": "stdout",
     "output_type": "stream",
     "text": [
      "Training loss: 0.121, training acc: 96.675\n",
      "Validation loss: 0.106, validation acc: 96.854\n",
      "--------------------------------------------------\n",
      "[INFO]: Epoch 3 of 31\n",
      "Training\n"
     ]
    },
    {
     "name": "stderr",
     "output_type": "stream",
     "text": [
      "100%|██████████| 775/775 [02:03<00:00,  6.25it/s]\n"
     ]
    },
    {
     "name": "stdout",
     "output_type": "stream",
     "text": [
      "Validation\n"
     ]
    },
    {
     "name": "stderr",
     "output_type": "stream",
     "text": [
      "100%|██████████| 194/194 [00:11<00:00, 16.40it/s]\n"
     ]
    },
    {
     "name": "stdout",
     "output_type": "stream",
     "text": [
      "Training loss: 0.094, training acc: 97.342\n",
      "Validation loss: 0.104, validation acc: 97.063\n",
      "--------------------------------------------------\n",
      "[INFO]: Epoch 4 of 31\n",
      "Training\n"
     ]
    },
    {
     "name": "stderr",
     "output_type": "stream",
     "text": [
      "100%|██████████| 775/775 [02:04<00:00,  6.21it/s]\n"
     ]
    },
    {
     "name": "stdout",
     "output_type": "stream",
     "text": [
      "Validation\n"
     ]
    },
    {
     "name": "stderr",
     "output_type": "stream",
     "text": [
      "100%|██████████| 194/194 [00:11<00:00, 17.01it/s]\n"
     ]
    },
    {
     "name": "stdout",
     "output_type": "stream",
     "text": [
      "Training loss: 0.081, training acc: 97.614\n",
      "Validation loss: 0.090, validation acc: 97.523\n",
      "--------------------------------------------------\n",
      "[INFO]: Epoch 5 of 31\n",
      "Training\n"
     ]
    },
    {
     "name": "stderr",
     "output_type": "stream",
     "text": [
      "100%|██████████| 775/775 [02:03<00:00,  6.29it/s]\n"
     ]
    },
    {
     "name": "stdout",
     "output_type": "stream",
     "text": [
      "Validation\n"
     ]
    },
    {
     "name": "stderr",
     "output_type": "stream",
     "text": [
      "100%|██████████| 194/194 [00:11<00:00, 16.73it/s]\n"
     ]
    },
    {
     "name": "stdout",
     "output_type": "stream",
     "text": [
      "Training loss: 0.074, training acc: 97.793\n",
      "Validation loss: 0.081, validation acc: 97.568\n",
      "--------------------------------------------------\n",
      "[INFO]: Epoch 6 of 31\n",
      "Training\n"
     ]
    },
    {
     "name": "stderr",
     "output_type": "stream",
     "text": [
      "100%|██████████| 775/775 [02:03<00:00,  6.28it/s]\n"
     ]
    },
    {
     "name": "stdout",
     "output_type": "stream",
     "text": [
      "Validation\n"
     ]
    },
    {
     "name": "stderr",
     "output_type": "stream",
     "text": [
      "100%|██████████| 194/194 [00:11<00:00, 16.44it/s]\n"
     ]
    },
    {
     "name": "stdout",
     "output_type": "stream",
     "text": [
      "Training loss: 0.066, training acc: 97.986\n",
      "Validation loss: 0.079, validation acc: 97.564\n",
      "--------------------------------------------------\n",
      "[INFO]: Epoch 7 of 31\n",
      "Training\n"
     ]
    },
    {
     "name": "stderr",
     "output_type": "stream",
     "text": [
      "100%|██████████| 775/775 [02:04<00:00,  6.22it/s]\n"
     ]
    },
    {
     "name": "stdout",
     "output_type": "stream",
     "text": [
      "Validation\n"
     ]
    },
    {
     "name": "stderr",
     "output_type": "stream",
     "text": [
      "100%|██████████| 194/194 [00:11<00:00, 16.35it/s]\n"
     ]
    },
    {
     "name": "stdout",
     "output_type": "stream",
     "text": [
      "Training loss: 0.060, training acc: 98.149\n",
      "Validation loss: 0.084, validation acc: 97.459\n",
      "--------------------------------------------------\n",
      "[INFO]: Epoch 8 of 31\n",
      "Training\n"
     ]
    },
    {
     "name": "stderr",
     "output_type": "stream",
     "text": [
      "100%|██████████| 775/775 [02:05<00:00,  6.20it/s]\n"
     ]
    },
    {
     "name": "stdout",
     "output_type": "stream",
     "text": [
      "Validation\n"
     ]
    },
    {
     "name": "stderr",
     "output_type": "stream",
     "text": [
      "100%|██████████| 194/194 [00:11<00:00, 17.48it/s]\n"
     ]
    },
    {
     "name": "stdout",
     "output_type": "stream",
     "text": [
      "Training loss: 0.056, training acc: 98.282\n",
      "Validation loss: 0.068, validation acc: 97.943\n",
      "--------------------------------------------------\n",
      "[INFO]: Epoch 9 of 31\n",
      "Training\n"
     ]
    },
    {
     "name": "stderr",
     "output_type": "stream",
     "text": [
      "100%|██████████| 775/775 [02:06<00:00,  6.12it/s]\n"
     ]
    },
    {
     "name": "stdout",
     "output_type": "stream",
     "text": [
      "Validation\n"
     ]
    },
    {
     "name": "stderr",
     "output_type": "stream",
     "text": [
      "100%|██████████| 194/194 [00:11<00:00, 17.49it/s]\n"
     ]
    },
    {
     "name": "stdout",
     "output_type": "stream",
     "text": [
      "Training loss: 0.052, training acc: 98.351\n",
      "Validation loss: 0.069, validation acc: 97.822\n",
      "--------------------------------------------------\n",
      "[INFO]: Epoch 10 of 31\n",
      "Training\n"
     ]
    },
    {
     "name": "stderr",
     "output_type": "stream",
     "text": [
      "100%|██████████| 775/775 [02:07<00:00,  6.08it/s]\n"
     ]
    },
    {
     "name": "stdout",
     "output_type": "stream",
     "text": [
      "Validation\n"
     ]
    },
    {
     "name": "stderr",
     "output_type": "stream",
     "text": [
      "100%|██████████| 194/194 [00:10<00:00, 18.05it/s]\n"
     ]
    },
    {
     "name": "stdout",
     "output_type": "stream",
     "text": [
      "Training loss: 0.048, training acc: 98.485\n",
      "Validation loss: 0.068, validation acc: 97.959\n",
      "--------------------------------------------------\n",
      "[INFO]: Epoch 11 of 31\n",
      "Training\n"
     ]
    },
    {
     "name": "stderr",
     "output_type": "stream",
     "text": [
      "100%|██████████| 775/775 [02:07<00:00,  6.07it/s]\n"
     ]
    },
    {
     "name": "stdout",
     "output_type": "stream",
     "text": [
      "Validation\n"
     ]
    },
    {
     "name": "stderr",
     "output_type": "stream",
     "text": [
      "100%|██████████| 194/194 [00:11<00:00, 17.49it/s]\n"
     ]
    },
    {
     "name": "stdout",
     "output_type": "stream",
     "text": [
      "Training loss: 0.046, training acc: 98.530\n",
      "Validation loss: 0.057, validation acc: 98.270\n",
      "--------------------------------------------------\n",
      "[INFO]: Epoch 12 of 31\n",
      "Training\n"
     ]
    },
    {
     "name": "stderr",
     "output_type": "stream",
     "text": [
      "100%|██████████| 775/775 [02:07<00:00,  6.06it/s]\n"
     ]
    },
    {
     "name": "stdout",
     "output_type": "stream",
     "text": [
      "Validation\n"
     ]
    },
    {
     "name": "stderr",
     "output_type": "stream",
     "text": [
      "100%|██████████| 194/194 [00:11<00:00, 17.17it/s]\n"
     ]
    },
    {
     "name": "stdout",
     "output_type": "stream",
     "text": [
      "Training loss: 0.044, training acc: 98.550\n",
      "Validation loss: 0.064, validation acc: 98.112\n",
      "--------------------------------------------------\n",
      "[INFO]: Epoch 13 of 31\n",
      "Training\n"
     ]
    },
    {
     "name": "stderr",
     "output_type": "stream",
     "text": [
      "100%|██████████| 775/775 [02:07<00:00,  6.06it/s]\n"
     ]
    },
    {
     "name": "stdout",
     "output_type": "stream",
     "text": [
      "Validation\n"
     ]
    },
    {
     "name": "stderr",
     "output_type": "stream",
     "text": [
      "100%|██████████| 194/194 [00:11<00:00, 17.57it/s]\n"
     ]
    },
    {
     "name": "stdout",
     "output_type": "stream",
     "text": [
      "Training loss: 0.039, training acc: 98.726\n",
      "Validation loss: 0.073, validation acc: 97.798\n",
      "--------------------------------------------------\n",
      "[INFO]: Epoch 14 of 31\n",
      "Training\n"
     ]
    },
    {
     "name": "stderr",
     "output_type": "stream",
     "text": [
      "100%|██████████| 775/775 [02:07<00:00,  6.06it/s]\n"
     ]
    },
    {
     "name": "stdout",
     "output_type": "stream",
     "text": [
      "Validation\n"
     ]
    },
    {
     "name": "stderr",
     "output_type": "stream",
     "text": [
      "100%|██████████| 194/194 [00:11<00:00, 17.39it/s]\n"
     ]
    },
    {
     "name": "stdout",
     "output_type": "stream",
     "text": [
      "Training loss: 0.038, training acc: 98.774\n",
      "Validation loss: 0.057, validation acc: 98.342\n",
      "--------------------------------------------------\n",
      "[INFO]: Epoch 15 of 31\n",
      "Training\n"
     ]
    },
    {
     "name": "stderr",
     "output_type": "stream",
     "text": [
      "100%|██████████| 775/775 [02:08<00:00,  6.04it/s]\n"
     ]
    },
    {
     "name": "stdout",
     "output_type": "stream",
     "text": [
      "Validation\n"
     ]
    },
    {
     "name": "stderr",
     "output_type": "stream",
     "text": [
      "100%|██████████| 194/194 [00:11<00:00, 17.53it/s]\n"
     ]
    },
    {
     "name": "stdout",
     "output_type": "stream",
     "text": [
      "Training loss: 0.036, training acc: 98.799\n",
      "Validation loss: 0.064, validation acc: 98.044\n",
      "--------------------------------------------------\n",
      "[INFO]: Epoch 16 of 31\n",
      "Training\n"
     ]
    },
    {
     "name": "stderr",
     "output_type": "stream",
     "text": [
      "100%|██████████| 775/775 [02:08<00:00,  6.04it/s]\n"
     ]
    },
    {
     "name": "stdout",
     "output_type": "stream",
     "text": [
      "Validation\n"
     ]
    },
    {
     "name": "stderr",
     "output_type": "stream",
     "text": [
      "100%|██████████| 194/194 [00:11<00:00, 17.62it/s]\n"
     ]
    },
    {
     "name": "stdout",
     "output_type": "stream",
     "text": [
      "Training loss: 0.031, training acc: 98.958\n",
      "Validation loss: 0.062, validation acc: 98.157\n",
      "--------------------------------------------------\n",
      "[INFO]: Epoch 17 of 31\n",
      "Training\n"
     ]
    },
    {
     "name": "stderr",
     "output_type": "stream",
     "text": [
      "100%|██████████| 775/775 [02:09<00:00,  6.00it/s]\n"
     ]
    },
    {
     "name": "stdout",
     "output_type": "stream",
     "text": [
      "Validation\n"
     ]
    },
    {
     "name": "stderr",
     "output_type": "stream",
     "text": [
      "100%|██████████| 194/194 [00:11<00:00, 17.63it/s]\n"
     ]
    },
    {
     "name": "stdout",
     "output_type": "stream",
     "text": [
      "Training loss: 0.032, training acc: 98.910\n",
      "Validation loss: 0.090, validation acc: 97.519\n",
      "--------------------------------------------------\n",
      "[INFO]: Epoch 18 of 31\n",
      "Training\n"
     ]
    },
    {
     "name": "stderr",
     "output_type": "stream",
     "text": [
      "100%|██████████| 775/775 [02:06<00:00,  6.13it/s]\n"
     ]
    },
    {
     "name": "stdout",
     "output_type": "stream",
     "text": [
      "Validation\n"
     ]
    },
    {
     "name": "stderr",
     "output_type": "stream",
     "text": [
      "100%|██████████| 194/194 [00:11<00:00, 17.54it/s]\n"
     ]
    },
    {
     "name": "stdout",
     "output_type": "stream",
     "text": [
      "Training loss: 0.029, training acc: 99.012\n",
      "Validation loss: 0.059, validation acc: 98.286\n",
      "--------------------------------------------------\n",
      "[INFO]: Epoch 19 of 31\n",
      "Training\n"
     ]
    },
    {
     "name": "stderr",
     "output_type": "stream",
     "text": [
      "100%|██████████| 775/775 [02:05<00:00,  6.16it/s]\n"
     ]
    },
    {
     "name": "stdout",
     "output_type": "stream",
     "text": [
      "Validation\n"
     ]
    },
    {
     "name": "stderr",
     "output_type": "stream",
     "text": [
      "100%|██████████| 194/194 [00:11<00:00, 17.62it/s]\n"
     ]
    },
    {
     "name": "stdout",
     "output_type": "stream",
     "text": [
      "Training loss: 0.028, training acc: 99.080\n",
      "Validation loss: 0.072, validation acc: 97.995\n",
      "--------------------------------------------------\n",
      "[INFO]: Epoch 20 of 31\n",
      "Training\n"
     ]
    },
    {
     "name": "stderr",
     "output_type": "stream",
     "text": [
      "100%|██████████| 775/775 [02:08<00:00,  6.01it/s]\n"
     ]
    },
    {
     "name": "stdout",
     "output_type": "stream",
     "text": [
      "Validation\n"
     ]
    },
    {
     "name": "stderr",
     "output_type": "stream",
     "text": [
      "100%|██████████| 194/194 [00:11<00:00, 17.31it/s]\n"
     ]
    },
    {
     "name": "stdout",
     "output_type": "stream",
     "text": [
      "Training loss: 0.028, training acc: 99.063\n",
      "Validation loss: 0.066, validation acc: 98.003\n",
      "--------------------------------------------------\n",
      "[INFO]: Epoch 21 of 31\n",
      "Training\n"
     ]
    },
    {
     "name": "stderr",
     "output_type": "stream",
     "text": [
      "100%|██████████| 775/775 [02:08<00:00,  6.05it/s]\n"
     ]
    },
    {
     "name": "stdout",
     "output_type": "stream",
     "text": [
      "Validation\n"
     ]
    },
    {
     "name": "stderr",
     "output_type": "stream",
     "text": [
      "100%|██████████| 194/194 [00:11<00:00, 17.56it/s]\n"
     ]
    },
    {
     "name": "stdout",
     "output_type": "stream",
     "text": [
      "Training loss: 0.024, training acc: 99.160\n",
      "Validation loss: 0.069, validation acc: 97.967\n",
      "--------------------------------------------------\n",
      "[INFO]: Epoch 22 of 31\n",
      "Training\n"
     ]
    },
    {
     "name": "stderr",
     "output_type": "stream",
     "text": [
      "100%|██████████| 775/775 [02:07<00:00,  6.06it/s]\n"
     ]
    },
    {
     "name": "stdout",
     "output_type": "stream",
     "text": [
      "Validation\n"
     ]
    },
    {
     "name": "stderr",
     "output_type": "stream",
     "text": [
      "100%|██████████| 194/194 [00:11<00:00, 17.48it/s]\n"
     ]
    },
    {
     "name": "stdout",
     "output_type": "stream",
     "text": [
      "Training loss: 0.023, training acc: 99.187\n",
      "Validation loss: 0.054, validation acc: 98.520\n",
      "--------------------------------------------------\n",
      "[INFO]: Epoch 23 of 31\n",
      "Training\n"
     ]
    },
    {
     "name": "stderr",
     "output_type": "stream",
     "text": [
      "100%|██████████| 775/775 [02:08<00:00,  6.05it/s]\n"
     ]
    },
    {
     "name": "stdout",
     "output_type": "stream",
     "text": [
      "Validation\n"
     ]
    },
    {
     "name": "stderr",
     "output_type": "stream",
     "text": [
      "100%|██████████| 194/194 [00:11<00:00, 17.37it/s]\n"
     ]
    },
    {
     "name": "stdout",
     "output_type": "stream",
     "text": [
      "Training loss: 0.024, training acc: 99.160\n",
      "Validation loss: 0.053, validation acc: 98.524\n",
      "--------------------------------------------------\n",
      "[INFO]: Epoch 24 of 31\n",
      "Training\n"
     ]
    },
    {
     "name": "stderr",
     "output_type": "stream",
     "text": [
      "100%|██████████| 775/775 [02:07<00:00,  6.08it/s]\n"
     ]
    },
    {
     "name": "stdout",
     "output_type": "stream",
     "text": [
      "Validation\n"
     ]
    },
    {
     "name": "stderr",
     "output_type": "stream",
     "text": [
      "100%|██████████| 194/194 [00:11<00:00, 16.41it/s]\n"
     ]
    },
    {
     "name": "stdout",
     "output_type": "stream",
     "text": [
      "Training loss: 0.021, training acc: 99.262\n",
      "Validation loss: 0.321, validation acc: 91.194\n",
      "--------------------------------------------------\n",
      "[INFO]: Epoch 25 of 31\n",
      "Training\n"
     ]
    },
    {
     "name": "stderr",
     "output_type": "stream",
     "text": [
      "100%|██████████| 775/775 [02:05<00:00,  6.18it/s]\n"
     ]
    },
    {
     "name": "stdout",
     "output_type": "stream",
     "text": [
      "Validation\n"
     ]
    },
    {
     "name": "stderr",
     "output_type": "stream",
     "text": [
      "100%|██████████| 194/194 [00:11<00:00, 16.53it/s]\n"
     ]
    },
    {
     "name": "stdout",
     "output_type": "stream",
     "text": [
      "Training loss: 0.021, training acc: 99.300\n",
      "Validation loss: 0.057, validation acc: 98.350\n",
      "--------------------------------------------------\n",
      "[INFO]: Epoch 26 of 31\n",
      "Training\n"
     ]
    },
    {
     "name": "stderr",
     "output_type": "stream",
     "text": [
      "100%|██████████| 775/775 [02:04<00:00,  6.24it/s]\n"
     ]
    },
    {
     "name": "stdout",
     "output_type": "stream",
     "text": [
      "Validation\n"
     ]
    },
    {
     "name": "stderr",
     "output_type": "stream",
     "text": [
      "100%|██████████| 194/194 [00:10<00:00, 17.86it/s]\n"
     ]
    },
    {
     "name": "stdout",
     "output_type": "stream",
     "text": [
      "Training loss: 0.020, training acc: 99.346\n",
      "Validation loss: 0.051, validation acc: 98.620\n",
      "--------------------------------------------------\n",
      "[INFO]: Epoch 27 of 31\n",
      "Training\n"
     ]
    },
    {
     "name": "stderr",
     "output_type": "stream",
     "text": [
      "100%|██████████| 775/775 [02:03<00:00,  6.29it/s]\n"
     ]
    },
    {
     "name": "stdout",
     "output_type": "stream",
     "text": [
      "Validation\n"
     ]
    },
    {
     "name": "stderr",
     "output_type": "stream",
     "text": [
      "100%|██████████| 194/194 [00:11<00:00, 16.43it/s]\n"
     ]
    },
    {
     "name": "stdout",
     "output_type": "stream",
     "text": [
      "Training loss: 0.020, training acc: 99.309\n",
      "Validation loss: 0.058, validation acc: 98.443\n",
      "--------------------------------------------------\n",
      "[INFO]: Epoch 28 of 31\n",
      "Training\n"
     ]
    },
    {
     "name": "stderr",
     "output_type": "stream",
     "text": [
      "100%|██████████| 775/775 [02:05<00:00,  6.17it/s]\n"
     ]
    },
    {
     "name": "stdout",
     "output_type": "stream",
     "text": [
      "Validation\n"
     ]
    },
    {
     "name": "stderr",
     "output_type": "stream",
     "text": [
      "100%|██████████| 194/194 [00:11<00:00, 16.23it/s]\n"
     ]
    },
    {
     "name": "stdout",
     "output_type": "stream",
     "text": [
      "Training loss: 0.018, training acc: 99.397\n",
      "Validation loss: 0.050, validation acc: 98.717\n",
      "--------------------------------------------------\n",
      "[INFO]: Epoch 29 of 31\n",
      "Training\n"
     ]
    },
    {
     "name": "stderr",
     "output_type": "stream",
     "text": [
      "100%|██████████| 775/775 [02:07<00:00,  6.06it/s]\n"
     ]
    },
    {
     "name": "stdout",
     "output_type": "stream",
     "text": [
      "Validation\n"
     ]
    },
    {
     "name": "stderr",
     "output_type": "stream",
     "text": [
      "100%|██████████| 194/194 [00:10<00:00, 18.48it/s]\n"
     ]
    },
    {
     "name": "stdout",
     "output_type": "stream",
     "text": [
      "Training loss: 0.016, training acc: 99.457\n",
      "Validation loss: 0.235, validation acc: 94.091\n",
      "--------------------------------------------------\n",
      "[INFO]: Epoch 30 of 31\n",
      "Training\n"
     ]
    },
    {
     "name": "stderr",
     "output_type": "stream",
     "text": [
      " 67%|██████▋   | 518/775 [01:22<00:40,  6.30it/s]\n"
     ]
    },
    {
     "ename": "FileNotFoundError",
     "evalue": "Caught FileNotFoundError in DataLoader worker process 2.\nOriginal Traceback (most recent call last):\n  File \"e:\\Programs\\Anaconda3\\envs\\MyPyTorch\\Lib\\site-packages\\torch\\utils\\data\\_utils\\worker.py\", line 308, in _worker_loop\n    data = fetcher.fetch(index)\n           ^^^^^^^^^^^^^^^^^^^^\n  File \"e:\\Programs\\Anaconda3\\envs\\MyPyTorch\\Lib\\site-packages\\torch\\utils\\data\\_utils\\fetch.py\", line 49, in fetch\n    data = self.dataset.__getitems__(possibly_batched_index)\n           ^^^^^^^^^^^^^^^^^^^^^^^^^^^^^^^^^^^^^^^^^^^^^^^^^\n  File \"e:\\Programs\\Anaconda3\\envs\\MyPyTorch\\Lib\\site-packages\\torch\\utils\\data\\dataset.py\", line 364, in __getitems__\n    return [self.dataset[self.indices[idx]] for idx in indices]\n           ^^^^^^^^^^^^^^^^^^^^^^^^^^^^^^^^^^^^^^^^^^^^^^^^^^^^\n  File \"e:\\Programs\\Anaconda3\\envs\\MyPyTorch\\Lib\\site-packages\\torch\\utils\\data\\dataset.py\", line 364, in <listcomp>\n    return [self.dataset[self.indices[idx]] for idx in indices]\n            ~~~~~~~~~~~~^^^^^^^^^^^^^^^^^^^\n  File \"e:\\Programs\\Anaconda3\\envs\\MyPyTorch\\Lib\\site-packages\\torchvision\\datasets\\folder.py\", line 229, in __getitem__\n    sample = self.loader(path)\n             ^^^^^^^^^^^^^^^^^\n  File \"e:\\Programs\\Anaconda3\\envs\\MyPyTorch\\Lib\\site-packages\\torchvision\\datasets\\folder.py\", line 268, in default_loader\n    return pil_loader(path)\n           ^^^^^^^^^^^^^^^^\n  File \"e:\\Programs\\Anaconda3\\envs\\MyPyTorch\\Lib\\site-packages\\torchvision\\datasets\\folder.py\", line 246, in pil_loader\n    with open(path, \"rb\") as f:\n         ^^^^^^^^^^^^^^^^\nFileNotFoundError: [Errno 2] No such file or directory: 'G:\\\\TRAIN\\\\dataset_balance\\\\tau\\\\293325.jpg'\n",
     "output_type": "error",
     "traceback": [
      "\u001b[1;31m---------------------------------------------------------------------------\u001b[0m",
      "\u001b[1;31mFileNotFoundError\u001b[0m                         Traceback (most recent call last)",
      "Cell \u001b[1;32mIn[63], line 7\u001b[0m\n\u001b[0;32m      5\u001b[0m \u001b[38;5;28;01mfor\u001b[39;00m epoch \u001b[38;5;129;01min\u001b[39;00m \u001b[38;5;28mrange\u001b[39m(EPOCHS):\n\u001b[0;32m      6\u001b[0m     \u001b[38;5;28mprint\u001b[39m(\u001b[38;5;124mf\u001b[39m\u001b[38;5;124m\"\u001b[39m\u001b[38;5;124m[INFO]: Epoch \u001b[39m\u001b[38;5;132;01m{\u001b[39;00mepoch\u001b[38;5;241m+\u001b[39m\u001b[38;5;241m1\u001b[39m\u001b[38;5;132;01m}\u001b[39;00m\u001b[38;5;124m of \u001b[39m\u001b[38;5;132;01m{\u001b[39;00mEPOCHS\u001b[38;5;132;01m}\u001b[39;00m\u001b[38;5;124m\"\u001b[39m)\n\u001b[1;32m----> 7\u001b[0m     train_epoch_loss, train_epoch_acc \u001b[38;5;241m=\u001b[39m train(model, train_loader, \n\u001b[0;32m      8\u001b[0m                                               optimizer, loss)\n\u001b[0;32m      9\u001b[0m     valid_epoch_loss, valid_epoch_acc \u001b[38;5;241m=\u001b[39m validate(model, valid_loader,  \n\u001b[0;32m     10\u001b[0m                                                  loss)\n\u001b[0;32m     11\u001b[0m     train_loss\u001b[38;5;241m.\u001b[39mappend(train_epoch_loss)\n",
      "Cell \u001b[1;32mIn[58], line 8\u001b[0m, in \u001b[0;36mtrain\u001b[1;34m(model, trainloader, optimizer, loss_function)\u001b[0m\n\u001b[0;32m      6\u001b[0m train_running_correct \u001b[38;5;241m=\u001b[39m \u001b[38;5;241m0\u001b[39m\n\u001b[0;32m      7\u001b[0m counter \u001b[38;5;241m=\u001b[39m \u001b[38;5;241m0\u001b[39m\n\u001b[1;32m----> 8\u001b[0m \u001b[38;5;28;01mfor\u001b[39;00m i, data \u001b[38;5;129;01min\u001b[39;00m tqdm(\u001b[38;5;28menumerate\u001b[39m(trainloader), total\u001b[38;5;241m=\u001b[39m\u001b[38;5;28mint\u001b[39m(\u001b[38;5;28mlen\u001b[39m(trainloader))):\n\u001b[0;32m      9\u001b[0m     counter \u001b[38;5;241m+\u001b[39m\u001b[38;5;241m=\u001b[39m \u001b[38;5;241m1\u001b[39m\n\u001b[0;32m     10\u001b[0m     optimizer\u001b[38;5;241m.\u001b[39mzero_grad()\n",
      "File \u001b[1;32me:\\Programs\\Anaconda3\\envs\\MyPyTorch\\Lib\\site-packages\\tqdm\\std.py:1178\u001b[0m, in \u001b[0;36mtqdm.__iter__\u001b[1;34m(self)\u001b[0m\n\u001b[0;32m   1175\u001b[0m time \u001b[38;5;241m=\u001b[39m \u001b[38;5;28mself\u001b[39m\u001b[38;5;241m.\u001b[39m_time\n\u001b[0;32m   1177\u001b[0m \u001b[38;5;28;01mtry\u001b[39;00m:\n\u001b[1;32m-> 1178\u001b[0m     \u001b[38;5;28;01mfor\u001b[39;00m obj \u001b[38;5;129;01min\u001b[39;00m iterable:\n\u001b[0;32m   1179\u001b[0m         \u001b[38;5;28;01myield\u001b[39;00m obj\n\u001b[0;32m   1180\u001b[0m         \u001b[38;5;66;03m# Update and possibly print the progressbar.\u001b[39;00m\n\u001b[0;32m   1181\u001b[0m         \u001b[38;5;66;03m# Note: does not call self.update(1) for speed optimisation.\u001b[39;00m\n",
      "File \u001b[1;32me:\\Programs\\Anaconda3\\envs\\MyPyTorch\\Lib\\site-packages\\torch\\utils\\data\\dataloader.py:630\u001b[0m, in \u001b[0;36m_BaseDataLoaderIter.__next__\u001b[1;34m(self)\u001b[0m\n\u001b[0;32m    627\u001b[0m \u001b[38;5;28;01mif\u001b[39;00m \u001b[38;5;28mself\u001b[39m\u001b[38;5;241m.\u001b[39m_sampler_iter \u001b[38;5;129;01mis\u001b[39;00m \u001b[38;5;28;01mNone\u001b[39;00m:\n\u001b[0;32m    628\u001b[0m     \u001b[38;5;66;03m# TODO(https://github.com/pytorch/pytorch/issues/76750)\u001b[39;00m\n\u001b[0;32m    629\u001b[0m     \u001b[38;5;28mself\u001b[39m\u001b[38;5;241m.\u001b[39m_reset()  \u001b[38;5;66;03m# type: ignore[call-arg]\u001b[39;00m\n\u001b[1;32m--> 630\u001b[0m data \u001b[38;5;241m=\u001b[39m \u001b[38;5;28mself\u001b[39m\u001b[38;5;241m.\u001b[39m_next_data()\n\u001b[0;32m    631\u001b[0m \u001b[38;5;28mself\u001b[39m\u001b[38;5;241m.\u001b[39m_num_yielded \u001b[38;5;241m+\u001b[39m\u001b[38;5;241m=\u001b[39m \u001b[38;5;241m1\u001b[39m\n\u001b[0;32m    632\u001b[0m \u001b[38;5;28;01mif\u001b[39;00m \u001b[38;5;28mself\u001b[39m\u001b[38;5;241m.\u001b[39m_dataset_kind \u001b[38;5;241m==\u001b[39m _DatasetKind\u001b[38;5;241m.\u001b[39mIterable \u001b[38;5;129;01mand\u001b[39;00m \\\n\u001b[0;32m    633\u001b[0m         \u001b[38;5;28mself\u001b[39m\u001b[38;5;241m.\u001b[39m_IterableDataset_len_called \u001b[38;5;129;01mis\u001b[39;00m \u001b[38;5;129;01mnot\u001b[39;00m \u001b[38;5;28;01mNone\u001b[39;00m \u001b[38;5;129;01mand\u001b[39;00m \\\n\u001b[0;32m    634\u001b[0m         \u001b[38;5;28mself\u001b[39m\u001b[38;5;241m.\u001b[39m_num_yielded \u001b[38;5;241m>\u001b[39m \u001b[38;5;28mself\u001b[39m\u001b[38;5;241m.\u001b[39m_IterableDataset_len_called:\n",
      "File \u001b[1;32me:\\Programs\\Anaconda3\\envs\\MyPyTorch\\Lib\\site-packages\\torch\\utils\\data\\dataloader.py:1345\u001b[0m, in \u001b[0;36m_MultiProcessingDataLoaderIter._next_data\u001b[1;34m(self)\u001b[0m\n\u001b[0;32m   1343\u001b[0m \u001b[38;5;28;01melse\u001b[39;00m:\n\u001b[0;32m   1344\u001b[0m     \u001b[38;5;28;01mdel\u001b[39;00m \u001b[38;5;28mself\u001b[39m\u001b[38;5;241m.\u001b[39m_task_info[idx]\n\u001b[1;32m-> 1345\u001b[0m     \u001b[38;5;28;01mreturn\u001b[39;00m \u001b[38;5;28mself\u001b[39m\u001b[38;5;241m.\u001b[39m_process_data(data)\n",
      "File \u001b[1;32me:\\Programs\\Anaconda3\\envs\\MyPyTorch\\Lib\\site-packages\\torch\\utils\\data\\dataloader.py:1371\u001b[0m, in \u001b[0;36m_MultiProcessingDataLoaderIter._process_data\u001b[1;34m(self, data)\u001b[0m\n\u001b[0;32m   1369\u001b[0m \u001b[38;5;28mself\u001b[39m\u001b[38;5;241m.\u001b[39m_try_put_index()\n\u001b[0;32m   1370\u001b[0m \u001b[38;5;28;01mif\u001b[39;00m \u001b[38;5;28misinstance\u001b[39m(data, ExceptionWrapper):\n\u001b[1;32m-> 1371\u001b[0m     data\u001b[38;5;241m.\u001b[39mreraise()\n\u001b[0;32m   1372\u001b[0m \u001b[38;5;28;01mreturn\u001b[39;00m data\n",
      "File \u001b[1;32me:\\Programs\\Anaconda3\\envs\\MyPyTorch\\Lib\\site-packages\\torch\\_utils.py:694\u001b[0m, in \u001b[0;36mExceptionWrapper.reraise\u001b[1;34m(self)\u001b[0m\n\u001b[0;32m    690\u001b[0m \u001b[38;5;28;01mexcept\u001b[39;00m \u001b[38;5;167;01mTypeError\u001b[39;00m:\n\u001b[0;32m    691\u001b[0m     \u001b[38;5;66;03m# If the exception takes multiple arguments, don't try to\u001b[39;00m\n\u001b[0;32m    692\u001b[0m     \u001b[38;5;66;03m# instantiate since we don't know how to\u001b[39;00m\n\u001b[0;32m    693\u001b[0m     \u001b[38;5;28;01mraise\u001b[39;00m \u001b[38;5;167;01mRuntimeError\u001b[39;00m(msg) \u001b[38;5;28;01mfrom\u001b[39;00m \u001b[38;5;28;01mNone\u001b[39;00m\n\u001b[1;32m--> 694\u001b[0m \u001b[38;5;28;01mraise\u001b[39;00m exception\n",
      "\u001b[1;31mFileNotFoundError\u001b[0m: Caught FileNotFoundError in DataLoader worker process 2.\nOriginal Traceback (most recent call last):\n  File \"e:\\Programs\\Anaconda3\\envs\\MyPyTorch\\Lib\\site-packages\\torch\\utils\\data\\_utils\\worker.py\", line 308, in _worker_loop\n    data = fetcher.fetch(index)\n           ^^^^^^^^^^^^^^^^^^^^\n  File \"e:\\Programs\\Anaconda3\\envs\\MyPyTorch\\Lib\\site-packages\\torch\\utils\\data\\_utils\\fetch.py\", line 49, in fetch\n    data = self.dataset.__getitems__(possibly_batched_index)\n           ^^^^^^^^^^^^^^^^^^^^^^^^^^^^^^^^^^^^^^^^^^^^^^^^^\n  File \"e:\\Programs\\Anaconda3\\envs\\MyPyTorch\\Lib\\site-packages\\torch\\utils\\data\\dataset.py\", line 364, in __getitems__\n    return [self.dataset[self.indices[idx]] for idx in indices]\n           ^^^^^^^^^^^^^^^^^^^^^^^^^^^^^^^^^^^^^^^^^^^^^^^^^^^^\n  File \"e:\\Programs\\Anaconda3\\envs\\MyPyTorch\\Lib\\site-packages\\torch\\utils\\data\\dataset.py\", line 364, in <listcomp>\n    return [self.dataset[self.indices[idx]] for idx in indices]\n            ~~~~~~~~~~~~^^^^^^^^^^^^^^^^^^^\n  File \"e:\\Programs\\Anaconda3\\envs\\MyPyTorch\\Lib\\site-packages\\torchvision\\datasets\\folder.py\", line 229, in __getitem__\n    sample = self.loader(path)\n             ^^^^^^^^^^^^^^^^^\n  File \"e:\\Programs\\Anaconda3\\envs\\MyPyTorch\\Lib\\site-packages\\torchvision\\datasets\\folder.py\", line 268, in default_loader\n    return pil_loader(path)\n           ^^^^^^^^^^^^^^^^\n  File \"e:\\Programs\\Anaconda3\\envs\\MyPyTorch\\Lib\\site-packages\\torchvision\\datasets\\folder.py\", line 246, in pil_loader\n    with open(path, \"rb\") as f:\n         ^^^^^^^^^^^^^^^^\nFileNotFoundError: [Errno 2] No such file or directory: 'G:\\\\TRAIN\\\\dataset_balance\\\\tau\\\\293325.jpg'\n"
     ]
    }
   ],
   "source": [
    "# lists to keep track of losses and accuracies\n",
    "train_loss, valid_loss = [], []\n",
    "train_acc, valid_acc = [], []\n",
    "# start the training\n",
    "for epoch in range(EPOCHS):\n",
    "    print(f\"[INFO]: Epoch {epoch+1} of {EPOCHS}\")\n",
    "    train_epoch_loss, train_epoch_acc = train(model, train_loader, \n",
    "                                              optimizer, loss)\n",
    "    valid_epoch_loss, valid_epoch_acc = validate(model, valid_loader,  \n",
    "                                                 loss)\n",
    "    train_loss.append(train_epoch_loss)\n",
    "    valid_loss.append(valid_epoch_loss)\n",
    "    train_acc.append(train_epoch_acc)\n",
    "    valid_acc.append(valid_epoch_acc)\n",
    "    print(f\"Training loss: {train_epoch_loss:.3f}, training acc: {train_epoch_acc:.3f}\")\n",
    "    print(f\"Validation loss: {valid_epoch_loss:.3f}, validation acc: {valid_epoch_acc:.3f}\")\n",
    "    print('-'*50)\n",
    "    \n",
    "    torch.save(model.state_dict(), 'models/mathnet'+str(IMAGE_SIZE)+'/mathnet'+str(epoch)+'.ml')\n",
    "    \n",
    "# save the trained model weights\n",
    "torch.save(model.state_dict(), 'models/mathnet'+str(IMAGE_SIZE)+'/mathnet.ml')\n",
    "# save the loss and accuracy plots\n",
    "save_plots(train_acc, valid_acc, train_loss, valid_loss)\n",
    "print('TRAINING COMPLETE')"
   ]
  },
  {
   "cell_type": "code",
   "execution_count": 64,
   "id": "7eb3c72e",
   "metadata": {},
   "outputs": [
    {
     "data": {
      "image/png": "[encoded data removed]",
      "text/plain": [
       "<Figure size 1000x700 with 1 Axes>"
      ]
     },
     "metadata": {},
     "output_type": "display_data"
    },
    {
     "data": {
      "image/png": "[encoded data removed]",
      "text/plain": [
       "<Figure size 1000x700 with 1 Axes>"
      ]
     },
     "metadata": {},
     "output_type": "display_data"
    }
   ],
   "source": [
    "save_plots(train_acc, valid_acc, train_loss, valid_loss)"
   ]
  },
  {
   "cell_type": "code",
   "execution_count": 73,
   "id": "9f79d699",
   "metadata": {},
   "outputs": [
    {
     "data": {
      "image/jpeg": "[encoded data removed]",
      "image/png": "[encoded data removed]",
      "text/plain": [
       "<PIL.Image.Image image mode=L size=224x224>"
      ]
     },
     "metadata": {},
     "output_type": "display_data"
    },
    {
     "name": "stdout",
     "output_type": "stream",
     "text": [
      "tensor([[ -56.1365,  -99.8780, -105.7220,  -73.9420,  -55.3876,  -76.3921,\n",
      "          -92.1508,  -62.6763,  -90.4563,   -6.1677,  -82.0766, -112.3764,\n",
      "          -93.3955,  -88.5477,  -67.9810,  -50.5936, -107.7143,  -77.6968,\n",
      "         -103.0136,  -93.7993, -123.0570,  -51.8153,  -28.7454,  -92.0164,\n",
      "         -127.7654,  -34.5270,  -75.3168,  174.3529,  -44.5782,  -48.8792,\n",
      "          -29.0183,  -24.0338,  -75.4276, -105.2358,  -68.6608,  -28.6298,\n",
      "          -55.4157,  -95.6297,  -42.4754,  -83.6843]], device='cuda:0',\n",
      "       grad_fn=<MulBackward0>) omega\n"
     ]
    }
   ],
   "source": [
    "import cv2\n",
    "from PIL import Image, ImageOps\n",
    "\n",
    "model.eval()\n",
    "\n",
    "img = Image.open(\"TEST/0.jpg\")\n",
    "#print(img.shape)\n",
    "convert_tensor = transforms.Compose([\n",
    "    transforms.Resize((IMAGE_SIZE,IMAGE_SIZE)),\n",
    "    transforms.Grayscale(1),\n",
    "    transforms.ToTensor()\n",
    "\n",
    "])        \n",
    "x_image = convert_tensor(img)\n",
    "\n",
    "aaa = transforms.ToPILImage()\n",
    "display(aaa(x_image))\n",
    "\n",
    "x_image = x_image.unsqueeze(0).float()\n",
    "x_image = x_image.to(device)\n",
    "\n",
    "pred = model(x_image) \n",
    "print(pred*10, map_pred(pred.argmax().item()))"
   ]
  },
  {
   "cell_type": "code",
   "execution_count": null,
   "id": "e2f11bae",
   "metadata": {},
   "outputs": [],
   "source": []
  },
  {
   "cell_type": "code",
   "execution_count": 68,
   "id": "6bcf0c64",
   "metadata": {},
   "outputs": [
    {
     "name": "stderr",
     "output_type": "stream",
     "text": [
      "Exception ignored in: <function _MultiProcessingDataLoaderIter.__del__ at 0x0000026F92753880>\n",
      "Traceback (most recent call last):\n",
      "  File \"e:\\Programs\\Anaconda3\\envs\\MyPyTorch\\Lib\\site-packages\\torch\\utils\\data\\dataloader.py\", line 1478, in __del__\n",
      "    self._shutdown_workers()\n",
      "  File \"e:\\Programs\\Anaconda3\\envs\\MyPyTorch\\Lib\\site-packages\\torch\\utils\\data\\dataloader.py\", line 1442, in _shutdown_workers\n",
      "    w.join(timeout=_utils.MP_STATUS_CHECK_INTERVAL)\n",
      "  File \"e:\\Programs\\Anaconda3\\envs\\MyPyTorch\\Lib\\multiprocessing\\process.py\", line 149, in join\n",
      "    res = self._popen.wait(timeout)\n",
      "          ^^^^^^^^^^^^^^^^^^^^^^^^^\n",
      "  File \"e:\\Programs\\Anaconda3\\envs\\MyPyTorch\\Lib\\multiprocessing\\popen_spawn_win32.py\", line 110, in wait\n",
      "    res = _winapi.WaitForSingleObject(int(self._handle), msecs)\n",
      "          ^^^^^^^^^^^^^^^^^^^^^^^^^^^^^^^^^^^^^^^^^^^^^^^^^^^^^\n",
      "KeyboardInterrupt: \n"
     ]
    },
    {
     "ename": "RuntimeError",
     "evalue": "Error(s) in loading state_dict for MathNet56:\n\tUnexpected key(s) in state_dict: \"conv1.weight\", \"conv1.bias\", \"bn1.weight\", \"bn1.bias\", \"bn1.running_mean\", \"bn1.running_var\", \"bn1.num_batches_tracked\". \n\tsize mismatch for block1.conv1.weight: copying a param with shape torch.Size([64, 64, 3, 3]) from checkpoint, the shape in current model is torch.Size([64, 1, 3, 3]).",
     "output_type": "error",
     "traceback": [
      "\u001b[1;31m---------------------------------------------------------------------------\u001b[0m",
      "\u001b[1;31mRuntimeError\u001b[0m                              Traceback (most recent call last)",
      "Cell \u001b[1;32mIn[68], line 5\u001b[0m\n\u001b[0;32m      2\u001b[0m \u001b[38;5;28;01mfrom\u001b[39;00m \u001b[38;5;21;01mPIL\u001b[39;00m \u001b[38;5;28;01mimport\u001b[39;00m Image, ImageOps\n\u001b[0;32m      4\u001b[0m m \u001b[38;5;241m=\u001b[39m mnt56\u001b[38;5;241m.\u001b[39mMathNet56()\n\u001b[1;32m----> 5\u001b[0m m\u001b[38;5;241m.\u001b[39mload_state_dict(torch\u001b[38;5;241m.\u001b[39mload(\u001b[38;5;124m'\u001b[39m\u001b[38;5;124mmodels/mathnet\u001b[39m\u001b[38;5;124m'\u001b[39m\u001b[38;5;241m+\u001b[39m\u001b[38;5;28mstr\u001b[39m(IMAGE_SIZE)\u001b[38;5;241m+\u001b[39m\u001b[38;5;124m'\u001b[39m\u001b[38;5;124m/mathnet.ml\u001b[39m\u001b[38;5;124m'\u001b[39m))\n\u001b[0;32m      6\u001b[0m device \u001b[38;5;241m=\u001b[39m torch\u001b[38;5;241m.\u001b[39mdevice(\u001b[38;5;124m'\u001b[39m\u001b[38;5;124mcuda:0\u001b[39m\u001b[38;5;124m'\u001b[39m \u001b[38;5;28;01mif\u001b[39;00m torch\u001b[38;5;241m.\u001b[39mcuda\u001b[38;5;241m.\u001b[39mis_available() \u001b[38;5;28;01melse\u001b[39;00m \u001b[38;5;124m'\u001b[39m\u001b[38;5;124mcpu\u001b[39m\u001b[38;5;124m'\u001b[39m)\n\u001b[0;32m      7\u001b[0m m \u001b[38;5;241m=\u001b[39m m\u001b[38;5;241m.\u001b[39mto(device)\n",
      "File \u001b[1;32me:\\Programs\\Anaconda3\\envs\\MyPyTorch\\Lib\\site-packages\\torch\\nn\\modules\\module.py:2152\u001b[0m, in \u001b[0;36mModule.load_state_dict\u001b[1;34m(self, state_dict, strict, assign)\u001b[0m\n\u001b[0;32m   2147\u001b[0m         error_msgs\u001b[38;5;241m.\u001b[39minsert(\n\u001b[0;32m   2148\u001b[0m             \u001b[38;5;241m0\u001b[39m, \u001b[38;5;124m'\u001b[39m\u001b[38;5;124mMissing key(s) in state_dict: \u001b[39m\u001b[38;5;132;01m{}\u001b[39;00m\u001b[38;5;124m. \u001b[39m\u001b[38;5;124m'\u001b[39m\u001b[38;5;241m.\u001b[39mformat(\n\u001b[0;32m   2149\u001b[0m                 \u001b[38;5;124m'\u001b[39m\u001b[38;5;124m, \u001b[39m\u001b[38;5;124m'\u001b[39m\u001b[38;5;241m.\u001b[39mjoin(\u001b[38;5;124mf\u001b[39m\u001b[38;5;124m'\u001b[39m\u001b[38;5;124m\"\u001b[39m\u001b[38;5;132;01m{\u001b[39;00mk\u001b[38;5;132;01m}\u001b[39;00m\u001b[38;5;124m\"\u001b[39m\u001b[38;5;124m'\u001b[39m \u001b[38;5;28;01mfor\u001b[39;00m k \u001b[38;5;129;01min\u001b[39;00m missing_keys)))\n\u001b[0;32m   2151\u001b[0m \u001b[38;5;28;01mif\u001b[39;00m \u001b[38;5;28mlen\u001b[39m(error_msgs) \u001b[38;5;241m>\u001b[39m \u001b[38;5;241m0\u001b[39m:\n\u001b[1;32m-> 2152\u001b[0m     \u001b[38;5;28;01mraise\u001b[39;00m \u001b[38;5;167;01mRuntimeError\u001b[39;00m(\u001b[38;5;124m'\u001b[39m\u001b[38;5;124mError(s) in loading state_dict for \u001b[39m\u001b[38;5;132;01m{}\u001b[39;00m\u001b[38;5;124m:\u001b[39m\u001b[38;5;130;01m\\n\u001b[39;00m\u001b[38;5;130;01m\\t\u001b[39;00m\u001b[38;5;132;01m{}\u001b[39;00m\u001b[38;5;124m'\u001b[39m\u001b[38;5;241m.\u001b[39mformat(\n\u001b[0;32m   2153\u001b[0m                        \u001b[38;5;28mself\u001b[39m\u001b[38;5;241m.\u001b[39m\u001b[38;5;18m__class__\u001b[39m\u001b[38;5;241m.\u001b[39m\u001b[38;5;18m__name__\u001b[39m, \u001b[38;5;124m\"\u001b[39m\u001b[38;5;130;01m\\n\u001b[39;00m\u001b[38;5;130;01m\\t\u001b[39;00m\u001b[38;5;124m\"\u001b[39m\u001b[38;5;241m.\u001b[39mjoin(error_msgs)))\n\u001b[0;32m   2154\u001b[0m \u001b[38;5;28;01mreturn\u001b[39;00m _IncompatibleKeys(missing_keys, unexpected_keys)\n",
      "\u001b[1;31mRuntimeError\u001b[0m: Error(s) in loading state_dict for MathNet56:\n\tUnexpected key(s) in state_dict: \"conv1.weight\", \"conv1.bias\", \"bn1.weight\", \"bn1.bias\", \"bn1.running_mean\", \"bn1.running_var\", \"bn1.num_batches_tracked\". \n\tsize mismatch for block1.conv1.weight: copying a param with shape torch.Size([64, 64, 3, 3]) from checkpoint, the shape in current model is torch.Size([64, 1, 3, 3])."
     ]
    }
   ],
   "source": [
    "import cv2\n",
    "from PIL import Image, ImageOps\n",
    "\n",
    "m = mnt56.MathNet56()\n",
    "m.load_state_dict(torch.load('models/mathnet'+str(IMAGE_SIZE)+'/mathnet.ml'))\n",
    "device = torch.device('cuda:0' if torch.cuda.is_available() else 'cpu')\n",
    "m = m.to(device)\n",
    "m.eval()\n",
    "\n",
    "img = Image.open(\"TEST/0.jpg\")\n",
    "#print(img.shape)\n",
    "convert_tensor = transforms.Compose([\n",
    "    transforms.Resize((IMAGE_SIZE,IMAGE_SIZE)),\n",
    "    transforms.Grayscale(1),\n",
    "    transforms.ToTensor()\n",
    "\n",
    "])        \n",
    "x_image = convert_tensor(img)\n",
    "\n",
    "aaa = transforms.ToPILImage()\n",
    "display(aaa(x_image))\n",
    "\n",
    "x_image = x_image.unsqueeze(0).float()\n",
    "x_image = x_image.to(device)\n",
    "\n",
    "pred = m(x_image) \n",
    "print(pred*10, map_pred(pred.argmax().item()))"
   ]
  },
  {
   "cell_type": "code",
   "execution_count": null,
   "id": "79de3bf2",
   "metadata": {},
   "outputs": [],
   "source": []
  }
 ],
 "metadata": {
  "kernelspec": {
   "display_name": "Python 3 (ipykernel)",
   "language": "python",
   "name": "python3"
  },
  "language_info": {
   "codemirror_mode": {
    "name": "ipython",
    "version": 3
   },
   "file_extension": ".py",
   "mimetype": "text/x-python",
   "name": "python",
   "nbconvert_exporter": "python",
   "pygments_lexer": "ipython3",
   "version": "3.11.7"
  }
 },
 "nbformat": 4,
 "nbformat_minor": 5
}
