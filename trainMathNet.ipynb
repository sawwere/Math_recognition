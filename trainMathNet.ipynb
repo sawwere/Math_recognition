{
 "cells": [
  {
   "cell_type": "code",
   "execution_count": 1,
   "id": "5778766f",
   "metadata": {},
   "outputs": [],
   "source": [
    "import torch\n",
    "import torch.utils.data\n",
    "import torchvision\n",
    "import matplotlib.pyplot as plt\n",
    "import numpy as np\n",
    "\n",
    "from torchvision import transforms\n",
    "from sklearn.model_selection import train_test_split\n",
    "from torch.utils.data import Subset\n",
    "from tqdm import tqdm\n",
    "from PIL import Image, ImageOps\n",
    "\n",
    "import torch.nn as nn"
   ]
  },
  {
   "cell_type": "code",
   "execution_count": 2,
   "id": "85dd812d",
   "metadata": {},
   "outputs": [],
   "source": [
    "BATCH_SIZE = 128\n",
    "EPOCHS = 41"
   ]
  },
  {
   "cell_type": "code",
   "execution_count": 3,
   "id": "855cae2b",
   "metadata": {},
   "outputs": [],
   "source": [
    "# the training transforms\n",
    "train_transform = transforms.Compose([\n",
    "    transforms.Grayscale(1),\n",
    "    transforms.ToTensor()\n",
    "    #transforms.Normalize(std=0.5, mean=0.2)\n",
    "    \n",
    "])\n",
    "# the validation transforms\n",
    "valid_transform = transforms.Compose([\n",
    "    transforms.Grayscale(1),\n",
    "    transforms.ToTensor()\n",
    "])"
   ]
  },
  {
   "cell_type": "code",
   "execution_count": 4,
   "id": "c8bc27a5",
   "metadata": {},
   "outputs": [
    {
     "name": "stdout",
     "output_type": "stream",
     "text": [
      "338219\n"
     ]
    }
   ],
   "source": [
    "dataset = torchvision.datasets.ImageFolder('F:\\my_programs\\python\\image_recognition\\\\all_dataset224', transform=train_transform)\n",
    "print(len(dataset))"
   ]
  },
  {
   "cell_type": "code",
   "execution_count": 5,
   "id": "59c245a7",
   "metadata": {},
   "outputs": [
    {
     "data": {
      "text/plain": [
       "['(',\n",
       " ')',\n",
       " '+',\n",
       " ',',\n",
       " '-',\n",
       " '0',\n",
       " '1',\n",
       " '2',\n",
       " '3',\n",
       " '4',\n",
       " '5',\n",
       " '6',\n",
       " '7',\n",
       " '8',\n",
       " '9',\n",
       " 'A',\n",
       " 'F',\n",
       " 'alpha',\n",
       " 'and',\n",
       " 'beta',\n",
       " 'delta',\n",
       " 'exists',\n",
       " 'forall',\n",
       " 'gamma',\n",
       " 'lambda',\n",
       " 'mu',\n",
       " 'not',\n",
       " 'omega',\n",
       " 'or',\n",
       " 'phi',\n",
       " 'pi',\n",
       " 'psi',\n",
       " 'rightarrow',\n",
       " 'sigma',\n",
       " 'tau',\n",
       " 'theta',\n",
       " 'upsilon',\n",
       " 'x',\n",
       " 'y',\n",
       " 'z']"
      ]
     },
     "execution_count": 5,
     "metadata": {},
     "output_type": "execute_result"
    }
   ],
   "source": [
    "classes_dict = dataset.class_to_idx\n",
    "classes = []\n",
    "for key in classes_dict.keys():\n",
    "    classes.append(str(key))\n",
    "classes.sort()\n",
    "classes"
   ]
  },
  {
   "cell_type": "code",
   "execution_count": 6,
   "id": "57fb51bd",
   "metadata": {},
   "outputs": [
    {
     "data": {
      "text/plain": [
       "40"
      ]
     },
     "execution_count": 6,
     "metadata": {},
     "output_type": "execute_result"
    }
   ],
   "source": [
    "# classes = ['(', ')', ',', '-', \n",
    "#                    '0', '1', '2', '3', '4', '5', '6', '7', '8', '9', \n",
    "#                    'A', '[', 'α', 'and', 'β', '∃', 'F', '∀', \n",
    "#                    'γ', 'λ', 'μ', 'ω', 'or', 'φ', '→', \n",
    "#                    'σ', 'sqrt', 'θ', 'v', 'x', 'y', 'z']\n",
    "\n",
    "NUM_CLASSES = len(classes)\n",
    "\n",
    "def map_pred(ind):\n",
    "    if ind < NUM_CLASSES:\n",
    "        return classes[ind]\n",
    "    return 'ERROR MAPPIMG'\n",
    "\n",
    "NUM_CLASSES"
   ]
  },
  {
   "cell_type": "code",
   "execution_count": 7,
   "id": "0f9e5b8e",
   "metadata": {},
   "outputs": [
    {
     "data": {
      "text/plain": [
       "device(type='cuda', index=0)"
      ]
     },
     "execution_count": 7,
     "metadata": {},
     "output_type": "execute_result"
    }
   ],
   "source": [
    "device = torch.device('cuda:0' if torch.cuda.is_available() else 'cpu')\n",
    "#device = 'cpu'\n",
    "device"
   ]
  },
  {
   "cell_type": "code",
   "execution_count": 8,
   "id": "bde2f648",
   "metadata": {},
   "outputs": [
    {
     "name": "stdout",
     "output_type": "stream",
     "text": [
      "338219\n"
     ]
    }
   ],
   "source": [
    "dataset = torchvision.datasets.ImageFolder('F:\\my_programs\\python\\image_recognition\\\\all_dataset224', transform=train_transform)\n",
    "print(len(dataset))"
   ]
  },
  {
   "cell_type": "code",
   "execution_count": 9,
   "id": "ae398c44",
   "metadata": {},
   "outputs": [],
   "source": [
    "class ResidiumBlock(torch.nn.Module):\n",
    "    def __init__(self, in_channels, out_channels, dropout_percentage, is_reducer=True):\n",
    "        super(ResidiumBlock, self).__init__()\n",
    "        self.dropout_percentage = dropout_percentage\n",
    "        self.is_reducer = is_reducer\n",
    "        if self.is_reducer:\n",
    "            self.conv1 = torch.nn.Conv2d(in_channels=in_channels, out_channels=out_channels, \n",
    "                                         kernel_size=3, padding=1, stride=2)\n",
    "        else:\n",
    "            self.conv1 = torch.nn.Conv2d(in_channels=in_channels, out_channels=out_channels, \n",
    "                                         kernel_size=3, padding=1)\n",
    "        self.bn1 = torch.nn.BatchNorm2d(num_features=out_channels)\n",
    "        self.conv2 = torch.nn.Conv2d(in_channels=out_channels, out_channels=out_channels, \n",
    "                                     kernel_size=3, padding=1)\n",
    "        self.bn2 = torch.nn.BatchNorm2d(num_features=out_channels)\n",
    "        self.act1  = torch.nn.ReLU()\n",
    "        \n",
    "        self.conv3 = torch.nn.Conv2d(in_channels=out_channels, out_channels=out_channels, \n",
    "                                     kernel_size=3, padding=1)\n",
    "        self.bn3 = torch.nn.BatchNorm2d(num_features=out_channels)\n",
    "        self.conv4 = torch.nn.Conv2d(in_channels=out_channels, out_channels=out_channels, \n",
    "                                     kernel_size=3, padding=1)\n",
    "        self.bn4 = torch.nn.BatchNorm2d(num_features=out_channels)\n",
    "        self.act2  = torch.nn.ReLU()\n",
    "        #self.pool = torch.nn.MaxPool2d(kernel_size=2, stride=2, padding=1)\n",
    "        self.dropout = nn.Dropout(p=self.dropout_percentage)\n",
    "\n",
    "    def forward(self, x):\n",
    "        identity = x\n",
    "        \n",
    "        x = self.conv1(x)\n",
    "        x = self.bn1(x)\n",
    "        x = self.conv2(x)\n",
    "        x = self.bn2(x)\n",
    "        if not self.is_reducer:\n",
    "            x += identity\n",
    "        x = self.act1(x)\n",
    "        \n",
    "        identity = x\n",
    "        x = self.conv3(x)\n",
    "        x = self.bn3(x)\n",
    "        x = self.conv4(x)\n",
    "        x = self.bn4(x)\n",
    "        \n",
    "        x = self.dropout(x)\n",
    "        x += identity\n",
    "        x = self.act2(x)\n",
    "        \n",
    "        return x"
   ]
  },
  {
   "cell_type": "code",
   "execution_count": 10,
   "id": "2ea0cc3c",
   "metadata": {},
   "outputs": [],
   "source": [
    "class MathNet(torch.nn.Module):\n",
    "    def __init__(self, out_size=NUM_CLASSES):\n",
    "        super(MathNet, self).__init__()\n",
    "        self.dropout_percentage = 0.25\n",
    "        \n",
    "        # 224x224x1 -> 112x112x64\n",
    "        self.conv1 =  nn.Conv2d(in_channels=1, out_channels=64, kernel_size=7, stride=2, padding=3)\n",
    "        self.bn1 = nn.BatchNorm2d(64)\n",
    "        # 112x112x64 -> 56x56x64\n",
    "        self.pool1 = nn.MaxPool2d(kernel_size=3, stride=2, padding=1)\n",
    "        \n",
    "        self.block1 = ResidiumBlock(64, 64, self.dropout_percentage, False) # 56x56x64 -> 56x56x64\n",
    "        self.block2 = ResidiumBlock(64, 128, self.dropout_percentage) # 56x56x64 -> 28x28x128\n",
    "        self.block3 = ResidiumBlock(128, 256, self.dropout_percentage) # 28x28x128 -> 14x14x256\n",
    "        self.block4 = ResidiumBlock(256, 512, self.dropout_percentage) # 14x14x256 -> 7x7x512\n",
    "        # 7x7x512 -> 1x1x512\n",
    "        self.pool3 = torch.nn.AvgPool2d(kernel_size=7, stride=7, padding=0)\n",
    "        self.dropout3 = nn.Dropout(p=self.dropout_percentage)\n",
    "        # 512 -> NUM_CLASSES\n",
    "        self.fc1 = torch.nn.Linear(512, NUM_CLASSES)\n",
    "    \n",
    "    def forward(self, x):\n",
    "        x = self.conv1(x)\n",
    "        x = self.bn1(x)\n",
    "        x = self.pool1(x)\n",
    "        x = self.block1(x)\n",
    "        x = self.block2(x)\n",
    "        x = self.block3(x)\n",
    "        x = self.block4(x)\n",
    "        x = self.pool3(x)\n",
    "\n",
    "        x = x.view(x.size(0), x.size(1) * x.size(2) * x.size(3))\n",
    "        x = self.fc1(x)  \n",
    "        return x"
   ]
  },
  {
   "cell_type": "code",
   "execution_count": 11,
   "id": "e998c95a",
   "metadata": {},
   "outputs": [],
   "source": [
    "def add_contrast(x, factor):\n",
    "    return transforms.functional.adjust_contrast(x, factor)"
   ]
  },
  {
   "cell_type": "code",
   "execution_count": null,
   "id": "a7182664",
   "metadata": {},
   "outputs": [],
   "source": []
  },
  {
   "cell_type": "code",
   "execution_count": null,
   "id": "8d8f0b79",
   "metadata": {},
   "outputs": [],
   "source": []
  },
  {
   "cell_type": "code",
   "execution_count": 12,
   "id": "20e6de95",
   "metadata": {},
   "outputs": [
    {
     "name": "stdout",
     "output_type": "stream",
     "text": [
      "tensor(0.7992) tensor(0.3780)\n"
     ]
    }
   ],
   "source": [
    "mean, std = dataset[0][0].mean(), dataset[0][0].std()\n",
    "print(mean, std)"
   ]
  },
  {
   "cell_type": "code",
   "execution_count": null,
   "id": "2ca48cdf",
   "metadata": {},
   "outputs": [],
   "source": []
  },
  {
   "cell_type": "code",
   "execution_count": 13,
   "id": "df59ecba",
   "metadata": {},
   "outputs": [],
   "source": [
    "def train_val_dataset(dataset, val_split=0.2):\n",
    "    train_idx, val_idx = train_test_split(list(range(len(dataset))), test_size=val_split)\n",
    "    datasets = {}\n",
    "    datasets['train'] = Subset(dataset, train_idx)\n",
    "    datasets['val'] = Subset(dataset, val_idx)\n",
    "    return datasets"
   ]
  },
  {
   "cell_type": "code",
   "execution_count": 14,
   "id": "cff00530",
   "metadata": {},
   "outputs": [
    {
     "name": "stdout",
     "output_type": "stream",
     "text": [
      "<class 'torch.utils.data.dataset.Subset'>\n",
      "67644\n"
     ]
    }
   ],
   "source": [
    "datasets = train_val_dataset(dataset)\n",
    "print(type(datasets['train']))\n",
    "print(len(datasets['val']))\n",
    "# The original dataset is avail\n"
   ]
  },
  {
   "cell_type": "code",
   "execution_count": 15,
   "id": "3ba81579",
   "metadata": {},
   "outputs": [
    {
     "name": "stdout",
     "output_type": "stream",
     "text": [
      "Dataset ImageFolder\n",
      "    Number of datapoints: 338219\n",
      "    Root location: F:\\my_programs\\python\\image_recognition\\all_dataset224\n",
      "    StandardTransform\n",
      "Transform: Compose(\n",
      "               Grayscale(num_output_channels=1)\n",
      "               ToTensor()\n",
      "           )\n"
     ]
    }
   ],
   "source": [
    "print(dataset)"
   ]
  },
  {
   "cell_type": "code",
   "execution_count": null,
   "id": "65ff2203",
   "metadata": {},
   "outputs": [],
   "source": []
  },
  {
   "cell_type": "code",
   "execution_count": 16,
   "id": "e1f99cb4",
   "metadata": {},
   "outputs": [
    {
     "name": "stdout",
     "output_type": "stream",
     "text": [
      "67644\n"
     ]
    },
    {
     "data": {
      "image/png": "[encoded data removed]",
      "text/plain": [
       "<PIL.Image.Image image mode=L size=224x224>"
      ]
     },
     "metadata": {},
     "output_type": "display_data"
    }
   ],
   "source": [
    "# training dataset\n",
    "train_dataset = datasets['train']\n",
    "# validation dataset\n",
    "valid_dataset = (datasets['val'])\n",
    "# training data loaders\n",
    "train_loader = torch.utils.data.DataLoader(\n",
    "    train_dataset, batch_size=BATCH_SIZE, shuffle=True,\n",
    "    num_workers=6, pin_memory=True\n",
    ")\n",
    "# validation data loaders\n",
    "valid_loader = torch.utils.data.DataLoader(\n",
    "    valid_dataset, batch_size=BATCH_SIZE, shuffle=False,\n",
    "    num_workers=6, pin_memory=True\n",
    ")\n",
    "# training data loaders\n",
    "dataset[0]\n",
    "print(len(valid_dataset))\n",
    "#print(valid_dataset.dataset.targets)\n",
    "aaa = transforms.ToPILImage()\n",
    "display(aaa(valid_dataset[15451][0]))"
   ]
  },
  {
   "cell_type": "code",
   "execution_count": 17,
   "id": "554ce12d",
   "metadata": {},
   "outputs": [],
   "source": [
    "from collections import Counter\n"
   ]
  },
  {
   "cell_type": "code",
   "execution_count": 18,
   "id": "249dbfe8",
   "metadata": {},
   "outputs": [
    {
     "name": "stdout",
     "output_type": "stream",
     "text": [
      "{0: 14293, 1: 14355, 2: 9464, 3: 1906, 4: 15834, 5: 12836, 6: 16968, 7: 11884, 8: 11760, 9: 14853, 10: 12589, 11: 8749, 12: 12158, 13: 12189, 14: 9976, 15: 14407, 16: 7480, 17: 7284, 18: 5634, 19: 5421, 20: 1246, 21: 5896, 22: 16053, 23: 2861, 24: 1105, 25: 1623, 26: 10350, 27: 12527, 28: 5043, 29: 3806, 30: 5775, 31: 1115, 32: 4140, 33: 1525, 34: 608, 35: 6918, 36: 3506, 37: 17559, 38: 9454, 39: 7069}\n"
     ]
    }
   ],
   "source": [
    "d = dict(Counter(valid_dataset.dataset.targets))\n",
    "print(d)"
   ]
  },
  {
   "cell_type": "code",
   "execution_count": 19,
   "id": "8304083c",
   "metadata": {},
   "outputs": [
    {
     "data": {
      "text/plain": [
       "<AxesSubplot:ylabel='Сharactrs'>"
      ]
     },
     "execution_count": 19,
     "metadata": {},
     "output_type": "execute_result"
    },
    {
     "data": {
      "image/png": "[encoded data removed]",
      "text/plain": [
       "<Figure size 1000x1000 with 1 Axes>"
      ]
     },
     "metadata": {},
     "output_type": "display_data"
    }
   ],
   "source": [
    "import pandas as pd\n",
    "df = pd.Series(data=d,name='Сharactrs')    \n",
    "df.plot(labels=classes,kind='pie',figsize=(10,10))"
   ]
  },
  {
   "cell_type": "code",
   "execution_count": null,
   "id": "f1950497",
   "metadata": {},
   "outputs": [],
   "source": []
  },
  {
   "cell_type": "code",
   "execution_count": 20,
   "id": "b8e71525",
   "metadata": {},
   "outputs": [],
   "source": [
    "# training\n",
    "def train(model, trainloader, optimizer, loss_function):\n",
    "    model.train()\n",
    "    print('Training')\n",
    "    train_running_loss = 0.0\n",
    "    train_running_correct = 0\n",
    "    counter = 0\n",
    "    for i, data in tqdm(enumerate(trainloader), total=int(len(trainloader))):\n",
    "        counter += 1\n",
    "        optimizer.zero_grad()\n",
    "        x, y = data\n",
    "        x = x.to(device)      \n",
    "        y = y.to(device)       \n",
    "        outputs = model.forward(x)\n",
    "        loss = loss_function(outputs, y)\n",
    "        train_running_loss += loss.item()\n",
    "        _, preds = torch.max(outputs.data, 1)\n",
    "        train_running_correct += (preds == y).sum().item()\n",
    "        loss.backward()\n",
    "        optimizer.step()\n",
    "    \n",
    "    # loss and accuracy for the complete epoch\n",
    "    epoch_loss = train_running_loss / counter\n",
    "    epoch_acc = 100. * (train_running_correct / len(trainloader.dataset))\n",
    "    return epoch_loss, epoch_acc"
   ]
  },
  {
   "cell_type": "code",
   "execution_count": 21,
   "id": "58c52970",
   "metadata": {},
   "outputs": [],
   "source": [
    "def validate(model, testloader, loss_function):\n",
    "    model.eval()\n",
    "    print('Validation')\n",
    "    valid_running_loss = 0.0\n",
    "    valid_running_correct = 0\n",
    "    counter = 0\n",
    "    with torch.no_grad():\n",
    "        for i, data in tqdm(enumerate(testloader), total=int(len(testloader))):\n",
    "            counter += 1\n",
    "            x, y = data\n",
    "            x = x.to(device)      \n",
    "            y = y.to(device)\n",
    "            # forward pass\n",
    "            outputs = model(x)\n",
    "            # calculate the loss\n",
    "            loss = loss_function(outputs, y)\n",
    "            valid_running_loss += loss.item()\n",
    "            # calculate the accuracy\n",
    "            _, preds = torch.max(outputs.data, 1)\n",
    "            valid_running_correct += (preds == y).sum().item()\n",
    "        \n",
    "    # loss and accuracy for the complete epoch\n",
    "    epoch_loss = valid_running_loss / counter\n",
    "    epoch_acc = 100. * (valid_running_correct / len(testloader.dataset))\n",
    "    return epoch_loss, epoch_acc"
   ]
  },
  {
   "cell_type": "code",
   "execution_count": 22,
   "id": "301b7f12",
   "metadata": {},
   "outputs": [
    {
     "data": {
      "text/plain": [
       "__main__.MathNet"
      ]
     },
     "execution_count": 22,
     "metadata": {},
     "output_type": "execute_result"
    }
   ],
   "source": [
    "model = MathNet()\n",
    "torch.cuda.empty_cache()\n",
    "\n",
    "device = torch.device('cuda:0' if torch.cuda.is_available() else 'cpu')\n",
    "#device = 'cpu'\n",
    "model = model.to(device)\n",
    "device\n",
    "type(model)"
   ]
  },
  {
   "cell_type": "code",
   "execution_count": 23,
   "id": "49023093",
   "metadata": {},
   "outputs": [],
   "source": [
    "loss = torch.nn.CrossEntropyLoss()\n",
    "optimizer = torch.optim.Adam(model.parameters(), lr=1.0e-4)"
   ]
  },
  {
   "cell_type": "code",
   "execution_count": 24,
   "id": "a65daf13",
   "metadata": {},
   "outputs": [],
   "source": [
    "def save_plots(train_acc, valid_acc, train_loss, valid_loss, label=''):\n",
    "    \"\"\"\n",
    "    Function to save the loss and accuracy plots to disk.\n",
    "    \"\"\"\n",
    "    # accuracy plots\n",
    "    plt.figure(figsize=(10, 7))\n",
    "    plt.plot(\n",
    "        train_acc, color='green', linestyle='-', \n",
    "        label='train accuracy'\n",
    "    )\n",
    "    plt.plot(\n",
    "        valid_acc, color='blue', linestyle='-', \n",
    "        label='validataion accuracy'\n",
    "    )\n",
    "    plt.xlabel('Epochs')\n",
    "    plt.ylabel('Accuracy')\n",
    "    plt.legend()\n",
    "    plt.savefig('outputs/mathnet_accuracy'+label+'.png')\n",
    "    \n",
    "    # loss plots\n",
    "    plt.figure(figsize=(10, 7))\n",
    "    plt.plot(\n",
    "        train_loss, color='orange', linestyle='-', \n",
    "        label='train loss'\n",
    "    )\n",
    "    plt.plot(\n",
    "        valid_loss, color='red', linestyle='-', \n",
    "        label='validataion loss'\n",
    "    )\n",
    "    plt.xlabel('Epochs')\n",
    "    plt.ylabel('Loss')\n",
    "    plt.legend()\n",
    "    plt.savefig('outputs/mathnet_loss'+label+'.png')"
   ]
  },
  {
   "cell_type": "code",
   "execution_count": 25,
   "id": "3888f251",
   "metadata": {
    "scrolled": true
   },
   "outputs": [
    {
     "name": "stdout",
     "output_type": "stream",
     "text": [
      "[INFO]: Epoch 1 of 41\n",
      "Training\n"
     ]
    },
    {
     "name": "stderr",
     "output_type": "stream",
     "text": [
      "100%|██████████████████████████████████████████████████████████████████████████████| 2114/2114 [06:10<00:00,  5.70it/s]\n"
     ]
    },
    {
     "name": "stdout",
     "output_type": "stream",
     "text": [
      "Validation\n"
     ]
    },
    {
     "name": "stderr",
     "output_type": "stream",
     "text": [
      "100%|████████████████████████████████████████████████████████████████████████████████| 529/529 [00:26<00:00, 19.61it/s]\n"
     ]
    },
    {
     "name": "stdout",
     "output_type": "stream",
     "text": [
      "Training loss: 0.217, training acc: 94.705\n",
      "Validation loss: 0.087, validation acc: 97.491\n",
      "--------------------------------------------------\n",
      "[INFO]: Epoch 2 of 41\n",
      "Training\n"
     ]
    },
    {
     "name": "stderr",
     "output_type": "stream",
     "text": [
      "100%|██████████████████████████████████████████████████████████████████████████████| 2114/2114 [05:45<00:00,  6.11it/s]\n"
     ]
    },
    {
     "name": "stdout",
     "output_type": "stream",
     "text": [
      "Validation\n"
     ]
    },
    {
     "name": "stderr",
     "output_type": "stream",
     "text": [
      "100%|████████████████████████████████████████████████████████████████████████████████| 529/529 [00:26<00:00, 19.88it/s]\n"
     ]
    },
    {
     "name": "stdout",
     "output_type": "stream",
     "text": [
      "Training loss: 0.082, training acc: 97.696\n",
      "Validation loss: 0.083, validation acc: 97.589\n",
      "--------------------------------------------------\n",
      "[INFO]: Epoch 3 of 41\n",
      "Training\n"
     ]
    },
    {
     "name": "stderr",
     "output_type": "stream",
     "text": [
      "100%|██████████████████████████████████████████████████████████████████████████████| 2114/2114 [05:44<00:00,  6.14it/s]\n"
     ]
    },
    {
     "name": "stdout",
     "output_type": "stream",
     "text": [
      "Validation\n"
     ]
    },
    {
     "name": "stderr",
     "output_type": "stream",
     "text": [
      "100%|████████████████████████████████████████████████████████████████████████████████| 529/529 [00:26<00:00, 19.63it/s]\n"
     ]
    },
    {
     "name": "stdout",
     "output_type": "stream",
     "text": [
      "Training loss: 0.067, training acc: 98.047\n",
      "Validation loss: 0.064, validation acc: 98.063\n",
      "--------------------------------------------------\n",
      "[INFO]: Epoch 4 of 41\n",
      "Training\n"
     ]
    },
    {
     "name": "stderr",
     "output_type": "stream",
     "text": [
      "100%|██████████████████████████████████████████████████████████████████████████████| 2114/2114 [05:45<00:00,  6.12it/s]\n"
     ]
    },
    {
     "name": "stdout",
     "output_type": "stream",
     "text": [
      "Validation\n"
     ]
    },
    {
     "name": "stderr",
     "output_type": "stream",
     "text": [
      "100%|████████████████████████████████████████████████████████████████████████████████| 529/529 [00:36<00:00, 14.47it/s]\n"
     ]
    },
    {
     "name": "stdout",
     "output_type": "stream",
     "text": [
      "Training loss: 0.058, training acc: 98.261\n",
      "Validation loss: 0.056, validation acc: 98.347\n",
      "--------------------------------------------------\n",
      "[INFO]: Epoch 5 of 41\n",
      "Training\n"
     ]
    },
    {
     "name": "stderr",
     "output_type": "stream",
     "text": [
      "100%|██████████████████████████████████████████████████████████████████████████████| 2114/2114 [06:01<00:00,  5.86it/s]\n"
     ]
    },
    {
     "name": "stdout",
     "output_type": "stream",
     "text": [
      "Validation\n"
     ]
    },
    {
     "name": "stderr",
     "output_type": "stream",
     "text": [
      "100%|████████████████████████████████████████████████████████████████████████████████| 529/529 [00:37<00:00, 14.12it/s]\n"
     ]
    },
    {
     "name": "stdout",
     "output_type": "stream",
     "text": [
      "Training loss: 0.052, training acc: 98.427\n",
      "Validation loss: 0.059, validation acc: 98.273\n",
      "--------------------------------------------------\n",
      "[INFO]: Epoch 6 of 41\n",
      "Training\n"
     ]
    },
    {
     "name": "stderr",
     "output_type": "stream",
     "text": [
      "100%|██████████████████████████████████████████████████████████████████████████████| 2114/2114 [06:01<00:00,  5.85it/s]\n"
     ]
    },
    {
     "name": "stdout",
     "output_type": "stream",
     "text": [
      "Validation\n"
     ]
    },
    {
     "name": "stderr",
     "output_type": "stream",
     "text": [
      "100%|████████████████████████████████████████████████████████████████████████████████| 529/529 [00:49<00:00, 10.74it/s]\n"
     ]
    },
    {
     "name": "stdout",
     "output_type": "stream",
     "text": [
      "Training loss: 0.046, training acc: 98.569\n",
      "Validation loss: 0.055, validation acc: 98.318\n",
      "--------------------------------------------------\n",
      "[INFO]: Epoch 7 of 41\n",
      "Training\n"
     ]
    },
    {
     "name": "stderr",
     "output_type": "stream",
     "text": [
      "100%|██████████████████████████████████████████████████████████████████████████████| 2114/2114 [05:45<00:00,  6.11it/s]\n"
     ]
    },
    {
     "name": "stdout",
     "output_type": "stream",
     "text": [
      "Validation\n"
     ]
    },
    {
     "name": "stderr",
     "output_type": "stream",
     "text": [
      "100%|████████████████████████████████████████████████████████████████████████████████| 529/529 [00:26<00:00, 19.65it/s]\n"
     ]
    },
    {
     "name": "stdout",
     "output_type": "stream",
     "text": [
      "Training loss: 0.042, training acc: 98.684\n",
      "Validation loss: 0.048, validation acc: 98.536\n",
      "--------------------------------------------------\n",
      "[INFO]: Epoch 8 of 41\n",
      "Training\n"
     ]
    },
    {
     "name": "stderr",
     "output_type": "stream",
     "text": [
      "100%|██████████████████████████████████████████████████████████████████████████████| 2114/2114 [05:44<00:00,  6.14it/s]\n"
     ]
    },
    {
     "name": "stdout",
     "output_type": "stream",
     "text": [
      "Validation\n"
     ]
    },
    {
     "name": "stderr",
     "output_type": "stream",
     "text": [
      "100%|████████████████████████████████████████████████████████████████████████████████| 529/529 [00:26<00:00, 19.66it/s]\n"
     ]
    },
    {
     "name": "stdout",
     "output_type": "stream",
     "text": [
      "Training loss: 0.038, training acc: 98.818\n",
      "Validation loss: 0.045, validation acc: 98.621\n",
      "--------------------------------------------------\n",
      "[INFO]: Epoch 9 of 41\n",
      "Training\n"
     ]
    },
    {
     "name": "stderr",
     "output_type": "stream",
     "text": [
      "100%|██████████████████████████████████████████████████████████████████████████████| 2114/2114 [05:43<00:00,  6.15it/s]\n"
     ]
    },
    {
     "name": "stdout",
     "output_type": "stream",
     "text": [
      "Validation\n"
     ]
    },
    {
     "name": "stderr",
     "output_type": "stream",
     "text": [
      "100%|████████████████████████████████████████████████████████████████████████████████| 529/529 [00:26<00:00, 19.62it/s]\n"
     ]
    },
    {
     "name": "stdout",
     "output_type": "stream",
     "text": [
      "Training loss: 0.034, training acc: 98.918\n",
      "Validation loss: 0.044, validation acc: 98.684\n",
      "--------------------------------------------------\n",
      "[INFO]: Epoch 10 of 41\n",
      "Training\n"
     ]
    },
    {
     "name": "stderr",
     "output_type": "stream",
     "text": [
      "100%|██████████████████████████████████████████████████████████████████████████████| 2114/2114 [05:43<00:00,  6.15it/s]\n"
     ]
    },
    {
     "name": "stdout",
     "output_type": "stream",
     "text": [
      "Validation\n"
     ]
    },
    {
     "name": "stderr",
     "output_type": "stream",
     "text": [
      "100%|████████████████████████████████████████████████████████████████████████████████| 529/529 [00:26<00:00, 19.66it/s]\n"
     ]
    },
    {
     "name": "stdout",
     "output_type": "stream",
     "text": [
      "Training loss: 0.032, training acc: 98.999\n",
      "Validation loss: 0.040, validation acc: 98.816\n",
      "--------------------------------------------------\n",
      "[INFO]: Epoch 11 of 41\n",
      "Training\n"
     ]
    },
    {
     "name": "stderr",
     "output_type": "stream",
     "text": [
      "100%|██████████████████████████████████████████████████████████████████████████████| 2114/2114 [05:44<00:00,  6.14it/s]\n"
     ]
    },
    {
     "name": "stdout",
     "output_type": "stream",
     "text": [
      "Validation\n"
     ]
    },
    {
     "name": "stderr",
     "output_type": "stream",
     "text": [
      "100%|████████████████████████████████████████████████████████████████████████████████| 529/529 [00:26<00:00, 19.72it/s]\n"
     ]
    },
    {
     "name": "stdout",
     "output_type": "stream",
     "text": [
      "Training loss: 0.029, training acc: 99.066\n",
      "Validation loss: 5.410, validation acc: 45.543\n",
      "--------------------------------------------------\n",
      "[INFO]: Epoch 12 of 41\n",
      "Training\n"
     ]
    },
    {
     "name": "stderr",
     "output_type": "stream",
     "text": [
      "100%|██████████████████████████████████████████████████████████████████████████████| 2114/2114 [05:43<00:00,  6.15it/s]\n"
     ]
    },
    {
     "name": "stdout",
     "output_type": "stream",
     "text": [
      "Validation\n"
     ]
    },
    {
     "name": "stderr",
     "output_type": "stream",
     "text": [
      "100%|████████████████████████████████████████████████████████████████████████████████| 529/529 [00:26<00:00, 19.64it/s]\n"
     ]
    },
    {
     "name": "stdout",
     "output_type": "stream",
     "text": [
      "Training loss: 0.027, training acc: 99.112\n",
      "Validation loss: 0.037, validation acc: 98.922\n",
      "--------------------------------------------------\n",
      "[INFO]: Epoch 13 of 41\n",
      "Training\n"
     ]
    },
    {
     "name": "stderr",
     "output_type": "stream",
     "text": [
      "100%|██████████████████████████████████████████████████████████████████████████████| 2114/2114 [05:44<00:00,  6.13it/s]\n"
     ]
    },
    {
     "name": "stdout",
     "output_type": "stream",
     "text": [
      "Validation\n"
     ]
    },
    {
     "name": "stderr",
     "output_type": "stream",
     "text": [
      "100%|████████████████████████████████████████████████████████████████████████████████| 529/529 [00:47<00:00, 11.18it/s]\n"
     ]
    },
    {
     "name": "stdout",
     "output_type": "stream",
     "text": [
      "Training loss: 0.025, training acc: 99.201\n",
      "Validation loss: 0.044, validation acc: 98.681\n",
      "--------------------------------------------------\n",
      "[INFO]: Epoch 14 of 41\n",
      "Training\n"
     ]
    },
    {
     "name": "stderr",
     "output_type": "stream",
     "text": [
      "100%|██████████████████████████████████████████████████████████████████████████████| 2114/2114 [05:58<00:00,  5.90it/s]\n"
     ]
    },
    {
     "name": "stdout",
     "output_type": "stream",
     "text": [
      "Validation\n"
     ]
    },
    {
     "name": "stderr",
     "output_type": "stream",
     "text": [
      "100%|████████████████████████████████████████████████████████████████████████████████| 529/529 [00:37<00:00, 14.12it/s]\n"
     ]
    },
    {
     "name": "stdout",
     "output_type": "stream",
     "text": [
      "Training loss: 0.023, training acc: 99.238\n",
      "Validation loss: 0.047, validation acc: 98.640\n",
      "--------------------------------------------------\n",
      "[INFO]: Epoch 15 of 41\n",
      "Training\n"
     ]
    },
    {
     "name": "stderr",
     "output_type": "stream",
     "text": [
      "100%|██████████████████████████████████████████████████████████████████████████████| 2114/2114 [06:38<00:00,  5.30it/s]\n"
     ]
    },
    {
     "name": "stdout",
     "output_type": "stream",
     "text": [
      "Validation\n"
     ]
    },
    {
     "name": "stderr",
     "output_type": "stream",
     "text": [
      "100%|████████████████████████████████████████████████████████████████████████████████| 529/529 [00:37<00:00, 13.95it/s]\n"
     ]
    },
    {
     "name": "stdout",
     "output_type": "stream",
     "text": [
      "Training loss: 0.022, training acc: 99.291\n",
      "Validation loss: 0.056, validation acc: 98.383\n",
      "--------------------------------------------------\n",
      "[INFO]: Epoch 16 of 41\n",
      "Training\n"
     ]
    },
    {
     "name": "stderr",
     "output_type": "stream",
     "text": [
      "100%|██████████████████████████████████████████████████████████████████████████████| 2114/2114 [06:05<00:00,  5.78it/s]\n"
     ]
    },
    {
     "name": "stdout",
     "output_type": "stream",
     "text": [
      "Validation\n"
     ]
    },
    {
     "name": "stderr",
     "output_type": "stream",
     "text": [
      "100%|████████████████████████████████████████████████████████████████████████████████| 529/529 [00:26<00:00, 19.65it/s]\n"
     ]
    },
    {
     "name": "stdout",
     "output_type": "stream",
     "text": [
      "Training loss: 0.020, training acc: 99.342\n",
      "Validation loss: 2.276, validation acc: 64.000\n",
      "--------------------------------------------------\n",
      "[INFO]: Epoch 17 of 41\n",
      "Training\n"
     ]
    },
    {
     "name": "stderr",
     "output_type": "stream",
     "text": [
      "100%|██████████████████████████████████████████████████████████████████████████████| 2114/2114 [05:44<00:00,  6.13it/s]\n"
     ]
    },
    {
     "name": "stdout",
     "output_type": "stream",
     "text": [
      "Validation\n"
     ]
    },
    {
     "name": "stderr",
     "output_type": "stream",
     "text": [
      "100%|████████████████████████████████████████████████████████████████████████████████| 529/529 [00:26<00:00, 19.66it/s]\n"
     ]
    },
    {
     "name": "stdout",
     "output_type": "stream",
     "text": [
      "Training loss: 0.018, training acc: 99.406\n",
      "Validation loss: 0.032, validation acc: 99.132\n",
      "--------------------------------------------------\n",
      "[INFO]: Epoch 18 of 41\n",
      "Training\n"
     ]
    },
    {
     "name": "stderr",
     "output_type": "stream",
     "text": [
      "100%|██████████████████████████████████████████████████████████████████████████████| 2114/2114 [05:45<00:00,  6.11it/s]\n"
     ]
    },
    {
     "name": "stdout",
     "output_type": "stream",
     "text": [
      "Validation\n"
     ]
    },
    {
     "name": "stderr",
     "output_type": "stream",
     "text": [
      "100%|████████████████████████████████████████████████████████████████████████████████| 529/529 [00:27<00:00, 19.06it/s]\n"
     ]
    },
    {
     "name": "stdout",
     "output_type": "stream",
     "text": [
      "Training loss: 0.017, training acc: 99.434\n",
      "Validation loss: 0.028, validation acc: 99.221\n",
      "--------------------------------------------------\n",
      "[INFO]: Epoch 19 of 41\n",
      "Training\n"
     ]
    },
    {
     "name": "stderr",
     "output_type": "stream",
     "text": [
      "100%|██████████████████████████████████████████████████████████████████████████████| 2114/2114 [05:44<00:00,  6.14it/s]\n"
     ]
    },
    {
     "name": "stdout",
     "output_type": "stream",
     "text": [
      "Validation\n"
     ]
    },
    {
     "name": "stderr",
     "output_type": "stream",
     "text": [
      "100%|████████████████████████████████████████████████████████████████████████████████| 529/529 [00:26<00:00, 19.63it/s]\n"
     ]
    },
    {
     "name": "stdout",
     "output_type": "stream",
     "text": [
      "Training loss: 0.015, training acc: 99.479\n",
      "Validation loss: 0.036, validation acc: 99.082\n",
      "--------------------------------------------------\n",
      "[INFO]: Epoch 20 of 41\n",
      "Training\n"
     ]
    },
    {
     "name": "stderr",
     "output_type": "stream",
     "text": [
      "100%|██████████████████████████████████████████████████████████████████████████████| 2114/2114 [05:50<00:00,  6.03it/s]\n"
     ]
    },
    {
     "name": "stdout",
     "output_type": "stream",
     "text": [
      "Validation\n"
     ]
    },
    {
     "name": "stderr",
     "output_type": "stream",
     "text": [
      "100%|████████████████████████████████████████████████████████████████████████████████| 529/529 [00:27<00:00, 19.49it/s]\n"
     ]
    },
    {
     "name": "stdout",
     "output_type": "stream",
     "text": [
      "Training loss: 0.014, training acc: 99.521\n",
      "Validation loss: 0.024, validation acc: 99.366\n",
      "--------------------------------------------------\n",
      "[INFO]: Epoch 21 of 41\n",
      "Training\n"
     ]
    },
    {
     "name": "stderr",
     "output_type": "stream",
     "text": [
      "100%|██████████████████████████████████████████████████████████████████████████████| 2114/2114 [05:43<00:00,  6.16it/s]\n"
     ]
    },
    {
     "name": "stdout",
     "output_type": "stream",
     "text": [
      "Validation\n"
     ]
    },
    {
     "name": "stderr",
     "output_type": "stream",
     "text": [
      "100%|████████████████████████████████████████████████████████████████████████████████| 529/529 [00:26<00:00, 19.80it/s]\n"
     ]
    },
    {
     "name": "stdout",
     "output_type": "stream",
     "text": [
      "Training loss: 0.013, training acc: 99.541\n",
      "Validation loss: 0.026, validation acc: 99.326\n",
      "--------------------------------------------------\n",
      "[INFO]: Epoch 22 of 41\n",
      "Training\n"
     ]
    },
    {
     "name": "stderr",
     "output_type": "stream",
     "text": [
      "100%|██████████████████████████████████████████████████████████████████████████████| 2114/2114 [05:48<00:00,  6.06it/s]\n"
     ]
    },
    {
     "name": "stdout",
     "output_type": "stream",
     "text": [
      "Validation\n"
     ]
    },
    {
     "name": "stderr",
     "output_type": "stream",
     "text": [
      "100%|████████████████████████████████████████████████████████████████████████████████| 529/529 [00:42<00:00, 12.31it/s]\n"
     ]
    },
    {
     "name": "stdout",
     "output_type": "stream",
     "text": [
      "Training loss: 0.013, training acc: 99.584\n",
      "Validation loss: 0.025, validation acc: 99.324\n",
      "--------------------------------------------------\n",
      "[INFO]: Epoch 23 of 41\n",
      "Training\n"
     ]
    },
    {
     "name": "stderr",
     "output_type": "stream",
     "text": [
      "100%|██████████████████████████████████████████████████████████████████████████████| 2114/2114 [05:44<00:00,  6.13it/s]\n"
     ]
    },
    {
     "name": "stdout",
     "output_type": "stream",
     "text": [
      "Validation\n"
     ]
    },
    {
     "name": "stderr",
     "output_type": "stream",
     "text": [
      "100%|████████████████████████████████████████████████████████████████████████████████| 529/529 [00:36<00:00, 14.47it/s]\n"
     ]
    },
    {
     "name": "stdout",
     "output_type": "stream",
     "text": [
      "Training loss: 0.012, training acc: 99.588\n",
      "Validation loss: 0.037, validation acc: 99.046\n",
      "--------------------------------------------------\n",
      "[INFO]: Epoch 24 of 41\n",
      "Training\n"
     ]
    },
    {
     "name": "stderr",
     "output_type": "stream",
     "text": [
      "100%|██████████████████████████████████████████████████████████████████████████████| 2114/2114 [06:27<00:00,  5.46it/s]\n"
     ]
    },
    {
     "name": "stdout",
     "output_type": "stream",
     "text": [
      "Validation\n"
     ]
    },
    {
     "name": "stderr",
     "output_type": "stream",
     "text": [
      "100%|████████████████████████████████████████████████████████████████████████████████| 529/529 [00:53<00:00,  9.89it/s]\n"
     ]
    },
    {
     "name": "stdout",
     "output_type": "stream",
     "text": [
      "Training loss: 0.011, training acc: 99.644\n",
      "Validation loss: 0.027, validation acc: 99.296\n",
      "--------------------------------------------------\n",
      "[INFO]: Epoch 25 of 41\n",
      "Training\n"
     ]
    },
    {
     "name": "stderr",
     "output_type": "stream",
     "text": [
      "100%|██████████████████████████████████████████████████████████████████████████████| 2114/2114 [06:17<00:00,  5.59it/s]\n"
     ]
    },
    {
     "name": "stdout",
     "output_type": "stream",
     "text": [
      "Validation\n"
     ]
    },
    {
     "name": "stderr",
     "output_type": "stream",
     "text": [
      "100%|████████████████████████████████████████████████████████████████████████████████| 529/529 [00:27<00:00, 19.53it/s]\n"
     ]
    },
    {
     "name": "stdout",
     "output_type": "stream",
     "text": [
      "Training loss: 0.011, training acc: 99.632\n",
      "Validation loss: 0.034, validation acc: 99.080\n",
      "--------------------------------------------------\n",
      "[INFO]: Epoch 26 of 41\n",
      "Training\n"
     ]
    },
    {
     "name": "stderr",
     "output_type": "stream",
     "text": [
      "100%|██████████████████████████████████████████████████████████████████████████████| 2114/2114 [05:46<00:00,  6.09it/s]\n"
     ]
    },
    {
     "name": "stdout",
     "output_type": "stream",
     "text": [
      "Validation\n"
     ]
    },
    {
     "name": "stderr",
     "output_type": "stream",
     "text": [
      "100%|████████████████████████████████████████████████████████████████████████████████| 529/529 [00:26<00:00, 19.70it/s]\n"
     ]
    },
    {
     "name": "stdout",
     "output_type": "stream",
     "text": [
      "Training loss: 0.009, training acc: 99.681\n",
      "Validation loss: 0.026, validation acc: 99.352\n",
      "--------------------------------------------------\n",
      "[INFO]: Epoch 27 of 41\n",
      "Training\n"
     ]
    },
    {
     "name": "stderr",
     "output_type": "stream",
     "text": [
      "100%|██████████████████████████████████████████████████████████████████████████████| 2114/2114 [05:44<00:00,  6.13it/s]\n"
     ]
    },
    {
     "name": "stdout",
     "output_type": "stream",
     "text": [
      "Validation\n"
     ]
    },
    {
     "name": "stderr",
     "output_type": "stream",
     "text": [
      "100%|████████████████████████████████████████████████████████████████████████████████| 529/529 [00:26<00:00, 19.69it/s]\n"
     ]
    },
    {
     "name": "stdout",
     "output_type": "stream",
     "text": [
      "Training loss: 0.009, training acc: 99.675\n",
      "Validation loss: 0.024, validation acc: 99.419\n",
      "--------------------------------------------------\n",
      "[INFO]: Epoch 28 of 41\n",
      "Training\n"
     ]
    },
    {
     "name": "stderr",
     "output_type": "stream",
     "text": [
      "100%|██████████████████████████████████████████████████████████████████████████████| 2114/2114 [05:43<00:00,  6.15it/s]\n"
     ]
    },
    {
     "name": "stdout",
     "output_type": "stream",
     "text": [
      "Validation\n"
     ]
    },
    {
     "name": "stderr",
     "output_type": "stream",
     "text": [
      "100%|████████████████████████████████████████████████████████████████████████████████| 529/529 [00:27<00:00, 19.49it/s]\n"
     ]
    },
    {
     "name": "stdout",
     "output_type": "stream",
     "text": [
      "Training loss: 0.009, training acc: 99.704\n",
      "Validation loss: 0.077, validation acc: 98.031\n",
      "--------------------------------------------------\n",
      "[INFO]: Epoch 29 of 41\n",
      "Training\n"
     ]
    },
    {
     "name": "stderr",
     "output_type": "stream",
     "text": [
      "100%|██████████████████████████████████████████████████████████████████████████████| 2114/2114 [05:43<00:00,  6.15it/s]\n"
     ]
    },
    {
     "name": "stdout",
     "output_type": "stream",
     "text": [
      "Validation\n"
     ]
    },
    {
     "name": "stderr",
     "output_type": "stream",
     "text": [
      "100%|████████████████████████████████████████████████████████████████████████████████| 529/529 [00:26<00:00, 19.68it/s]"
     ]
    },
    {
     "name": "stdout",
     "output_type": "stream",
     "text": [
      "Training loss: 0.008, training acc: 99.725\n",
      "Validation loss: 0.030, validation acc: 99.265\n",
      "--------------------------------------------------\n",
      "[INFO]: Epoch 30 of 41\n",
      "Training\n"
     ]
    },
    {
     "name": "stderr",
     "output_type": "stream",
     "text": [
      "\n",
      "100%|██████████████████████████████████████████████████████████████████████████████| 2114/2114 [05:43<00:00,  6.15it/s]\n"
     ]
    },
    {
     "name": "stdout",
     "output_type": "stream",
     "text": [
      "Validation\n"
     ]
    },
    {
     "name": "stderr",
     "output_type": "stream",
     "text": [
      "100%|████████████████████████████████████████████████████████████████████████████████| 529/529 [00:27<00:00, 19.49it/s]\n"
     ]
    },
    {
     "name": "stdout",
     "output_type": "stream",
     "text": [
      "Training loss: 0.008, training acc: 99.727\n",
      "Validation loss: 0.684, validation acc: 86.636\n",
      "--------------------------------------------------\n",
      "[INFO]: Epoch 31 of 41\n",
      "Training\n"
     ]
    },
    {
     "name": "stderr",
     "output_type": "stream",
     "text": [
      "100%|██████████████████████████████████████████████████████████████████████████████| 2114/2114 [05:43<00:00,  6.15it/s]\n"
     ]
    },
    {
     "name": "stdout",
     "output_type": "stream",
     "text": [
      "Validation\n"
     ]
    },
    {
     "name": "stderr",
     "output_type": "stream",
     "text": [
      "100%|████████████████████████████████████████████████████████████████████████████████| 529/529 [00:45<00:00, 11.75it/s]\n"
     ]
    },
    {
     "name": "stdout",
     "output_type": "stream",
     "text": [
      "Training loss: 0.008, training acc: 99.735\n",
      "Validation loss: 0.026, validation acc: 99.369\n",
      "--------------------------------------------------\n",
      "[INFO]: Epoch 32 of 41\n",
      "Training\n"
     ]
    },
    {
     "name": "stderr",
     "output_type": "stream",
     "text": [
      "100%|██████████████████████████████████████████████████████████████████████████████| 2114/2114 [05:44<00:00,  6.14it/s]\n"
     ]
    },
    {
     "name": "stdout",
     "output_type": "stream",
     "text": [
      "Validation\n"
     ]
    },
    {
     "name": "stderr",
     "output_type": "stream",
     "text": [
      "100%|████████████████████████████████████████████████████████████████████████████████| 529/529 [00:41<00:00, 12.89it/s]\n"
     ]
    },
    {
     "name": "stdout",
     "output_type": "stream",
     "text": [
      "Training loss: 0.007, training acc: 99.749\n",
      "Validation loss: 0.030, validation acc: 99.262\n",
      "--------------------------------------------------\n",
      "[INFO]: Epoch 33 of 41\n",
      "Training\n"
     ]
    },
    {
     "name": "stderr",
     "output_type": "stream",
     "text": [
      "100%|██████████████████████████████████████████████████████████████████████████████| 2114/2114 [06:11<00:00,  5.69it/s]\n"
     ]
    },
    {
     "name": "stdout",
     "output_type": "stream",
     "text": [
      "Validation\n"
     ]
    },
    {
     "name": "stderr",
     "output_type": "stream",
     "text": [
      "100%|████████████████████████████████████████████████████████████████████████████████| 529/529 [00:36<00:00, 14.33it/s]\n"
     ]
    },
    {
     "name": "stdout",
     "output_type": "stream",
     "text": [
      "Training loss: 0.007, training acc: 99.740\n",
      "Validation loss: 0.024, validation acc: 99.496\n",
      "--------------------------------------------------\n",
      "[INFO]: Epoch 34 of 41\n",
      "Training\n"
     ]
    },
    {
     "name": "stderr",
     "output_type": "stream",
     "text": [
      "100%|██████████████████████████████████████████████████████████████████████████████| 2114/2114 [06:23<00:00,  5.51it/s]\n"
     ]
    },
    {
     "name": "stdout",
     "output_type": "stream",
     "text": [
      "Validation\n"
     ]
    },
    {
     "name": "stderr",
     "output_type": "stream",
     "text": [
      "100%|████████████████████████████████████████████████████████████████████████████████| 529/529 [00:26<00:00, 19.68it/s]\n"
     ]
    },
    {
     "name": "stdout",
     "output_type": "stream",
     "text": [
      "Training loss: 0.006, training acc: 99.784\n",
      "Validation loss: 0.552, validation acc: 86.803\n",
      "--------------------------------------------------\n",
      "[INFO]: Epoch 35 of 41\n",
      "Training\n"
     ]
    },
    {
     "name": "stderr",
     "output_type": "stream",
     "text": [
      "100%|██████████████████████████████████████████████████████████████████████████████| 2114/2114 [05:42<00:00,  6.16it/s]\n"
     ]
    },
    {
     "name": "stdout",
     "output_type": "stream",
     "text": [
      "Validation\n"
     ]
    },
    {
     "name": "stderr",
     "output_type": "stream",
     "text": [
      "100%|████████████████████████████████████████████████████████████████████████████████| 529/529 [00:27<00:00, 19.54it/s]\n"
     ]
    },
    {
     "name": "stdout",
     "output_type": "stream",
     "text": [
      "Training loss: 0.007, training acc: 99.756\n",
      "Validation loss: 0.045, validation acc: 98.893\n",
      "--------------------------------------------------\n",
      "[INFO]: Epoch 36 of 41\n",
      "Training\n"
     ]
    },
    {
     "name": "stderr",
     "output_type": "stream",
     "text": [
      "100%|██████████████████████████████████████████████████████████████████████████████| 2114/2114 [05:43<00:00,  6.15it/s]\n"
     ]
    },
    {
     "name": "stdout",
     "output_type": "stream",
     "text": [
      "Validation\n"
     ]
    },
    {
     "name": "stderr",
     "output_type": "stream",
     "text": [
      "100%|████████████████████████████████████████████████████████████████████████████████| 529/529 [00:26<00:00, 19.59it/s]\n"
     ]
    },
    {
     "name": "stdout",
     "output_type": "stream",
     "text": [
      "Training loss: 0.006, training acc: 99.799\n",
      "Validation loss: 0.040, validation acc: 99.017\n",
      "--------------------------------------------------\n",
      "[INFO]: Epoch 37 of 41\n",
      "Training\n"
     ]
    },
    {
     "name": "stderr",
     "output_type": "stream",
     "text": [
      "100%|██████████████████████████████████████████████████████████████████████████████| 2114/2114 [05:44<00:00,  6.14it/s]\n"
     ]
    },
    {
     "name": "stdout",
     "output_type": "stream",
     "text": [
      "Validation\n"
     ]
    },
    {
     "name": "stderr",
     "output_type": "stream",
     "text": [
      "100%|████████████████████████████████████████████████████████████████████████████████| 529/529 [00:58<00:00,  8.97it/s]\n"
     ]
    },
    {
     "name": "stdout",
     "output_type": "stream",
     "text": [
      "Training loss: 0.006, training acc: 99.761\n",
      "Validation loss: 0.026, validation acc: 99.428\n",
      "--------------------------------------------------\n",
      "[INFO]: Epoch 38 of 41\n",
      "Training\n"
     ]
    },
    {
     "name": "stderr",
     "output_type": "stream",
     "text": [
      "100%|██████████████████████████████████████████████████████████████████████████████| 2114/2114 [05:44<00:00,  6.13it/s]\n"
     ]
    },
    {
     "name": "stdout",
     "output_type": "stream",
     "text": [
      "Validation\n"
     ]
    },
    {
     "name": "stderr",
     "output_type": "stream",
     "text": [
      "100%|████████████████████████████████████████████████████████████████████████████████| 529/529 [00:26<00:00, 19.71it/s]\n"
     ]
    },
    {
     "name": "stdout",
     "output_type": "stream",
     "text": [
      "Training loss: 0.006, training acc: 99.806\n",
      "Validation loss: 0.024, validation acc: 99.494\n",
      "--------------------------------------------------\n",
      "[INFO]: Epoch 39 of 41\n",
      "Training\n"
     ]
    },
    {
     "name": "stderr",
     "output_type": "stream",
     "text": [
      "100%|██████████████████████████████████████████████████████████████████████████████| 2114/2114 [05:44<00:00,  6.14it/s]\n"
     ]
    },
    {
     "name": "stdout",
     "output_type": "stream",
     "text": [
      "Validation\n"
     ]
    },
    {
     "name": "stderr",
     "output_type": "stream",
     "text": [
      "100%|████████████████████████████████████████████████████████████████████████████████| 529/529 [00:26<00:00, 19.66it/s]\n"
     ]
    },
    {
     "name": "stdout",
     "output_type": "stream",
     "text": [
      "Training loss: 0.006, training acc: 99.805\n",
      "Validation loss: 0.025, validation acc: 99.491\n",
      "--------------------------------------------------\n",
      "[INFO]: Epoch 40 of 41\n",
      "Training\n"
     ]
    },
    {
     "name": "stderr",
     "output_type": "stream",
     "text": [
      " 29%|██████████████████████▋                                                        | 608/2114 [01:39<04:07,  6.09it/s]IOPub message rate exceeded.\n",
      "The notebook server will temporarily stop sending output\n",
      "to the client in order to avoid crashing it.\n",
      "To change this limit, set the config variable\n",
      "`--NotebookApp.iopub_msg_rate_limit`.\n",
      "\n",
      "Current values:\n",
      "NotebookApp.iopub_msg_rate_limit=1000.0 (msgs/sec)\n",
      "NotebookApp.rate_limit_window=3.0 (secs)\n",
      "\n"
     ]
    }
   ],
   "source": [
    "# lists to keep track of losses and accuracies\n",
    "train_loss, valid_loss = [], []\n",
    "train_acc, valid_acc = [], []\n",
    "# start the training\n",
    "for epoch in range(EPOCHS):\n",
    "    print(f\"[INFO]: Epoch {epoch+1} of {EPOCHS}\")\n",
    "    train_epoch_loss, train_epoch_acc = train(model, train_loader, \n",
    "                                              optimizer, loss)\n",
    "    valid_epoch_loss, valid_epoch_acc = validate(model, valid_loader,  \n",
    "                                                 loss)\n",
    "    train_loss.append(train_epoch_loss)\n",
    "    valid_loss.append(valid_epoch_loss)\n",
    "    train_acc.append(train_epoch_acc)\n",
    "    valid_acc.append(valid_epoch_acc)\n",
    "    print(f\"Training loss: {train_epoch_loss:.3f}, training acc: {train_epoch_acc:.3f}\")\n",
    "    print(f\"Validation loss: {valid_epoch_loss:.3f}, validation acc: {valid_epoch_acc:.3f}\")\n",
    "    print('-'*50)\n",
    "    torch.save(model.state_dict(), 'models/mathnet/mathnet'+str(epoch)+'.ml')\n",
    "    \n",
    "# save the trained model weights\n",
    "torch.save(model.state_dict(), 'models/mathnet/mathnet.ml')\n",
    "# save the loss and accuracy plots\n",
    "save_plots(train_acc, valid_acc, train_loss, valid_loss)\n",
    "print('TRAINING COMPLETE')"
   ]
  },
  {
   "cell_type": "code",
   "execution_count": 30,
   "id": "7eb3c72e",
   "metadata": {},
   "outputs": [],
   "source": [
    "[INFO]: Epoch 1 of 41\n",
    "Training\n",
    "\n",
    "100%|██████████████████████████████████████████████████████████████████████████████| 2114/2114 [06:10<00:00,  5.70it/s]\n",
    "\n",
    "Validation\n",
    "\n",
    "100%|████████████████████████████████████████████████████████████████████████████████| 529/529 [00:26<00:00, 19.61it/s]\n",
    "\n",
    "Training loss: 0.217, training acc: 94.705\n",
    "Validation loss: 0.087, validation acc: 97.491\n",
    "--------------------------------------------------\n",
    "[INFO]: Epoch 2 of 41\n",
    "Training\n",
    "\n",
    "100%|██████████████████████████████████████████████████████████████████████████████| 2114/2114 [05:45<00:00,  6.11it/s]\n",
    "\n",
    "Validation\n",
    "\n",
    "100%|████████████████████████████████████████████████████████████████████████████████| 529/529 [00:26<00:00, 19.88it/s]\n",
    "\n",
    "Training loss: 0.082, training acc: 97.696\n",
    "Validation loss: 0.083, validation acc: 97.589\n",
    "--------------------------------------------------\n",
    "[INFO]: Epoch 3 of 41\n",
    "Training\n",
    "\n",
    "100%|██████████████████████████████████████████████████████████████████████████████| 2114/2114 [05:44<00:00,  6.14it/s]\n",
    "\n",
    "Validation\n",
    "\n",
    "100%|████████████████████████████████████████████████████████████████████████████████| 529/529 [00:26<00:00, 19.63it/s]\n",
    "\n",
    "Training loss: 0.067, training acc: 98.047\n",
    "Validation loss: 0.064, validation acc: 98.063\n",
    "--------------------------------------------------\n",
    "[INFO]: Epoch 4 of 41\n",
    "Training\n",
    "\n",
    "100%|██████████████████████████████████████████████████████████████████████████████| 2114/2114 [05:45<00:00,  6.12it/s]\n",
    "\n",
    "Validation\n",
    "\n",
    "100%|████████████████████████████████████████████████████████████████████████████████| 529/529 [00:36<00:00, 14.47it/s]\n",
    "\n",
    "Training loss: 0.058, training acc: 98.261\n",
    "Validation loss: 0.056, validation acc: 98.347\n",
    "--------------------------------------------------\n",
    "[INFO]: Epoch 5 of 41\n",
    "Training\n",
    "\n",
    "100%|██████████████████████████████████████████████████████████████████████████████| 2114/2114 [06:01<00:00,  5.86it/s]\n",
    "\n",
    "Validation\n",
    "\n",
    "100%|████████████████████████████████████████████████████████████████████████████████| 529/529 [00:37<00:00, 14.12it/s]\n",
    "\n",
    "Training loss: 0.052, training acc: 98.427\n",
    "Validation loss: 0.059, validation acc: 98.273\n",
    "--------------------------------------------------\n",
    "[INFO]: Epoch 6 of 41\n",
    "Training\n",
    "\n",
    "100%|██████████████████████████████████████████████████████████████████████████████| 2114/2114 [06:01<00:00,  5.85it/s]\n",
    "\n",
    "Validation\n",
    "\n",
    "100%|████████████████████████████████████████████████████████████████████████████████| 529/529 [00:49<00:00, 10.74it/s]\n",
    "\n",
    "Training loss: 0.046, training acc: 98.569\n",
    "Validation loss: 0.055, validation acc: 98.318\n",
    "--------------------------------------------------\n",
    "[INFO]: Epoch 7 of 41\n",
    "Training\n",
    "\n",
    "100%|██████████████████████████████████████████████████████████████████████████████| 2114/2114 [05:45<00:00,  6.11it/s]\n",
    "\n",
    "Validation\n",
    "\n",
    "100%|████████████████████████████████████████████████████████████████████████████████| 529/529 [00:26<00:00, 19.65it/s]\n",
    "\n",
    "Training loss: 0.042, training acc: 98.684\n",
    "Validation loss: 0.048, validation acc: 98.536\n",
    "--------------------------------------------------\n",
    "[INFO]: Epoch 8 of 41\n",
    "Training\n",
    "\n",
    "100%|██████████████████████████████████████████████████████████████████████████████| 2114/2114 [05:44<00:00,  6.14it/s]\n",
    "\n",
    "Validation\n",
    "\n",
    "100%|████████████████████████████████████████████████████████████████████████████████| 529/529 [00:26<00:00, 19.66it/s]\n",
    "\n",
    "Training loss: 0.038, training acc: 98.818\n",
    "Validation loss: 0.045, validation acc: 98.621\n",
    "--------------------------------------------------\n",
    "[INFO]: Epoch 9 of 41\n",
    "Training\n",
    "\n",
    "100%|██████████████████████████████████████████████████████████████████████████████| 2114/2114 [05:43<00:00,  6.15it/s]\n",
    "\n",
    "Validation\n",
    "\n",
    "100%|████████████████████████████████████████████████████████████████████████████████| 529/529 [00:26<00:00, 19.62it/s]\n",
    "\n",
    "Training loss: 0.034, training acc: 98.918\n",
    "Validation loss: 0.044, validation acc: 98.684\n",
    "--------------------------------------------------\n",
    "[INFO]: Epoch 10 of 41\n",
    "Training\n",
    "\n",
    "100%|██████████████████████████████████████████████████████████████████████████████| 2114/2114 [05:43<00:00,  6.15it/s]\n",
    "\n",
    "Validation\n",
    "\n",
    "100%|████████████████████████████████████████████████████████████████████████████████| 529/529 [00:26<00:00, 19.66it/s]\n",
    "\n",
    "Training loss: 0.032, training acc: 98.999\n",
    "Validation loss: 0.040, validation acc: 98.816\n",
    "--------------------------------------------------\n",
    "[INFO]: Epoch 11 of 41\n",
    "Training\n",
    "\n",
    "100%|██████████████████████████████████████████████████████████████████████████████| 2114/2114 [05:44<00:00,  6.14it/s]\n",
    "\n",
    "Validation\n",
    "\n",
    "100%|████████████████████████████████████████████████████████████████████████████████| 529/529 [00:26<00:00, 19.72it/s]\n",
    "\n",
    "Training loss: 0.029, training acc: 99.066\n",
    "Validation loss: 5.410, validation acc: 45.543\n",
    "--------------------------------------------------\n",
    "[INFO]: Epoch 12 of 41\n",
    "Training\n",
    "\n",
    "100%|██████████████████████████████████████████████████████████████████████████████| 2114/2114 [05:43<00:00,  6.15it/s]\n",
    "\n",
    "Validation\n",
    "\n",
    "100%|████████████████████████████████████████████████████████████████████████████████| 529/529 [00:26<00:00, 19.64it/s]\n",
    "\n",
    "Training loss: 0.027, training acc: 99.112\n",
    "Validation loss: 0.037, validation acc: 98.922\n",
    "--------------------------------------------------\n",
    "[INFO]: Epoch 13 of 41\n",
    "Training\n",
    "\n",
    "100%|██████████████████████████████████████████████████████████████████████████████| 2114/2114 [05:44<00:00,  6.13it/s]\n",
    "\n",
    "Validation\n",
    "\n",
    "100%|████████████████████████████████████████████████████████████████████████████████| 529/529 [00:47<00:00, 11.18it/s]\n",
    "\n",
    "Training loss: 0.025, training acc: 99.201\n",
    "Validation loss: 0.044, validation acc: 98.681\n",
    "--------------------------------------------------\n",
    "[INFO]: Epoch 14 of 41\n",
    "Training\n",
    "\n",
    "100%|██████████████████████████████████████████████████████████████████████████████| 2114/2114 [05:58<00:00,  5.90it/s]\n",
    "\n",
    "Validation\n",
    "\n",
    "100%|████████████████████████████████████████████████████████████████████████████████| 529/529 [00:37<00:00, 14.12it/s]\n",
    "\n",
    "Training loss: 0.023, training acc: 99.238\n",
    "Validation loss: 0.047, validation acc: 98.640\n",
    "--------------------------------------------------\n",
    "[INFO]: Epoch 15 of 41\n",
    "Training\n",
    "\n",
    "100%|██████████████████████████████████████████████████████████████████████████████| 2114/2114 [06:38<00:00,  5.30it/s]\n",
    "\n",
    "Validation\n",
    "\n",
    "100%|████████████████████████████████████████████████████████████████████████████████| 529/529 [00:37<00:00, 13.95it/s]\n",
    "\n",
    "Training loss: 0.022, training acc: 99.291\n",
    "Validation loss: 0.056, validation acc: 98.383\n",
    "--------------------------------------------------\n",
    "[INFO]: Epoch 16 of 41\n",
    "Training\n",
    "\n",
    "100%|██████████████████████████████████████████████████████████████████████████████| 2114/2114 [06:05<00:00,  5.78it/s]\n",
    "\n",
    "Validation\n",
    "\n",
    "100%|████████████████████████████████████████████████████████████████████████████████| 529/529 [00:26<00:00, 19.65it/s]\n",
    "\n",
    "Training loss: 0.020, training acc: 99.342\n",
    "Validation loss: 2.276, validation acc: 64.000\n",
    "--------------------------------------------------\n",
    "[INFO]: Epoch 17 of 41\n",
    "Training\n",
    "\n",
    "100%|██████████████████████████████████████████████████████████████████████████████| 2114/2114 [05:44<00:00,  6.13it/s]\n",
    "\n",
    "Validation\n",
    "\n",
    "100%|████████████████████████████████████████████████████████████████████████████████| 529/529 [00:26<00:00, 19.66it/s]\n",
    "\n",
    "Training loss: 0.018, training acc: 99.406\n",
    "Validation loss: 0.032, validation acc: 99.132\n",
    "--------------------------------------------------\n",
    "[INFO]: Epoch 18 of 41\n",
    "Training\n",
    "\n",
    "100%|██████████████████████████████████████████████████████████████████████████████| 2114/2114 [05:45<00:00,  6.11it/s]\n",
    "\n",
    "Validation\n",
    "\n",
    "100%|████████████████████████████████████████████████████████████████████████████████| 529/529 [00:27<00:00, 19.06it/s]\n",
    "\n",
    "Training loss: 0.017, training acc: 99.434\n",
    "Validation loss: 0.028, validation acc: 99.221\n",
    "--------------------------------------------------\n",
    "[INFO]: Epoch 19 of 41\n",
    "Training\n",
    "\n",
    "100%|██████████████████████████████████████████████████████████████████████████████| 2114/2114 [05:44<00:00,  6.14it/s]\n",
    "\n",
    "Validation\n",
    "\n",
    "100%|████████████████████████████████████████████████████████████████████████████████| 529/529 [00:26<00:00, 19.63it/s]\n",
    "\n",
    "Training loss: 0.015, training acc: 99.479\n",
    "Validation loss: 0.036, validation acc: 99.082\n",
    "--------------------------------------------------\n",
    "[INFO]: Epoch 20 of 41\n",
    "Training\n",
    "\n",
    "100%|██████████████████████████████████████████████████████████████████████████████| 2114/2114 [05:50<00:00,  6.03it/s]\n",
    "\n",
    "Validation\n",
    "\n",
    "100%|████████████████████████████████████████████████████████████████████████████████| 529/529 [00:27<00:00, 19.49it/s]\n",
    "\n",
    "Training loss: 0.014, training acc: 99.521\n",
    "Validation loss: 0.024, validation acc: 99.366\n",
    "--------------------------------------------------\n",
    "[INFO]: Epoch 21 of 41\n",
    "Training\n",
    "\n",
    "100%|██████████████████████████████████████████████████████████████████████████████| 2114/2114 [05:43<00:00,  6.16it/s]\n",
    "\n",
    "Validation\n",
    "\n",
    "100%|████████████████████████████████████████████████████████████████████████████████| 529/529 [00:26<00:00, 19.80it/s]\n",
    "\n",
    "Training loss: 0.013, training acc: 99.541\n",
    "Validation loss: 0.026, validation acc: 99.326\n",
    "--------------------------------------------------\n",
    "[INFO]: Epoch 22 of 41\n",
    "Training\n",
    "\n",
    "100%|██████████████████████████████████████████████████████████████████████████████| 2114/2114 [05:48<00:00,  6.06it/s]\n",
    "\n",
    "Validation\n",
    "\n",
    "100%|████████████████████████████████████████████████████████████████████████████████| 529/529 [00:42<00:00, 12.31it/s]\n",
    "\n",
    "Training loss: 0.013, training acc: 99.584\n",
    "Validation loss: 0.025, validation acc: 99.324\n",
    "--------------------------------------------------\n",
    "[INFO]: Epoch 23 of 41\n",
    "Training\n",
    "\n",
    "100%|██████████████████████████████████████████████████████████████████████████████| 2114/2114 [05:44<00:00,  6.13it/s]\n",
    "\n",
    "Validation\n",
    "\n",
    "100%|████████████████████████████████████████████████████████████████████████████████| 529/529 [00:36<00:00, 14.47it/s]\n",
    "\n",
    "Training loss: 0.012, training acc: 99.588\n",
    "Validation loss: 0.037, validation acc: 99.046\n",
    "--------------------------------------------------\n",
    "[INFO]: Epoch 24 of 41\n",
    "Training\n",
    "\n",
    "100%|██████████████████████████████████████████████████████████████████████████████| 2114/2114 [06:27<00:00,  5.46it/s]\n",
    "\n",
    "Validation\n",
    "\n",
    "100%|████████████████████████████████████████████████████████████████████████████████| 529/529 [00:53<00:00,  9.89it/s]\n",
    "\n",
    "Training loss: 0.011, training acc: 99.644\n",
    "Validation loss: 0.027, validation acc: 99.296\n",
    "--------------------------------------------------\n",
    "[INFO]: Epoch 25 of 41\n",
    "Training\n",
    "\n",
    "100%|██████████████████████████████████████████████████████████████████████████████| 2114/2114 [06:17<00:00,  5.59it/s]\n",
    "\n",
    "Validation\n",
    "\n",
    "100%|████████████████████████████████████████████████████████████████████████████████| 529/529 [00:27<00:00, 19.53it/s]\n",
    "\n",
    "Training loss: 0.011, training acc: 99.632\n",
    "Validation loss: 0.034, validation acc: 99.080\n",
    "--------------------------------------------------\n",
    "[INFO]: Epoch 26 of 41\n",
    "Training\n",
    "\n",
    "100%|██████████████████████████████████████████████████████████████████████████████| 2114/2114 [05:46<00:00,  6.09it/s]\n",
    "\n",
    "Validation\n",
    "\n",
    "100%|████████████████████████████████████████████████████████████████████████████████| 529/529 [00:26<00:00, 19.70it/s]\n",
    "\n",
    "Training loss: 0.009, training acc: 99.681\n",
    "Validation loss: 0.026, validation acc: 99.352\n",
    "--------------------------------------------------\n",
    "[INFO]: Epoch 27 of 41\n",
    "Training\n",
    "\n",
    "100%|██████████████████████████████████████████████████████████████████████████████| 2114/2114 [05:44<00:00,  6.13it/s]\n",
    "\n",
    "Validation\n",
    "\n",
    "100%|████████████████████████████████████████████████████████████████████████████████| 529/529 [00:26<00:00, 19.69it/s]\n",
    "\n",
    "Training loss: 0.009, training acc: 99.675\n",
    "Validation loss: 0.024, validation acc: 99.419\n",
    "--------------------------------------------------\n",
    "[INFO]: Epoch 28 of 41\n",
    "Training\n",
    "\n",
    "100%|██████████████████████████████████████████████████████████████████████████████| 2114/2114 [05:43<00:00,  6.15it/s]\n",
    "\n",
    "Validation\n",
    "\n",
    "100%|████████████████████████████████████████████████████████████████████████████████| 529/529 [00:27<00:00, 19.49it/s]\n",
    "\n",
    "Training loss: 0.009, training acc: 99.704\n",
    "Validation loss: 0.077, validation acc: 98.031\n",
    "--------------------------------------------------\n",
    "[INFO]: Epoch 29 of 41\n",
    "Training\n",
    "\n",
    "100%|██████████████████████████████████████████████████████████████████████████████| 2114/2114 [05:43<00:00,  6.15it/s]\n",
    "\n",
    "Validation\n",
    "\n",
    "100%|████████████████████████████████████████████████████████████████████████████████| 529/529 [00:26<00:00, 19.68it/s]\n",
    "\n",
    "Training loss: 0.008, training acc: 99.725\n",
    "Validation loss: 0.030, validation acc: 99.265\n",
    "--------------------------------------------------\n",
    "[INFO]: Epoch 30 of 41\n",
    "Training\n",
    "\n",
    "\n",
    "100%|██████████████████████████████████████████████████████████████████████████████| 2114/2114 [05:43<00:00,  6.15it/s]\n",
    "\n",
    "Validation\n",
    "\n",
    "100%|████████████████████████████████████████████████████████████████████████████████| 529/529 [00:27<00:00, 19.49it/s]\n",
    "\n",
    "Training loss: 0.008, training acc: 99.727\n",
    "Validation loss: 0.684, validation acc: 86.636\n",
    "--------------------------------------------------\n",
    "[INFO]: Epoch 31 of 41\n",
    "Training\n",
    "\n",
    "100%|██████████████████████████████████████████████████████████████████████████████| 2114/2114 [05:43<00:00,  6.15it/s]\n",
    "\n",
    "Validation\n",
    "\n",
    "100%|████████████████████████████████████████████████████████████████████████████████| 529/529 [00:45<00:00, 11.75it/s]\n",
    "\n",
    "Training loss: 0.008, training acc: 99.735\n",
    "Validation loss: 0.026, validation acc: 99.369\n",
    "--------------------------------------------------\n",
    "[INFO]: Epoch 32 of 41\n",
    "Training\n",
    "\n",
    "100%|██████████████████████████████████████████████████████████████████████████████| 2114/2114 [05:44<00:00,  6.14it/s]\n",
    "\n",
    "Validation\n",
    "\n",
    "100%|████████████████████████████████████████████████████████████████████████████████| 529/529 [00:41<00:00, 12.89it/s]\n",
    "\n",
    "Training loss: 0.007, training acc: 99.749\n",
    "Validation loss: 0.030, validation acc: 99.262\n",
    "--------------------------------------------------\n",
    "[INFO]: Epoch 33 of 41\n",
    "Training\n",
    "\n",
    "100%|██████████████████████████████████████████████████████████████████████████████| 2114/2114 [06:11<00:00,  5.69it/s]\n",
    "\n",
    "Validation\n",
    "\n",
    "100%|████████████████████████████████████████████████████████████████████████████████| 529/529 [00:36<00:00, 14.33it/s]\n",
    "\n",
    "Training loss: 0.007, training acc: 99.740\n",
    "Validation loss: 0.024, validation acc: 99.496\n",
    "--------------------------------------------------\n",
    "[INFO]: Epoch 34 of 41\n",
    "Training\n",
    "\n",
    "100%|██████████████████████████████████████████████████████████████████████████████| 2114/2114 [06:23<00:00,  5.51it/s]\n",
    "\n",
    "Validation\n",
    "\n",
    "100%|████████████████████████████████████████████████████████████████████████████████| 529/529 [00:26<00:00, 19.68it/s]\n",
    "\n",
    "Training loss: 0.006, training acc: 99.784\n",
    "Validation loss: 0.552, validation acc: 86.803\n",
    "--------------------------------------------------\n",
    "[INFO]: Epoch 35 of 41\n",
    "Training\n",
    "\n",
    "100%|██████████████████████████████████████████████████████████████████████████████| 2114/2114 [05:42<00:00,  6.16it/s]\n",
    "\n",
    "Validation\n",
    "\n",
    "100%|████████████████████████████████████████████████████████████████████████████████| 529/529 [00:27<00:00, 19.54it/s]\n",
    "\n",
    "Training loss: 0.007, training acc: 99.756\n",
    "Validation loss: 0.045, validation acc: 98.893\n",
    "--------------------------------------------------\n",
    "[INFO]: Epoch 36 of 41\n",
    "Training\n",
    "\n",
    "100%|██████████████████████████████████████████████████████████████████████████████| 2114/2114 [05:43<00:00,  6.15it/s]\n",
    "\n",
    "Validation\n",
    "\n",
    "100%|████████████████████████████████████████████████████████████████████████████████| 529/529 [00:26<00:00, 19.59it/s]\n",
    "\n",
    "Training loss: 0.006, training acc: 99.799\n",
    "Validation loss: 0.040, validation acc: 99.017\n",
    "--------------------------------------------------\n",
    "[INFO]: Epoch 37 of 41\n",
    "Training\n",
    "\n",
    "100%|██████████████████████████████████████████████████████████████████████████████| 2114/2114 [05:44<00:00,  6.14it/s]\n",
    "\n",
    "Validation\n",
    "\n",
    "100%|████████████████████████████████████████████████████████████████████████████████| 529/529 [00:58<00:00,  8.97it/s]\n",
    "\n",
    "Training loss: 0.006, training acc: 99.761\n",
    "Validation loss: 0.026, validation acc: 99.428\n",
    "--------------------------------------------------\n",
    "[INFO]: Epoch 38 of 41\n",
    "Training\n",
    "\n",
    "100%|██████████████████████████████████████████████████████████████████████████████| 2114/2114 [05:44<00:00,  6.13it/s]\n",
    "\n",
    "Validation\n",
    "\n",
    " 48%|██████████████████████████████████████▋                                         | 256/529 [00:12<00:13, 20.47it/s]"
   ]
  },
  {
   "cell_type": "code",
   "execution_count": 32,
   "id": "cf25c000",
   "metadata": {},
   "outputs": [
    {
     "data": {
      "image/png": "[encoded data removed]",
      "text/plain": [
       "<Figure size 1000x700 with 1 Axes>"
      ]
     },
     "metadata": {},
     "output_type": "display_data"
    },
    {
     "data": {
      "image/png": "[encoded data removed]",
      "text/plain": [
       "<Figure size 1000x700 with 1 Axes>"
      ]
     },
     "metadata": {},
     "output_type": "display_data"
    }
   ],
   "source": [
    "save_plots(train_acc, valid_acc, train_loss, valid_loss)"
   ]
  },
  {
   "cell_type": "code",
   "execution_count": 26,
   "id": "9f79d699",
   "metadata": {},
   "outputs": [],
   "source": [
    "import cv2\n",
    "from PIL import Image, ImageOps\n",
    "\n",
    "img = Image.open(\"0.jpg\")\n",
    "#print(img.shape)\n",
    "convert_tensor = transforms.Compose([\n",
    "    transforms.Resize((28,28)),\n",
    "    transforms.Grayscale(1),\n",
    "    transforms.ToTensor()\n",
    "\n",
    "])        \n",
    "x_image = convert_tensor(img)\n",
    "\n",
    "aaa = transforms.ToPILImage()\n",
    "display(aaa(x_image))\n",
    "\n",
    "x_image = x_image.unsqueeze(0).float()\n",
    "x_image = x_image.to(device)\n",
    "\n",
    "pred = model(x_image) \n",
    "print(pred*10, map_pred(pred.argmax().item()))\n",
    "\n",
    "torch.save(model.state_dict(), 'models/mathnet/mathnet666.ml')"
   ]
  },
  {
   "cell_type": "code",
   "execution_count": null,
   "id": "e2f11bae",
   "metadata": {},
   "outputs": [],
   "source": []
  },
  {
   "cell_type": "code",
   "execution_count": null,
   "id": "6bcf0c64",
   "metadata": {},
   "outputs": [],
   "source": [
    "import cv2\n",
    "from PIL import Image, ImageOps\n",
    "\n",
    "m = MathNet()\n",
    "m.load_state_dict(torch.load('models/mathnet/mathnet.ml'))\n",
    "device = torch.device('cuda:0' if torch.cuda.is_available() else 'cpu')\n",
    "m = m.to(device)\n",
    "m.eval()\n",
    "\n",
    "img = Image.open(\"0.jpg\")\n",
    "#print(img.shape)\n",
    "convert_tensor = transforms.Compose([\n",
    "    transforms.Resize((28,28)),\n",
    "    transforms.Grayscale(1),\n",
    "    transforms.ToTensor()\n",
    "\n",
    "])        \n",
    "x_image = convert_tensor(img)\n",
    "\n",
    "aaa = transforms.ToPILImage()\n",
    "display(aaa(x_image))\n",
    "\n",
    "x_image = x_image.unsqueeze(0).float()\n",
    "x_image = x_image.to(device)\n",
    "\n",
    "pred = m(x_image) \n",
    "print(pred*10, map_pred(pred.argmax().item()))"
   ]
  },
  {
   "cell_type": "code",
   "execution_count": null,
   "id": "79de3bf2",
   "metadata": {},
   "outputs": [],
   "source": []
  }
 ],
 "metadata": {
  "kernelspec": {
   "display_name": "Python 3 (ipykernel)",
   "language": "python",
   "name": "python3"
  },
  "language_info": {
   "codemirror_mode": {
    "name": "ipython",
    "version": 3
   },
   "file_extension": ".py",
   "mimetype": "text/x-python",
   "name": "python",
   "nbconvert_exporter": "python",
   "pygments_lexer": "ipython3",
   "version": "3.10.10"
  }
 },
 "nbformat": 4,
 "nbformat_minor": 5
}
