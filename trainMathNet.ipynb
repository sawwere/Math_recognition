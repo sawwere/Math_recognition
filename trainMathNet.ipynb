{
 "cells": [
  {
   "cell_type": "code",
   "execution_count": 59,
   "id": "5778766f",
   "metadata": {},
   "outputs": [],
   "source": [
    "import torch\n",
    "import torch.utils.data\n",
    "import torchvision\n",
    "import matplotlib.pyplot as plt\n",
    "import numpy as np\n",
    "\n",
    "import torchvision.transforms.v2 as v2\n",
    "from sklearn.model_selection import train_test_split\n",
    "from torch.utils.data import Subset\n",
    "from tqdm import tqdm\n",
    "from PIL import Image, ImageOps\n",
    "\n",
    "import torch.nn as nn\n",
    "from pathlib import Path\n",
    "\n",
    "import models.MathNet as mnt\n",
    "import models.MathNet20 as mnt20\n",
    "import models.MathNet112 as mnt112"
   ]
  },
  {
   "cell_type": "code",
   "execution_count": 60,
   "id": "85dd812d",
   "metadata": {},
   "outputs": [],
   "source": [
    "BATCH_SIZE = 160\n",
    "EPOCHS = 31\n",
    "IMAGE_SIZE = 112"
   ]
  },
  {
   "cell_type": "code",
   "execution_count": 61,
   "id": "855cae2b",
   "metadata": {},
   "outputs": [
    {
     "name": "stderr",
     "output_type": "stream",
     "text": [
      "e:\\Programs\\Anaconda3\\envs\\MyPyTorch\\Lib\\site-packages\\torchvision\\transforms\\v2\\_deprecated.py:43: UserWarning: The transform `ToTensor()` is deprecated and will be removed in a future release. Instead, please use `v2.Compose([v2.ToImage(), v2.ToDtype(torch.float32, scale=True)])`.\n",
      "  warnings.warn(\n"
     ]
    }
   ],
   "source": [
    "# the training transforms\n",
    "train_transform = v2.Compose([\n",
    "    v2.Grayscale(1),\n",
    "    v2.Resize((IMAGE_SIZE, IMAGE_SIZE)),\n",
    "    v2.ToTensor()\n",
    "    #transforms.Normalize(std=0.5, mean=0.2)\n",
    "    \n",
    "])\n",
    "# the validation transforms\n",
    "valid_transform = v2.Compose([\n",
    "    v2.Grayscale(1),\n",
    "    v2.Resize((IMAGE_SIZE, IMAGE_SIZE)),\n",
    "    v2.ToTensor()\n",
    "])"
   ]
  },
  {
   "cell_type": "code",
   "execution_count": 62,
   "id": "c8bc27a5",
   "metadata": {},
   "outputs": [
    {
     "name": "stdout",
     "output_type": "stream",
     "text": [
      "133566\n"
     ]
    }
   ],
   "source": [
    "dataset = torchvision.datasets.ImageFolder(r'T:\\my_programs\\Math_recognition\\TRAIN\\dataset_balance'+str(IMAGE_SIZE), transform=train_transform)\n",
    "print(len(dataset))"
   ]
  },
  {
   "cell_type": "code",
   "execution_count": 63,
   "id": "59c245a7",
   "metadata": {},
   "outputs": [
    {
     "data": {
      "text/plain": [
       "['(',\n",
       " ')',\n",
       " '+',\n",
       " ',',\n",
       " '-',\n",
       " '0',\n",
       " '1',\n",
       " '2',\n",
       " '3',\n",
       " '4',\n",
       " '5',\n",
       " '6',\n",
       " '7',\n",
       " '8',\n",
       " '9',\n",
       " '=',\n",
       " 'A',\n",
       " 'C',\n",
       " 'F',\n",
       " 'I-',\n",
       " 'alpha',\n",
       " 'and',\n",
       " 'beta',\n",
       " 'delta',\n",
       " 'equal',\n",
       " 'exists',\n",
       " 'forall',\n",
       " 'gamma',\n",
       " 'lambda',\n",
       " 'mu',\n",
       " 'not',\n",
       " 'omega',\n",
       " 'or',\n",
       " 'phi',\n",
       " 'pi',\n",
       " 'psi',\n",
       " 'rightarrow',\n",
       " 'sigma',\n",
       " 'tau',\n",
       " 'theta',\n",
       " 'upsilon',\n",
       " 'x',\n",
       " 'y',\n",
       " 'z']"
      ]
     },
     "execution_count": 63,
     "metadata": {},
     "output_type": "execute_result"
    }
   ],
   "source": [
    "classes_dict = dataset.class_to_idx\n",
    "classes = []\n",
    "for key in classes_dict.keys():\n",
    "    classes.append(str(key))\n",
    "classes.sort()\n",
    "classes"
   ]
  },
  {
   "cell_type": "code",
   "execution_count": 64,
   "id": "57fb51bd",
   "metadata": {},
   "outputs": [
    {
     "data": {
      "text/plain": [
       "44"
      ]
     },
     "execution_count": 64,
     "metadata": {},
     "output_type": "execute_result"
    }
   ],
   "source": [
    "# classes = ['(', ')', ',', '-', \n",
    "#                    '0', '1', '2', '3', '4', '5', '6', '7', '8', '9', \n",
    "#                    'A', '[', 'α', 'and', 'β', '∃', 'F', '∀', \n",
    "#                    'γ', 'λ', 'μ', 'ω', 'or', 'φ', '→', \n",
    "#                    'σ', 'sqrt', 'θ', 'v', 'x', 'y', 'z']\n",
    "\n",
    "NUM_CLASSES = len(classes)\n",
    "\n",
    "def map_pred(ind):\n",
    "    if ind < NUM_CLASSES:\n",
    "        return classes[ind]\n",
    "    return 'ERROR MAPPIMG'\n",
    "\n",
    "NUM_CLASSES"
   ]
  },
  {
   "cell_type": "code",
   "execution_count": 65,
   "id": "0f9e5b8e",
   "metadata": {},
   "outputs": [
    {
     "data": {
      "text/plain": [
       "device(type='cuda', index=0)"
      ]
     },
     "execution_count": 65,
     "metadata": {},
     "output_type": "execute_result"
    }
   ],
   "source": [
    "device = torch.device('cuda:0' if torch.cuda.is_available() else 'cpu')\n",
    "#device = 'cpu'\n",
    "device"
   ]
  },
  {
   "cell_type": "code",
   "execution_count": 66,
   "id": "e998c95a",
   "metadata": {},
   "outputs": [],
   "source": [
    "def add_contrast(x, factor):\n",
    "    return transforms.functional.adjust_contrast(x, factor)"
   ]
  },
  {
   "cell_type": "code",
   "execution_count": 67,
   "id": "20e6de95",
   "metadata": {},
   "outputs": [
    {
     "name": "stdout",
     "output_type": "stream",
     "text": [
      "tensor(0.9759) tensor(0.1290)\n"
     ]
    }
   ],
   "source": [
    "mean, std = dataset[0][0].mean(), dataset[0][0].std()\n",
    "print(mean, std)"
   ]
  },
  {
   "cell_type": "code",
   "execution_count": null,
   "id": "2ca48cdf",
   "metadata": {},
   "outputs": [],
   "source": []
  },
  {
   "cell_type": "code",
   "execution_count": 68,
   "id": "df59ecba",
   "metadata": {},
   "outputs": [],
   "source": [
    "def train_val_dataset(dataset, val_split=0.2):\n",
    "    train_idx, val_idx = train_test_split(\n",
    "        list(range(len(dataset))), \n",
    "        test_size=val_split,\n",
    "        stratify=dataset.targets,\n",
    "        )\n",
    "    datasets = {}\n",
    "    datasets['train'] = Subset(dataset, train_idx)\n",
    "    datasets['val'] = Subset(dataset, val_idx)\n",
    "    return datasets"
   ]
  },
  {
   "cell_type": "code",
   "execution_count": 69,
   "id": "cff00530",
   "metadata": {},
   "outputs": [
    {
     "name": "stdout",
     "output_type": "stream",
     "text": [
      "<class 'torch.utils.data.dataset.Subset'>\n",
      "26714\n"
     ]
    }
   ],
   "source": [
    "datasets = train_val_dataset(dataset)\n",
    "print(type(datasets['train']))\n",
    "print(len(datasets['val']))\n",
    "# The original dataset is avail\n"
   ]
  },
  {
   "cell_type": "code",
   "execution_count": 70,
   "id": "3ba81579",
   "metadata": {},
   "outputs": [
    {
     "name": "stdout",
     "output_type": "stream",
     "text": [
      "Dataset ImageFolder\n",
      "    Number of datapoints: 133566\n",
      "    Root location: T:\\my_programs\\Math_recognition\\TRAIN\\dataset_balance112\n",
      "    StandardTransform\n",
      "Transform: Compose(\n",
      "                 Grayscale(num_output_channels=1)\n",
      "                 Resize(size=[112, 112], interpolation=InterpolationMode.BILINEAR, antialias=warn)\n",
      "                 ToTensor()\n",
      "           )\n"
     ]
    }
   ],
   "source": [
    "print(dataset)"
   ]
  },
  {
   "cell_type": "code",
   "execution_count": null,
   "id": "65ff2203",
   "metadata": {},
   "outputs": [],
   "source": []
  },
  {
   "cell_type": "code",
   "execution_count": 71,
   "id": "e1f99cb4",
   "metadata": {},
   "outputs": [
    {
     "name": "stdout",
     "output_type": "stream",
     "text": [
      "26714\n",
      "31\n"
     ]
    },
    {
     "data": {
      "image/jpeg": "[encoded data removed]",
      "image/png": "[encoded data removed]",
      "text/plain": [
       "<PIL.Image.Image image mode=L size=112x112>"
      ]
     },
     "metadata": {},
     "output_type": "display_data"
    }
   ],
   "source": [
    "# training dataset\n",
    "train_dataset = datasets['train']\n",
    "# validation dataset\n",
    "valid_dataset = (datasets['val'])\n",
    "# training data loaders\n",
    "train_loader = torch.utils.data.DataLoader(\n",
    "    train_dataset, batch_size=BATCH_SIZE, shuffle=True,\n",
    "    num_workers=6, pin_memory=True\n",
    ")\n",
    "# validation data loaders\n",
    "valid_loader = torch.utils.data.DataLoader(\n",
    "    valid_dataset, batch_size=BATCH_SIZE, shuffle=False,\n",
    "    num_workers=6, pin_memory=True\n",
    ")\n",
    "# training data loaders\n",
    "\n",
    "train_dataset\n",
    "print(len(valid_dataset))\n",
    "print(valid_dataset[15551][1])\n",
    "#print(valid_dataset.dataset.targets)\n",
    "aaa = transforms.ToPILImage()\n",
    "display(aaa(valid_dataset[112][0]))"
   ]
  },
  {
   "cell_type": "code",
   "execution_count": 72,
   "id": "554ce12d",
   "metadata": {},
   "outputs": [
    {
     "name": "stdout",
     "output_type": "stream",
     "text": [
      "Counter({35: 2845, 22: 2717, 31: 2686, 30: 2674, 34: 2658, 42: 2645, 18: 2630, 36: 2629, 26: 2621, 20: 2605, 9: 2602, 40: 2587, 24: 2578, 13: 2572, 39: 2563, 2: 2558, 41: 2558, 6: 2549, 29: 2548, 0: 2539, 1: 2539, 11: 2534, 33: 2534, 5: 2534, 7: 2520, 27: 2518, 25: 2515, 12: 2510, 14: 2510, 15: 2510, 10: 2499, 8: 2496, 4: 2496, 17: 2495, 43: 2472, 21: 2466, 19: 2458, 16: 2458, 32: 2352, 3: 1525, 23: 1502, 37: 1470, 28: 1350, 38: 1225})\n",
      "Counter({35: 711, 22: 679, 31: 672, 30: 668, 34: 665, 42: 661, 18: 658, 36: 657, 26: 655, 20: 651, 9: 650, 40: 647, 24: 644, 13: 643, 39: 641, 41: 640, 2: 640, 6: 637, 29: 637, 0: 635, 1: 635, 33: 634, 5: 634, 11: 633, 27: 630, 7: 630, 25: 629, 15: 628, 14: 628, 12: 627, 10: 625, 4: 624, 8: 624, 17: 624, 43: 618, 21: 617, 19: 614, 16: 614, 32: 588, 3: 381, 23: 375, 37: 367, 28: 338, 38: 306})\n"
     ]
    }
   ],
   "source": [
    "from collections import Counter\n",
    "#train_classes = [label for _, label in valid_dataset]\n",
    "#Counter(train_classes)\n",
    "train_classes = [dataset.targets[i] for i in train_dataset.indices]\n",
    "valid_classes = [dataset.targets[i] for i in valid_dataset.indices]\n",
    "print(Counter(train_classes))\n",
    "print(Counter(valid_classes))\n"
   ]
  },
  {
   "cell_type": "code",
   "execution_count": 73,
   "id": "249dbfe8",
   "metadata": {},
   "outputs": [
    {
     "name": "stdout",
     "output_type": "stream",
     "text": [
      "{0: 3174, 1: 3174, 2: 3198, 3: 1906, 4: 3120, 5: 3168, 6: 3186, 7: 3150, 8: 3120, 9: 3252, 10: 3124, 11: 3167, 12: 3137, 13: 3215, 14: 3138, 15: 3138, 16: 3072, 17: 3119, 18: 3288, 19: 3072, 20: 3256, 21: 3083, 22: 3396, 23: 1877, 24: 3222, 25: 3144, 26: 3276, 27: 3148, 28: 1688, 29: 3185, 30: 3342, 31: 3358, 32: 2940, 33: 3168, 34: 3323, 35: 3556, 36: 3286, 37: 1837, 38: 1531, 39: 3204, 40: 3234, 41: 3198, 42: 3306, 43: 3090}\n"
     ]
    }
   ],
   "source": [
    "d = dict(Counter(valid_dataset.dataset.targets))\n",
    "print(d)"
   ]
  },
  {
   "cell_type": "code",
   "execution_count": 74,
   "id": "8304083c",
   "metadata": {},
   "outputs": [
    {
     "data": {
      "text/plain": [
       "<Axes: ylabel='Сharactrs'>"
      ]
     },
     "execution_count": 74,
     "metadata": {},
     "output_type": "execute_result"
    },
    {
     "data": {
      "image/png": "[encoded data removed]",
      "text/plain": [
       "<Figure size 1000x1000 with 1 Axes>"
      ]
     },
     "metadata": {},
     "output_type": "display_data"
    }
   ],
   "source": [
    "import pandas as pd\n",
    "df = pd.Series(data=d,name='Сharactrs')    \n",
    "df.plot(labels=classes,kind='pie',figsize=(10,10))"
   ]
  },
  {
   "cell_type": "code",
   "execution_count": null,
   "id": "f1950497",
   "metadata": {},
   "outputs": [],
   "source": []
  },
  {
   "cell_type": "code",
   "execution_count": 75,
   "id": "b8e71525",
   "metadata": {},
   "outputs": [],
   "source": [
    "# training\n",
    "def train(model, trainloader, optimizer, loss_function):\n",
    "    model.train()\n",
    "    print('Training')\n",
    "    train_running_loss = 0.0\n",
    "    train_running_correct = 0\n",
    "    counter = 0\n",
    "    for i, data in tqdm(enumerate(trainloader), total=int(len(trainloader))):\n",
    "        counter += 1\n",
    "        optimizer.zero_grad()\n",
    "        x, y = data\n",
    "        x = x.to(device)      \n",
    "        y = y.to(device)       \n",
    "        outputs = model.forward(x)\n",
    "        loss = loss_function(outputs, y)\n",
    "        train_running_loss += loss.item()\n",
    "        _, preds = torch.max(outputs.data, 1)\n",
    "        train_running_correct += (preds == y).sum().item()\n",
    "        loss.backward()\n",
    "        optimizer.step()\n",
    "    \n",
    "    # loss and accuracy for the complete epoch\n",
    "    epoch_loss = train_running_loss / counter\n",
    "    epoch_acc = 100. * (train_running_correct / len(trainloader.dataset))\n",
    "    return epoch_loss, epoch_acc"
   ]
  },
  {
   "cell_type": "code",
   "execution_count": 76,
   "id": "58c52970",
   "metadata": {},
   "outputs": [],
   "source": [
    "def validate(model, testloader, loss_function):\n",
    "    model.eval()\n",
    "    print('Validation')\n",
    "    valid_running_loss = 0.0\n",
    "    valid_running_correct = 0\n",
    "    counter = 0\n",
    "    with torch.no_grad():\n",
    "        for i, data in tqdm(enumerate(testloader), total=int(len(testloader))):\n",
    "            counter += 1\n",
    "            x, y = data\n",
    "            x = x.to(device)      \n",
    "            y = y.to(device)\n",
    "            # forward pass\n",
    "            outputs = model(x)\n",
    "            # calculate the loss\n",
    "            loss = loss_function(outputs, y)\n",
    "            valid_running_loss += loss.item()\n",
    "            # calculate the accuracy\n",
    "            _, preds = torch.max(outputs.data, 1)\n",
    "            valid_running_correct += (preds == y).sum().item()\n",
    "        \n",
    "    # loss and accuracy for the complete epoch\n",
    "    epoch_loss = valid_running_loss / counter\n",
    "    epoch_acc = 100. * (valid_running_correct / len(testloader.dataset))\n",
    "    return epoch_loss, epoch_acc"
   ]
  },
  {
   "cell_type": "code",
   "execution_count": 77,
   "id": "301b7f12",
   "metadata": {},
   "outputs": [
    {
     "name": "stdout",
     "output_type": "stream",
     "text": [
      "44\n"
     ]
    },
    {
     "data": {
      "text/plain": [
       "models.MathNet112.MathNet112"
      ]
     },
     "execution_count": 77,
     "metadata": {},
     "output_type": "execute_result"
    }
   ],
   "source": [
    "# if (IMAGE_SIZE == 56):\n",
    "#     model = mnt56.MathNet56()\n",
    "# elif (IMAGE_SIZE == 224):\n",
    "#     model = mnt.MathNet()\n",
    "\n",
    "model = mnt112.MathNet112()\n",
    "\n",
    "print(mnt.NUM_CLASSES)\n",
    "\n",
    "torch.cuda.empty_cache()\n",
    "\n",
    "device = torch.device('cuda:0' if torch.cuda.is_available() else 'cpu')\n",
    "#device = 'cpu'\n",
    "model = model.to(device)\n",
    "device\n",
    "type(model)"
   ]
  },
  {
   "cell_type": "code",
   "execution_count": 78,
   "id": "49023093",
   "metadata": {},
   "outputs": [],
   "source": [
    "loss = torch.nn.CrossEntropyLoss()\n",
    "optimizer = torch.optim.Adam(model.parameters(), lr=1.0e-4)"
   ]
  },
  {
   "cell_type": "code",
   "execution_count": 79,
   "id": "a65daf13",
   "metadata": {},
   "outputs": [],
   "source": [
    "def save_plots(train_acc, valid_acc, train_loss, valid_loss, label=''):\n",
    "    \"\"\"\n",
    "    Function to save the loss and accuracy plots to disk.\n",
    "    \"\"\"\n",
    "    Path('outputs').mkdir(parents=True, exist_ok=True)\n",
    "    # accuracy plots\n",
    "    plt.figure(figsize=(10, 7))\n",
    "    plt.plot(\n",
    "        train_acc, color='green', linestyle='-', \n",
    "        label='train accuracy'\n",
    "    )\n",
    "    plt.plot(\n",
    "        valid_acc, color='blue', linestyle='-', \n",
    "        label='validataion accuracy'\n",
    "    )\n",
    "    plt.xlabel('Epochs')\n",
    "    plt.ylabel('Accuracy')\n",
    "    plt.legend()\n",
    "    plt.savefig('outputs/mathnet'+str(IMAGE_SIZE)+'_accuracy'+label+'.png')\n",
    "    \n",
    "    # loss plots\n",
    "    plt.figure(figsize=(10, 7))\n",
    "    plt.plot(\n",
    "        train_loss, color='orange', linestyle='-', \n",
    "        label='train loss'\n",
    "    )\n",
    "    plt.plot(\n",
    "        valid_loss, color='red', linestyle='-', \n",
    "        label='validataion loss'\n",
    "    )\n",
    "    plt.xlabel('Epochs')\n",
    "    plt.ylabel('Loss')\n",
    "    plt.legend()\n",
    "    plt.savefig('outputs/mathnet'+str(IMAGE_SIZE)+'_loss'+label+'.png')"
   ]
  },
  {
   "cell_type": "code",
   "execution_count": 80,
   "id": "3888f251",
   "metadata": {
    "scrolled": true
   },
   "outputs": [
    {
     "name": "stdout",
     "output_type": "stream",
     "text": [
      "[INFO]: Epoch 1 of 31\n",
      "Training\n"
     ]
    },
    {
     "name": "stderr",
     "output_type": "stream",
     "text": [
      "100%|██████████| 668/668 [01:49<00:00,  6.13it/s]\n"
     ]
    },
    {
     "name": "stdout",
     "output_type": "stream",
     "text": [
      "Validation\n"
     ]
    },
    {
     "name": "stderr",
     "output_type": "stream",
     "text": [
      "100%|██████████| 167/167 [00:26<00:00,  6.28it/s]\n"
     ]
    },
    {
     "name": "stdout",
     "output_type": "stream",
     "text": [
      "Training loss: 0.636, training acc: 87.047\n",
      "Validation loss: 0.156, validation acc: 96.478\n",
      "--------------------------------------------------\n",
      "[INFO]: Epoch 2 of 31\n",
      "Training\n"
     ]
    },
    {
     "name": "stderr",
     "output_type": "stream",
     "text": [
      "100%|██████████| 668/668 [00:31<00:00, 21.27it/s]\n"
     ]
    },
    {
     "name": "stdout",
     "output_type": "stream",
     "text": [
      "Validation\n"
     ]
    },
    {
     "name": "stderr",
     "output_type": "stream",
     "text": [
      "100%|██████████| 167/167 [00:03<00:00, 48.28it/s]\n"
     ]
    },
    {
     "name": "stdout",
     "output_type": "stream",
     "text": [
      "Training loss: 0.122, training acc: 97.412\n",
      "Validation loss: 0.090, validation acc: 97.694\n",
      "--------------------------------------------------\n",
      "[INFO]: Epoch 3 of 31\n",
      "Training\n"
     ]
    },
    {
     "name": "stderr",
     "output_type": "stream",
     "text": [
      "100%|██████████| 668/668 [00:31<00:00, 21.51it/s]\n"
     ]
    },
    {
     "name": "stdout",
     "output_type": "stream",
     "text": [
      "Validation\n"
     ]
    },
    {
     "name": "stderr",
     "output_type": "stream",
     "text": [
      "100%|██████████| 167/167 [00:03<00:00, 50.77it/s]\n"
     ]
    },
    {
     "name": "stdout",
     "output_type": "stream",
     "text": [
      "Training loss: 0.082, training acc: 98.110\n",
      "Validation loss: 0.085, validation acc: 97.720\n",
      "--------------------------------------------------\n",
      "[INFO]: Epoch 4 of 31\n",
      "Training\n"
     ]
    },
    {
     "name": "stderr",
     "output_type": "stream",
     "text": [
      "100%|██████████| 668/668 [00:31<00:00, 21.33it/s]\n"
     ]
    },
    {
     "name": "stdout",
     "output_type": "stream",
     "text": [
      "Validation\n"
     ]
    },
    {
     "name": "stderr",
     "output_type": "stream",
     "text": [
      "100%|██████████| 167/167 [00:03<00:00, 48.35it/s]\n"
     ]
    },
    {
     "name": "stdout",
     "output_type": "stream",
     "text": [
      "Training loss: 0.064, training acc: 98.462\n",
      "Validation loss: 0.080, validation acc: 97.709\n",
      "--------------------------------------------------\n",
      "[INFO]: Epoch 5 of 31\n",
      "Training\n"
     ]
    },
    {
     "name": "stderr",
     "output_type": "stream",
     "text": [
      "100%|██████████| 668/668 [00:30<00:00, 21.57it/s]\n"
     ]
    },
    {
     "name": "stdout",
     "output_type": "stream",
     "text": [
      "Validation\n"
     ]
    },
    {
     "name": "stderr",
     "output_type": "stream",
     "text": [
      "100%|██████████| 167/167 [00:03<00:00, 51.35it/s]\n"
     ]
    },
    {
     "name": "stdout",
     "output_type": "stream",
     "text": [
      "Training loss: 0.054, training acc: 98.639\n",
      "Validation loss: 0.065, validation acc: 98.169\n",
      "--------------------------------------------------\n",
      "[INFO]: Epoch 6 of 31\n",
      "Training\n"
     ]
    },
    {
     "name": "stderr",
     "output_type": "stream",
     "text": [
      "100%|██████████| 668/668 [00:30<00:00, 21.57it/s]\n"
     ]
    },
    {
     "name": "stdout",
     "output_type": "stream",
     "text": [
      "Validation\n"
     ]
    },
    {
     "name": "stderr",
     "output_type": "stream",
     "text": [
      "100%|██████████| 167/167 [00:03<00:00, 48.75it/s]\n"
     ]
    },
    {
     "name": "stdout",
     "output_type": "stream",
     "text": [
      "Training loss: 0.048, training acc: 98.819\n",
      "Validation loss: 0.057, validation acc: 98.405\n",
      "--------------------------------------------------\n",
      "[INFO]: Epoch 7 of 31\n",
      "Training\n"
     ]
    },
    {
     "name": "stderr",
     "output_type": "stream",
     "text": [
      "100%|██████████| 668/668 [00:31<00:00, 21.43it/s]\n"
     ]
    },
    {
     "name": "stdout",
     "output_type": "stream",
     "text": [
      "Validation\n"
     ]
    },
    {
     "name": "stderr",
     "output_type": "stream",
     "text": [
      "100%|██████████| 167/167 [00:03<00:00, 48.25it/s]\n"
     ]
    },
    {
     "name": "stdout",
     "output_type": "stream",
     "text": [
      "Training loss: 0.042, training acc: 98.927\n",
      "Validation loss: 0.049, validation acc: 98.619\n",
      "--------------------------------------------------\n",
      "[INFO]: Epoch 8 of 31\n",
      "Training\n"
     ]
    },
    {
     "name": "stderr",
     "output_type": "stream",
     "text": [
      "100%|██████████| 668/668 [00:31<00:00, 21.24it/s]\n"
     ]
    },
    {
     "name": "stdout",
     "output_type": "stream",
     "text": [
      "Validation\n"
     ]
    },
    {
     "name": "stderr",
     "output_type": "stream",
     "text": [
      "100%|██████████| 167/167 [00:03<00:00, 48.75it/s]\n"
     ]
    },
    {
     "name": "stdout",
     "output_type": "stream",
     "text": [
      "Training loss: 0.039, training acc: 98.984\n",
      "Validation loss: 0.062, validation acc: 98.121\n",
      "--------------------------------------------------\n",
      "[INFO]: Epoch 9 of 31\n",
      "Training\n"
     ]
    },
    {
     "name": "stderr",
     "output_type": "stream",
     "text": [
      "100%|██████████| 668/668 [00:31<00:00, 21.02it/s]\n"
     ]
    },
    {
     "name": "stdout",
     "output_type": "stream",
     "text": [
      "Validation\n"
     ]
    },
    {
     "name": "stderr",
     "output_type": "stream",
     "text": [
      "100%|██████████| 167/167 [00:03<00:00, 49.30it/s]\n"
     ]
    },
    {
     "name": "stdout",
     "output_type": "stream",
     "text": [
      "Training loss: 0.036, training acc: 99.050\n",
      "Validation loss: 0.053, validation acc: 98.705\n",
      "--------------------------------------------------\n",
      "[INFO]: Epoch 10 of 31\n",
      "Training\n"
     ]
    },
    {
     "name": "stderr",
     "output_type": "stream",
     "text": [
      "100%|██████████| 668/668 [00:31<00:00, 21.40it/s]\n"
     ]
    },
    {
     "name": "stdout",
     "output_type": "stream",
     "text": [
      "Validation\n"
     ]
    },
    {
     "name": "stderr",
     "output_type": "stream",
     "text": [
      "100%|██████████| 167/167 [00:03<00:00, 48.82it/s]\n"
     ]
    },
    {
     "name": "stdout",
     "output_type": "stream",
     "text": [
      "Training loss: 0.032, training acc: 99.147\n",
      "Validation loss: 0.049, validation acc: 98.671\n",
      "--------------------------------------------------\n",
      "[INFO]: Epoch 11 of 31\n",
      "Training\n"
     ]
    },
    {
     "name": "stderr",
     "output_type": "stream",
     "text": [
      "100%|██████████| 668/668 [00:31<00:00, 21.33it/s]\n"
     ]
    },
    {
     "name": "stdout",
     "output_type": "stream",
     "text": [
      "Validation\n"
     ]
    },
    {
     "name": "stderr",
     "output_type": "stream",
     "text": [
      "100%|██████████| 167/167 [00:03<00:00, 50.84it/s]\n"
     ]
    },
    {
     "name": "stdout",
     "output_type": "stream",
     "text": [
      "Training loss: 0.030, training acc: 99.204\n",
      "Validation loss: 0.046, validation acc: 98.768\n",
      "--------------------------------------------------\n",
      "[INFO]: Epoch 12 of 31\n",
      "Training\n"
     ]
    },
    {
     "name": "stderr",
     "output_type": "stream",
     "text": [
      "100%|██████████| 668/668 [00:31<00:00, 21.42it/s]\n"
     ]
    },
    {
     "name": "stdout",
     "output_type": "stream",
     "text": [
      "Validation\n"
     ]
    },
    {
     "name": "stderr",
     "output_type": "stream",
     "text": [
      "100%|██████████| 167/167 [00:03<00:00, 51.17it/s]\n"
     ]
    },
    {
     "name": "stdout",
     "output_type": "stream",
     "text": [
      "Training loss: 0.026, training acc: 99.277\n",
      "Validation loss: 0.063, validation acc: 98.199\n",
      "--------------------------------------------------\n",
      "[INFO]: Epoch 13 of 31\n",
      "Training\n"
     ]
    },
    {
     "name": "stderr",
     "output_type": "stream",
     "text": [
      "100%|██████████| 668/668 [00:31<00:00, 21.25it/s]\n"
     ]
    },
    {
     "name": "stdout",
     "output_type": "stream",
     "text": [
      "Validation\n"
     ]
    },
    {
     "name": "stderr",
     "output_type": "stream",
     "text": [
      "100%|██████████| 167/167 [00:03<00:00, 49.51it/s]\n"
     ]
    },
    {
     "name": "stdout",
     "output_type": "stream",
     "text": [
      "Training loss: 0.025, training acc: 99.335\n",
      "Validation loss: 0.041, validation acc: 98.941\n",
      "--------------------------------------------------\n",
      "[INFO]: Epoch 14 of 31\n",
      "Training\n"
     ]
    },
    {
     "name": "stderr",
     "output_type": "stream",
     "text": [
      "100%|██████████| 668/668 [00:31<00:00, 21.01it/s]\n"
     ]
    },
    {
     "name": "stdout",
     "output_type": "stream",
     "text": [
      "Validation\n"
     ]
    },
    {
     "name": "stderr",
     "output_type": "stream",
     "text": [
      "100%|██████████| 167/167 [00:03<00:00, 49.25it/s]\n"
     ]
    },
    {
     "name": "stdout",
     "output_type": "stream",
     "text": [
      "Training loss: 0.024, training acc: 99.327\n",
      "Validation loss: 0.042, validation acc: 98.873\n",
      "--------------------------------------------------\n",
      "[INFO]: Epoch 15 of 31\n",
      "Training\n"
     ]
    },
    {
     "name": "stderr",
     "output_type": "stream",
     "text": [
      "100%|██████████| 668/668 [00:31<00:00, 21.17it/s]\n"
     ]
    },
    {
     "name": "stdout",
     "output_type": "stream",
     "text": [
      "Validation\n"
     ]
    },
    {
     "name": "stderr",
     "output_type": "stream",
     "text": [
      "100%|██████████| 167/167 [00:03<00:00, 49.90it/s]\n"
     ]
    },
    {
     "name": "stdout",
     "output_type": "stream",
     "text": [
      "Training loss: 0.022, training acc: 99.420\n",
      "Validation loss: 0.047, validation acc: 98.813\n",
      "--------------------------------------------------\n",
      "[INFO]: Epoch 16 of 31\n",
      "Training\n"
     ]
    },
    {
     "name": "stderr",
     "output_type": "stream",
     "text": [
      "100%|██████████| 668/668 [00:31<00:00, 21.19it/s]\n"
     ]
    },
    {
     "name": "stdout",
     "output_type": "stream",
     "text": [
      "Validation\n"
     ]
    },
    {
     "name": "stderr",
     "output_type": "stream",
     "text": [
      "100%|██████████| 167/167 [00:03<00:00, 50.31it/s]\n"
     ]
    },
    {
     "name": "stdout",
     "output_type": "stream",
     "text": [
      "Training loss: 0.019, training acc: 99.470\n",
      "Validation loss: 0.042, validation acc: 98.911\n",
      "--------------------------------------------------\n",
      "[INFO]: Epoch 17 of 31\n",
      "Training\n"
     ]
    },
    {
     "name": "stderr",
     "output_type": "stream",
     "text": [
      "100%|██████████| 668/668 [00:31<00:00, 21.54it/s]\n"
     ]
    },
    {
     "name": "stdout",
     "output_type": "stream",
     "text": [
      "Validation\n"
     ]
    },
    {
     "name": "stderr",
     "output_type": "stream",
     "text": [
      "100%|██████████| 167/167 [00:04<00:00, 36.27it/s]\n"
     ]
    },
    {
     "name": "stdout",
     "output_type": "stream",
     "text": [
      "Training loss: 0.018, training acc: 99.520\n",
      "Validation loss: 0.044, validation acc: 98.828\n",
      "--------------------------------------------------\n",
      "[INFO]: Epoch 18 of 31\n",
      "Training\n"
     ]
    },
    {
     "name": "stderr",
     "output_type": "stream",
     "text": [
      "100%|██████████| 668/668 [00:31<00:00, 21.40it/s]\n"
     ]
    },
    {
     "name": "stdout",
     "output_type": "stream",
     "text": [
      "Validation\n"
     ]
    },
    {
     "name": "stderr",
     "output_type": "stream",
     "text": [
      "100%|██████████| 167/167 [00:03<00:00, 48.76it/s]\n"
     ]
    },
    {
     "name": "stdout",
     "output_type": "stream",
     "text": [
      "Training loss: 0.018, training acc: 99.540\n",
      "Validation loss: 0.046, validation acc: 98.828\n",
      "--------------------------------------------------\n",
      "[INFO]: Epoch 19 of 31\n",
      "Training\n"
     ]
    },
    {
     "name": "stderr",
     "output_type": "stream",
     "text": [
      "100%|██████████| 668/668 [00:31<00:00, 21.44it/s]\n"
     ]
    },
    {
     "name": "stdout",
     "output_type": "stream",
     "text": [
      "Validation\n"
     ]
    },
    {
     "name": "stderr",
     "output_type": "stream",
     "text": [
      "100%|██████████| 167/167 [00:03<00:00, 46.25it/s]\n"
     ]
    },
    {
     "name": "stdout",
     "output_type": "stream",
     "text": [
      "Training loss: 0.016, training acc: 99.554\n",
      "Validation loss: 0.045, validation acc: 98.892\n",
      "--------------------------------------------------\n",
      "[INFO]: Epoch 20 of 31\n",
      "Training\n"
     ]
    },
    {
     "name": "stderr",
     "output_type": "stream",
     "text": [
      "100%|██████████| 668/668 [00:31<00:00, 21.20it/s]\n"
     ]
    },
    {
     "name": "stdout",
     "output_type": "stream",
     "text": [
      "Validation\n"
     ]
    },
    {
     "name": "stderr",
     "output_type": "stream",
     "text": [
      "100%|██████████| 167/167 [00:03<00:00, 49.25it/s]\n"
     ]
    },
    {
     "name": "stdout",
     "output_type": "stream",
     "text": [
      "Training loss: 0.016, training acc: 99.562\n",
      "Validation loss: 0.042, validation acc: 98.888\n",
      "--------------------------------------------------\n",
      "[INFO]: Epoch 21 of 31\n",
      "Training\n"
     ]
    },
    {
     "name": "stderr",
     "output_type": "stream",
     "text": [
      "100%|██████████| 668/668 [00:31<00:00, 21.14it/s]\n"
     ]
    },
    {
     "name": "stdout",
     "output_type": "stream",
     "text": [
      "Validation\n"
     ]
    },
    {
     "name": "stderr",
     "output_type": "stream",
     "text": [
      "100%|██████████| 167/167 [00:03<00:00, 49.44it/s]\n"
     ]
    },
    {
     "name": "stdout",
     "output_type": "stream",
     "text": [
      "Training loss: 0.014, training acc: 99.608\n",
      "Validation loss: 0.046, validation acc: 98.802\n",
      "--------------------------------------------------\n",
      "[INFO]: Epoch 22 of 31\n",
      "Training\n"
     ]
    },
    {
     "name": "stderr",
     "output_type": "stream",
     "text": [
      "100%|██████████| 668/668 [00:31<00:00, 21.47it/s]\n"
     ]
    },
    {
     "name": "stdout",
     "output_type": "stream",
     "text": [
      "Validation\n"
     ]
    },
    {
     "name": "stderr",
     "output_type": "stream",
     "text": [
      "100%|██████████| 167/167 [00:03<00:00, 49.69it/s]\n"
     ]
    },
    {
     "name": "stdout",
     "output_type": "stream",
     "text": [
      "Training loss: 0.013, training acc: 99.659\n",
      "Validation loss: 0.043, validation acc: 98.903\n",
      "--------------------------------------------------\n",
      "[INFO]: Epoch 23 of 31\n",
      "Training\n"
     ]
    },
    {
     "name": "stderr",
     "output_type": "stream",
     "text": [
      "100%|██████████| 668/668 [00:31<00:00, 21.40it/s]\n"
     ]
    },
    {
     "name": "stdout",
     "output_type": "stream",
     "text": [
      "Validation\n"
     ]
    },
    {
     "name": "stderr",
     "output_type": "stream",
     "text": [
      "100%|██████████| 167/167 [00:03<00:00, 48.93it/s]\n"
     ]
    },
    {
     "name": "stdout",
     "output_type": "stream",
     "text": [
      "Training loss: 0.014, training acc: 99.611\n",
      "Validation loss: 0.039, validation acc: 99.012\n",
      "--------------------------------------------------\n",
      "[INFO]: Epoch 24 of 31\n",
      "Training\n"
     ]
    },
    {
     "name": "stderr",
     "output_type": "stream",
     "text": [
      "100%|██████████| 668/668 [00:31<00:00, 21.43it/s]\n"
     ]
    },
    {
     "name": "stdout",
     "output_type": "stream",
     "text": [
      "Validation\n"
     ]
    },
    {
     "name": "stderr",
     "output_type": "stream",
     "text": [
      "100%|██████████| 167/167 [00:03<00:00, 48.88it/s]\n"
     ]
    },
    {
     "name": "stdout",
     "output_type": "stream",
     "text": [
      "Training loss: 0.012, training acc: 99.682\n",
      "Validation loss: 0.040, validation acc: 99.049\n",
      "--------------------------------------------------\n",
      "[INFO]: Epoch 25 of 31\n",
      "Training\n"
     ]
    },
    {
     "name": "stderr",
     "output_type": "stream",
     "text": [
      "100%|██████████| 668/668 [00:31<00:00, 21.38it/s]\n"
     ]
    },
    {
     "name": "stdout",
     "output_type": "stream",
     "text": [
      "Validation\n"
     ]
    },
    {
     "name": "stderr",
     "output_type": "stream",
     "text": [
      "100%|██████████| 167/167 [00:03<00:00, 49.86it/s]\n"
     ]
    },
    {
     "name": "stdout",
     "output_type": "stream",
     "text": [
      "Training loss: 0.012, training acc: 99.670\n",
      "Validation loss: 0.042, validation acc: 99.004\n",
      "--------------------------------------------------\n",
      "[INFO]: Epoch 26 of 31\n",
      "Training\n"
     ]
    },
    {
     "name": "stderr",
     "output_type": "stream",
     "text": [
      "100%|██████████| 668/668 [00:31<00:00, 21.34it/s]\n"
     ]
    },
    {
     "name": "stdout",
     "output_type": "stream",
     "text": [
      "Validation\n"
     ]
    },
    {
     "name": "stderr",
     "output_type": "stream",
     "text": [
      "100%|██████████| 167/167 [00:03<00:00, 49.03it/s]\n"
     ]
    },
    {
     "name": "stdout",
     "output_type": "stream",
     "text": [
      "Training loss: 0.011, training acc: 99.722\n",
      "Validation loss: 0.044, validation acc: 98.982\n",
      "--------------------------------------------------\n",
      "[INFO]: Epoch 27 of 31\n",
      "Training\n"
     ]
    },
    {
     "name": "stderr",
     "output_type": "stream",
     "text": [
      "100%|██████████| 668/668 [00:32<00:00, 20.84it/s]\n"
     ]
    },
    {
     "name": "stdout",
     "output_type": "stream",
     "text": [
      "Validation\n"
     ]
    },
    {
     "name": "stderr",
     "output_type": "stream",
     "text": [
      "100%|██████████| 167/167 [00:03<00:00, 47.83it/s]\n"
     ]
    },
    {
     "name": "stdout",
     "output_type": "stream",
     "text": [
      "Training loss: 0.012, training acc: 99.679\n",
      "Validation loss: 0.039, validation acc: 99.105\n",
      "--------------------------------------------------\n",
      "[INFO]: Epoch 28 of 31\n",
      "Training\n"
     ]
    },
    {
     "name": "stderr",
     "output_type": "stream",
     "text": [
      "100%|██████████| 668/668 [00:31<00:00, 21.16it/s]\n"
     ]
    },
    {
     "name": "stdout",
     "output_type": "stream",
     "text": [
      "Validation\n"
     ]
    },
    {
     "name": "stderr",
     "output_type": "stream",
     "text": [
      "100%|██████████| 167/167 [00:03<00:00, 50.01it/s]\n"
     ]
    },
    {
     "name": "stdout",
     "output_type": "stream",
     "text": [
      "Training loss: 0.009, training acc: 99.758\n",
      "Validation loss: 0.043, validation acc: 98.982\n",
      "--------------------------------------------------\n",
      "[INFO]: Epoch 29 of 31\n",
      "Training\n"
     ]
    },
    {
     "name": "stderr",
     "output_type": "stream",
     "text": [
      "100%|██████████| 668/668 [00:31<00:00, 21.46it/s]\n"
     ]
    },
    {
     "name": "stdout",
     "output_type": "stream",
     "text": [
      "Validation\n"
     ]
    },
    {
     "name": "stderr",
     "output_type": "stream",
     "text": [
      "100%|██████████| 167/167 [00:03<00:00, 49.27it/s]\n"
     ]
    },
    {
     "name": "stdout",
     "output_type": "stream",
     "text": [
      "Training loss: 0.010, training acc: 99.730\n",
      "Validation loss: 0.040, validation acc: 99.075\n",
      "--------------------------------------------------\n",
      "[INFO]: Epoch 30 of 31\n",
      "Training\n"
     ]
    },
    {
     "name": "stderr",
     "output_type": "stream",
     "text": [
      "100%|██████████| 668/668 [00:31<00:00, 21.42it/s]\n"
     ]
    },
    {
     "name": "stdout",
     "output_type": "stream",
     "text": [
      "Validation\n"
     ]
    },
    {
     "name": "stderr",
     "output_type": "stream",
     "text": [
      "100%|██████████| 167/167 [00:03<00:00, 51.93it/s]\n"
     ]
    },
    {
     "name": "stdout",
     "output_type": "stream",
     "text": [
      "Training loss: 0.009, training acc: 99.766\n",
      "Validation loss: 0.038, validation acc: 99.094\n",
      "--------------------------------------------------\n",
      "[INFO]: Epoch 31 of 31\n",
      "Training\n"
     ]
    },
    {
     "name": "stderr",
     "output_type": "stream",
     "text": [
      "100%|██████████| 668/668 [00:31<00:00, 21.53it/s]\n"
     ]
    },
    {
     "name": "stdout",
     "output_type": "stream",
     "text": [
      "Validation\n"
     ]
    },
    {
     "name": "stderr",
     "output_type": "stream",
     "text": [
      "100%|██████████| 167/167 [00:03<00:00, 51.01it/s]\n"
     ]
    },
    {
     "name": "stdout",
     "output_type": "stream",
     "text": [
      "Training loss: 0.009, training acc: 99.750\n",
      "Validation loss: 0.037, validation acc: 99.158\n",
      "--------------------------------------------------\n",
      "TRAINING COMPLETE\n"
     ]
    },
    {
     "data": {
      "image/png": "[encoded data removed]",
      "text/plain": [
       "<Figure size 1000x700 with 1 Axes>"
      ]
     },
     "metadata": {},
     "output_type": "display_data"
    },
    {
     "data": {
      "image/png": "[encoded data removed]",
      "text/plain": [
       "<Figure size 1000x700 with 1 Axes>"
      ]
     },
     "metadata": {},
     "output_type": "display_data"
    }
   ],
   "source": [
    "# lists to keep track of losses and accuracies\n",
    "train_loss, valid_loss = [], []\n",
    "train_acc, valid_acc = [], []\n",
    "Path('models/mathnet'+str(IMAGE_SIZE)+'/').mkdir(parents=True, exist_ok=True)\n",
    "# start the training\n",
    "for epoch in range(EPOCHS):\n",
    "    print(f\"[INFO]: Epoch {epoch+1} of {EPOCHS}\")\n",
    "    train_epoch_loss, train_epoch_acc = train(model, train_loader, \n",
    "                                              optimizer, loss)\n",
    "    valid_epoch_loss, valid_epoch_acc = validate(model, valid_loader,  \n",
    "                                                 loss)\n",
    "    train_loss.append(train_epoch_loss)\n",
    "    valid_loss.append(valid_epoch_loss)\n",
    "    train_acc.append(train_epoch_acc)\n",
    "    valid_acc.append(valid_epoch_acc)\n",
    "    print(f\"Training loss: {train_epoch_loss:.3f}, training acc: {train_epoch_acc:.3f}\")\n",
    "    print(f\"Validation loss: {valid_epoch_loss:.3f}, validation acc: {valid_epoch_acc:.3f}\")\n",
    "    print('-'*50)\n",
    "    \n",
    "    torch.save(model.state_dict(), 'models/mathnet'+str(IMAGE_SIZE)+'/mathnet'+str(epoch)+'.ml')\n",
    "    \n",
    "# save the trained model weights\n",
    "torch.save(model.state_dict(), 'models/mathnet'+str(IMAGE_SIZE)+'/mathnet.ml')\n",
    "# save the loss and accuracy plots\n",
    "save_plots(train_acc, valid_acc, train_loss, valid_loss)\n",
    "print('TRAINING COMPLETE')"
   ]
  },
  {
   "cell_type": "code",
   "execution_count": 81,
   "id": "7eb3c72e",
   "metadata": {},
   "outputs": [
    {
     "data": {
      "image/png": "[encoded data removed]",
      "text/plain": [
       "<Figure size 1000x700 with 1 Axes>"
      ]
     },
     "metadata": {},
     "output_type": "display_data"
    },
    {
     "data": {
      "image/png": "[encoded data removed]",
      "text/plain": [
       "<Figure size 1000x700 with 1 Axes>"
      ]
     },
     "metadata": {},
     "output_type": "display_data"
    }
   ],
   "source": [
    "save_plots(train_acc, valid_acc, train_loss, valid_loss)"
   ]
  },
  {
   "cell_type": "code",
   "execution_count": 97,
   "id": "9f79d699",
   "metadata": {},
   "outputs": [
    {
     "data": {
      "image/jpeg": "[encoded data removed]",
      "image/png": "[encoded data removed]",
      "text/plain": [
       "<PIL.Image.Image image mode=L size=112x112>"
      ]
     },
     "metadata": {},
     "output_type": "display_data"
    },
    {
     "name": "stdout",
     "output_type": "stream",
     "text": [
      "tensor([[ -66.8503,  -85.5699,  -53.3339,  -59.4475,  -33.9471,  -96.6395,\n",
      "          -87.8401,  -72.7784,  -73.7729,  -71.3251,  -19.1798,  -62.1498,\n",
      "          -66.1040,  -42.9326,  -70.3330,  -37.1020,  -29.1517,  -46.4220,\n",
      "           90.3373,    2.8140,  -93.2925,  -44.7946,  -13.1607,  -32.4145,\n",
      "          -55.2028,  -67.4356,  -79.4565,  -77.7619,  -80.2365,  -13.6167,\n",
      "          -30.1008,  -84.3851,  -79.8682,  -55.9395,  -45.0445,  -65.8628,\n",
      "          -89.1159,  -43.9881,  -34.0976,  -67.7038,  -80.9657, -101.3744,\n",
      "          -94.6223,  -57.5431]], device='cuda:0', grad_fn=<MulBackward0>) I-\n"
     ]
    }
   ],
   "source": [
    "import cv2\n",
    "from PIL import Image, ImageOps\n",
    "\n",
    "model.eval()\n",
    "\n",
    "img = Image.open(\"TEST/0.jpg\")\n",
    "#print(img.shape)\n",
    "convert_tensor = v2.Compose([\n",
    "    v2.Resize((IMAGE_SIZE,IMAGE_SIZE)),\n",
    "    v2.Grayscale(1),\n",
    "    v2.ToTensor()\n",
    "\n",
    "])        \n",
    "x_image = convert_tensor(img)\n",
    "\n",
    "aaa = v2.ToPILImage()\n",
    "display(aaa(x_image))\n",
    "\n",
    "x_image = x_image.unsqueeze(0).float()\n",
    "x_image = x_image.to(device)\n",
    "\n",
    "pred = model(x_image) \n",
    "print(pred*10, mnt.map_pred(pred.argmax().item()))"
   ]
  },
  {
   "cell_type": "code",
   "execution_count": null,
   "id": "e2f11bae",
   "metadata": {},
   "outputs": [],
   "source": []
  },
  {
   "cell_type": "code",
   "execution_count": 103,
   "id": "6bcf0c64",
   "metadata": {},
   "outputs": [
    {
     "data": {
      "image/jpeg": "[encoded data removed]",
      "image/png": "[encoded data removed]",
      "text/plain": [
       "<PIL.Image.Image image mode=L size=224x224>"
      ]
     },
     "metadata": {},
     "output_type": "display_data"
    },
    {
     "name": "stdout",
     "output_type": "stream",
     "text": [
      "tensor([[ -42.5393,  -72.3712,  -28.3411,  -41.7509,  -52.9598,  -21.7169,\n",
      "          -70.6839,  -74.3687,  -42.0383,  -80.6018,  -75.3945,  -27.0094,\n",
      "          -50.5825,  -26.8767,  -62.7802,   28.7789,  -58.2791,  -53.4932,\n",
      "          -43.9755,  -52.9155,   -2.1509,  -68.3262, -134.2504,  -79.6826,\n",
      "          -86.1411,  -37.0841,  -88.6806,  -66.3178,  -47.5362,  -33.7203,\n",
      "          -86.4411,  -45.2800,  -77.7979,  -62.1349,  -96.1755,  -46.7181,\n",
      "          -82.3336,  -84.2391,  -56.4915,  -72.3470,  -63.1807,  -53.5297,\n",
      "          -71.6791,  -71.6850]], device='cuda:0', grad_fn=<MulBackward0>) A\n"
     ]
    }
   ],
   "source": [
    "import cv2\n",
    "from PIL import Image, ImageOps\n",
    "\n",
    "m = mnt.MathNet()\n",
    "m.load_state_dict(torch.load('T:\\my_programs\\Math_recognition\\models\\mathnet224'+'/mathnet.ml'))\n",
    "device = torch.device('cuda:0' if torch.cuda.is_available() else 'cpu')\n",
    "m = m.to(device)\n",
    "m.eval()\n",
    "\n",
    "img = Image.open(\"TEST/0.jpg\")\n",
    "#print(img.shape)\n",
    "convert_tensor = v2.Compose([\n",
    "    v2.Resize((224,224)),\n",
    "    v2.Grayscale(1),\n",
    "    v2.ToTensor()\n",
    "\n",
    "])        \n",
    "x_image = convert_tensor(img)\n",
    "\n",
    "aaa = v2.ToPILImage()\n",
    "display(aaa(x_image))\n",
    "\n",
    "x_image = x_image.unsqueeze(0).float()\n",
    "x_image = x_image.to(device)\n",
    "\n",
    "pred = m(x_image) \n",
    "print(pred*10, mnt.map_pred(pred.argmax().item()))"
   ]
  },
  {
   "cell_type": "code",
   "execution_count": null,
   "id": "79de3bf2",
   "metadata": {},
   "outputs": [],
   "source": []
  }
 ],
 "metadata": {
  "kernelspec": {
   "display_name": "Python 3 (ipykernel)",
   "language": "python",
   "name": "python3"
  },
  "language_info": {
   "codemirror_mode": {
    "name": "ipython",
    "version": 3
   },
   "file_extension": ".py",
   "mimetype": "text/x-python",
   "name": "python",
   "nbconvert_exporter": "python",
   "pygments_lexer": "ipython3",
   "version": "3.11.7"
  }
 },
 "nbformat": 4,
 "nbformat_minor": 5
}
